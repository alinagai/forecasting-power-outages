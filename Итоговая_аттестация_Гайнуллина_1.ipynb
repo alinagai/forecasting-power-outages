{
  "nbformat": 4,
  "nbformat_minor": 0,
  "metadata": {
    "colab": {
      "provenance": [],
      "authorship_tag": "ABX9TyPraVFNM6dhbbN4lQuukTzi",
      "include_colab_link": true
    },
    "kernelspec": {
      "name": "python3",
      "display_name": "Python 3"
    },
    "language_info": {
      "name": "python"
    }
  },
  "cells": [
    {
      "cell_type": "markdown",
      "metadata": {
        "id": "view-in-github",
        "colab_type": "text"
      },
      "source": [
        "<a href=\"https://colab.research.google.com/github/alinagai/forecasting-power-outages/blob/main/%D0%98%D1%82%D0%BE%D0%B3%D0%BE%D0%B2%D0%B0%D1%8F_%D0%B0%D1%82%D1%82%D0%B5%D1%81%D1%82%D0%B0%D1%86%D0%B8%D1%8F_%D0%93%D0%B0%D0%B9%D0%BD%D1%83%D0%BB%D0%BB%D0%B8%D0%BD%D0%B0_1.ipynb\" target=\"_parent\"><img src=\"https://colab.research.google.com/assets/colab-badge.svg\" alt=\"Open In Colab\"/></a>"
      ]
    },
    {
      "cell_type": "code",
      "execution_count": null,
      "metadata": {
        "id": "x3aUl4OH9sNQ"
      },
      "outputs": [],
      "source": [
        "# Импортируем необходимые библиотеки\n",
        "import pandas as pd\n",
        "import numpy as np\n",
        "import matplotlib.pyplot as plt\n",
        "import seaborn as sns\n",
        "from sklearn.model_selection import train_test_split\n",
        "from sklearn.linear_model import LogisticRegression\n",
        "from sklearn.preprocessing import LabelEncoder, StandardScaler"
      ]
    },
    {
      "cell_type": "code",
      "source": [
        "# создаем датасет\n",
        "df = pd.read_csv('electricity.csv',sep=';')\n",
        "df.head()"
      ],
      "metadata": {
        "colab": {
          "base_uri": "https://localhost:8080/",
          "height": 296
        },
        "id": "wlrdy7_s97PB",
        "outputId": "40301673-0c33-4054-a661-565037914ad2"
      },
      "execution_count": null,
      "outputs": [
        {
          "output_type": "execute_result",
          "data": {
            "text/plain": [
              "  Substation_name      Volt  Num      Locality Month_outage  Temperature  \\\n",
              "0       Чинчурино  В Вл 110    0        Тетюши       январь           -8   \n",
              "1        Макулово    СВ 110    0      Макулово       январь           -9   \n",
              "2       Чинчурино  В Вл 110    0     Чинчурино       январь           -8   \n",
              "3        Макулово    СВ 110    0      Макулово       январь           -8   \n",
              "4    Красновидово       T-1    0  Красновидово       январь           -8   \n",
              "\n",
              "   Wind_speed  Snow  Rain  Thunder  Outcome  \n",
              "0           4     0     0        0        0  \n",
              "1           4     0     0        0        0  \n",
              "2           3     1     0        0        1  \n",
              "3           5     1     0        0        1  \n",
              "4           5     1     0        0        1  "
            ],
            "text/html": [
              "\n",
              "  <div id=\"df-4058ead4-1a2e-4b9f-91f5-733f5910cedd\" class=\"colab-df-container\">\n",
              "    <div>\n",
              "<style scoped>\n",
              "    .dataframe tbody tr th:only-of-type {\n",
              "        vertical-align: middle;\n",
              "    }\n",
              "\n",
              "    .dataframe tbody tr th {\n",
              "        vertical-align: top;\n",
              "    }\n",
              "\n",
              "    .dataframe thead th {\n",
              "        text-align: right;\n",
              "    }\n",
              "</style>\n",
              "<table border=\"1\" class=\"dataframe\">\n",
              "  <thead>\n",
              "    <tr style=\"text-align: right;\">\n",
              "      <th></th>\n",
              "      <th>Substation_name</th>\n",
              "      <th>Volt</th>\n",
              "      <th>Num</th>\n",
              "      <th>Locality</th>\n",
              "      <th>Month_outage</th>\n",
              "      <th>Temperature</th>\n",
              "      <th>Wind_speed</th>\n",
              "      <th>Snow</th>\n",
              "      <th>Rain</th>\n",
              "      <th>Thunder</th>\n",
              "      <th>Outcome</th>\n",
              "    </tr>\n",
              "  </thead>\n",
              "  <tbody>\n",
              "    <tr>\n",
              "      <th>0</th>\n",
              "      <td>Чинчурино</td>\n",
              "      <td>В Вл 110</td>\n",
              "      <td>0</td>\n",
              "      <td>Тетюши</td>\n",
              "      <td>январь</td>\n",
              "      <td>-8</td>\n",
              "      <td>4</td>\n",
              "      <td>0</td>\n",
              "      <td>0</td>\n",
              "      <td>0</td>\n",
              "      <td>0</td>\n",
              "    </tr>\n",
              "    <tr>\n",
              "      <th>1</th>\n",
              "      <td>Макулово</td>\n",
              "      <td>СВ 110</td>\n",
              "      <td>0</td>\n",
              "      <td>Макулово</td>\n",
              "      <td>январь</td>\n",
              "      <td>-9</td>\n",
              "      <td>4</td>\n",
              "      <td>0</td>\n",
              "      <td>0</td>\n",
              "      <td>0</td>\n",
              "      <td>0</td>\n",
              "    </tr>\n",
              "    <tr>\n",
              "      <th>2</th>\n",
              "      <td>Чинчурино</td>\n",
              "      <td>В Вл 110</td>\n",
              "      <td>0</td>\n",
              "      <td>Чинчурино</td>\n",
              "      <td>январь</td>\n",
              "      <td>-8</td>\n",
              "      <td>3</td>\n",
              "      <td>1</td>\n",
              "      <td>0</td>\n",
              "      <td>0</td>\n",
              "      <td>1</td>\n",
              "    </tr>\n",
              "    <tr>\n",
              "      <th>3</th>\n",
              "      <td>Макулово</td>\n",
              "      <td>СВ 110</td>\n",
              "      <td>0</td>\n",
              "      <td>Макулово</td>\n",
              "      <td>январь</td>\n",
              "      <td>-8</td>\n",
              "      <td>5</td>\n",
              "      <td>1</td>\n",
              "      <td>0</td>\n",
              "      <td>0</td>\n",
              "      <td>1</td>\n",
              "    </tr>\n",
              "    <tr>\n",
              "      <th>4</th>\n",
              "      <td>Красновидово</td>\n",
              "      <td>T-1</td>\n",
              "      <td>0</td>\n",
              "      <td>Красновидово</td>\n",
              "      <td>январь</td>\n",
              "      <td>-8</td>\n",
              "      <td>5</td>\n",
              "      <td>1</td>\n",
              "      <td>0</td>\n",
              "      <td>0</td>\n",
              "      <td>1</td>\n",
              "    </tr>\n",
              "  </tbody>\n",
              "</table>\n",
              "</div>\n",
              "    <div class=\"colab-df-buttons\">\n",
              "\n",
              "  <div class=\"colab-df-container\">\n",
              "    <button class=\"colab-df-convert\" onclick=\"convertToInteractive('df-4058ead4-1a2e-4b9f-91f5-733f5910cedd')\"\n",
              "            title=\"Convert this dataframe to an interactive table.\"\n",
              "            style=\"display:none;\">\n",
              "\n",
              "  <svg xmlns=\"http://www.w3.org/2000/svg\" height=\"24px\" viewBox=\"0 -960 960 960\">\n",
              "    <path d=\"M120-120v-720h720v720H120Zm60-500h600v-160H180v160Zm220 220h160v-160H400v160Zm0 220h160v-160H400v160ZM180-400h160v-160H180v160Zm440 0h160v-160H620v160ZM180-180h160v-160H180v160Zm440 0h160v-160H620v160Z\"/>\n",
              "  </svg>\n",
              "    </button>\n",
              "\n",
              "  <style>\n",
              "    .colab-df-container {\n",
              "      display:flex;\n",
              "      gap: 12px;\n",
              "    }\n",
              "\n",
              "    .colab-df-convert {\n",
              "      background-color: #E8F0FE;\n",
              "      border: none;\n",
              "      border-radius: 50%;\n",
              "      cursor: pointer;\n",
              "      display: none;\n",
              "      fill: #1967D2;\n",
              "      height: 32px;\n",
              "      padding: 0 0 0 0;\n",
              "      width: 32px;\n",
              "    }\n",
              "\n",
              "    .colab-df-convert:hover {\n",
              "      background-color: #E2EBFA;\n",
              "      box-shadow: 0px 1px 2px rgba(60, 64, 67, 0.3), 0px 1px 3px 1px rgba(60, 64, 67, 0.15);\n",
              "      fill: #174EA6;\n",
              "    }\n",
              "\n",
              "    .colab-df-buttons div {\n",
              "      margin-bottom: 4px;\n",
              "    }\n",
              "\n",
              "    [theme=dark] .colab-df-convert {\n",
              "      background-color: #3B4455;\n",
              "      fill: #D2E3FC;\n",
              "    }\n",
              "\n",
              "    [theme=dark] .colab-df-convert:hover {\n",
              "      background-color: #434B5C;\n",
              "      box-shadow: 0px 1px 3px 1px rgba(0, 0, 0, 0.15);\n",
              "      filter: drop-shadow(0px 1px 2px rgba(0, 0, 0, 0.3));\n",
              "      fill: #FFFFFF;\n",
              "    }\n",
              "  </style>\n",
              "\n",
              "    <script>\n",
              "      const buttonEl =\n",
              "        document.querySelector('#df-4058ead4-1a2e-4b9f-91f5-733f5910cedd button.colab-df-convert');\n",
              "      buttonEl.style.display =\n",
              "        google.colab.kernel.accessAllowed ? 'block' : 'none';\n",
              "\n",
              "      async function convertToInteractive(key) {\n",
              "        const element = document.querySelector('#df-4058ead4-1a2e-4b9f-91f5-733f5910cedd');\n",
              "        const dataTable =\n",
              "          await google.colab.kernel.invokeFunction('convertToInteractive',\n",
              "                                                    [key], {});\n",
              "        if (!dataTable) return;\n",
              "\n",
              "        const docLinkHtml = 'Like what you see? Visit the ' +\n",
              "          '<a target=\"_blank\" href=https://colab.research.google.com/notebooks/data_table.ipynb>data table notebook</a>'\n",
              "          + ' to learn more about interactive tables.';\n",
              "        element.innerHTML = '';\n",
              "        dataTable['output_type'] = 'display_data';\n",
              "        await google.colab.output.renderOutput(dataTable, element);\n",
              "        const docLink = document.createElement('div');\n",
              "        docLink.innerHTML = docLinkHtml;\n",
              "        element.appendChild(docLink);\n",
              "      }\n",
              "    </script>\n",
              "  </div>\n",
              "\n",
              "\n",
              "<div id=\"df-d53d4a1e-3dbd-4950-99ce-55033fc2c989\">\n",
              "  <button class=\"colab-df-quickchart\" onclick=\"quickchart('df-d53d4a1e-3dbd-4950-99ce-55033fc2c989')\"\n",
              "            title=\"Suggest charts.\"\n",
              "            style=\"display:none;\">\n",
              "\n",
              "<svg xmlns=\"http://www.w3.org/2000/svg\" height=\"24px\"viewBox=\"0 0 24 24\"\n",
              "     width=\"24px\">\n",
              "    <g>\n",
              "        <path d=\"M19 3H5c-1.1 0-2 .9-2 2v14c0 1.1.9 2 2 2h14c1.1 0 2-.9 2-2V5c0-1.1-.9-2-2-2zM9 17H7v-7h2v7zm4 0h-2V7h2v10zm4 0h-2v-4h2v4z\"/>\n",
              "    </g>\n",
              "</svg>\n",
              "  </button>\n",
              "\n",
              "<style>\n",
              "  .colab-df-quickchart {\n",
              "      --bg-color: #E8F0FE;\n",
              "      --fill-color: #1967D2;\n",
              "      --hover-bg-color: #E2EBFA;\n",
              "      --hover-fill-color: #174EA6;\n",
              "      --disabled-fill-color: #AAA;\n",
              "      --disabled-bg-color: #DDD;\n",
              "  }\n",
              "\n",
              "  [theme=dark] .colab-df-quickchart {\n",
              "      --bg-color: #3B4455;\n",
              "      --fill-color: #D2E3FC;\n",
              "      --hover-bg-color: #434B5C;\n",
              "      --hover-fill-color: #FFFFFF;\n",
              "      --disabled-bg-color: #3B4455;\n",
              "      --disabled-fill-color: #666;\n",
              "  }\n",
              "\n",
              "  .colab-df-quickchart {\n",
              "    background-color: var(--bg-color);\n",
              "    border: none;\n",
              "    border-radius: 50%;\n",
              "    cursor: pointer;\n",
              "    display: none;\n",
              "    fill: var(--fill-color);\n",
              "    height: 32px;\n",
              "    padding: 0;\n",
              "    width: 32px;\n",
              "  }\n",
              "\n",
              "  .colab-df-quickchart:hover {\n",
              "    background-color: var(--hover-bg-color);\n",
              "    box-shadow: 0 1px 2px rgba(60, 64, 67, 0.3), 0 1px 3px 1px rgba(60, 64, 67, 0.15);\n",
              "    fill: var(--button-hover-fill-color);\n",
              "  }\n",
              "\n",
              "  .colab-df-quickchart-complete:disabled,\n",
              "  .colab-df-quickchart-complete:disabled:hover {\n",
              "    background-color: var(--disabled-bg-color);\n",
              "    fill: var(--disabled-fill-color);\n",
              "    box-shadow: none;\n",
              "  }\n",
              "\n",
              "  .colab-df-spinner {\n",
              "    border: 2px solid var(--fill-color);\n",
              "    border-color: transparent;\n",
              "    border-bottom-color: var(--fill-color);\n",
              "    animation:\n",
              "      spin 1s steps(1) infinite;\n",
              "  }\n",
              "\n",
              "  @keyframes spin {\n",
              "    0% {\n",
              "      border-color: transparent;\n",
              "      border-bottom-color: var(--fill-color);\n",
              "      border-left-color: var(--fill-color);\n",
              "    }\n",
              "    20% {\n",
              "      border-color: transparent;\n",
              "      border-left-color: var(--fill-color);\n",
              "      border-top-color: var(--fill-color);\n",
              "    }\n",
              "    30% {\n",
              "      border-color: transparent;\n",
              "      border-left-color: var(--fill-color);\n",
              "      border-top-color: var(--fill-color);\n",
              "      border-right-color: var(--fill-color);\n",
              "    }\n",
              "    40% {\n",
              "      border-color: transparent;\n",
              "      border-right-color: var(--fill-color);\n",
              "      border-top-color: var(--fill-color);\n",
              "    }\n",
              "    60% {\n",
              "      border-color: transparent;\n",
              "      border-right-color: var(--fill-color);\n",
              "    }\n",
              "    80% {\n",
              "      border-color: transparent;\n",
              "      border-right-color: var(--fill-color);\n",
              "      border-bottom-color: var(--fill-color);\n",
              "    }\n",
              "    90% {\n",
              "      border-color: transparent;\n",
              "      border-bottom-color: var(--fill-color);\n",
              "    }\n",
              "  }\n",
              "</style>\n",
              "\n",
              "  <script>\n",
              "    async function quickchart(key) {\n",
              "      const quickchartButtonEl =\n",
              "        document.querySelector('#' + key + ' button');\n",
              "      quickchartButtonEl.disabled = true;  // To prevent multiple clicks.\n",
              "      quickchartButtonEl.classList.add('colab-df-spinner');\n",
              "      try {\n",
              "        const charts = await google.colab.kernel.invokeFunction(\n",
              "            'suggestCharts', [key], {});\n",
              "      } catch (error) {\n",
              "        console.error('Error during call to suggestCharts:', error);\n",
              "      }\n",
              "      quickchartButtonEl.classList.remove('colab-df-spinner');\n",
              "      quickchartButtonEl.classList.add('colab-df-quickchart-complete');\n",
              "    }\n",
              "    (() => {\n",
              "      let quickchartButtonEl =\n",
              "        document.querySelector('#df-d53d4a1e-3dbd-4950-99ce-55033fc2c989 button');\n",
              "      quickchartButtonEl.style.display =\n",
              "        google.colab.kernel.accessAllowed ? 'block' : 'none';\n",
              "    })();\n",
              "  </script>\n",
              "</div>\n",
              "    </div>\n",
              "  </div>\n"
            ]
          },
          "metadata": {},
          "execution_count": 209
        }
      ]
    },
    {
      "cell_type": "code",
      "source": [
        "df.isna().sum()"
      ],
      "metadata": {
        "colab": {
          "base_uri": "https://localhost:8080/"
        },
        "id": "3WTo7l7lhaI_",
        "outputId": "2b1b15a8-e4c4-4176-9db0-4b616559d165"
      },
      "execution_count": null,
      "outputs": [
        {
          "output_type": "execute_result",
          "data": {
            "text/plain": [
              "Substation_name    0\n",
              "Volt               0\n",
              "Num                0\n",
              "Locality           0\n",
              "Month_outage       0\n",
              "Temperature        0\n",
              "Wind_speed         0\n",
              "Snow               0\n",
              "Rain               0\n",
              "Thunder            0\n",
              "Outcome            0\n",
              "dtype: int64"
            ]
          },
          "metadata": {},
          "execution_count": 3
        }
      ]
    },
    {
      "cell_type": "code",
      "source": [
        "unique_values = df[\"Substation_name\"].unique()\n",
        "\n",
        "# Печать уникальных значений\n",
        "for value in unique_values:\n",
        "    print(value)"
      ],
      "metadata": {
        "colab": {
          "base_uri": "https://localhost:8080/"
        },
        "id": "qzpKXZb92CN1",
        "outputId": "0f1827e5-37d4-4ab0-b8ae-28afd7950725"
      },
      "execution_count": null,
      "outputs": [
        {
          "output_type": "stream",
          "name": "stdout",
          "text": [
            "Чинчурино\n",
            "Макулово\n",
            "Красновидово\n",
            "М.Цильна\n",
            "Апастово\n",
            "Куралово\n",
            "Чечкабы\n",
            "Подберезье\n",
            "Раково\n",
            "Тарханы\n",
            "Ямбухтино\n",
            "Федоровская\n",
            "Печищи\n",
            "Бишбатман\n",
            "Нурлаты\n",
            "Кайбицы\n",
            "Дрожжаное\n",
            "Камское устье\n",
            "Киять\n",
            "Дружба\n",
            "Восход\n",
            "Тетюши\n",
            "Майданы\n",
            "Караталга\n",
            "Ключищи\n",
            "Каратун\n",
            "Савино\n",
            "Свияжск\n",
            "Буинск\n",
            "Бурнашево\n",
            "Б.Акса\n",
            "Западная\n",
            "Матюшино\n",
            " Кайбицы\n",
            "Рассвет\n",
            "Ключи\n",
            "Чечкабы \n",
            "Янгельдино\n",
            "Бакырчи\n",
            "Рудник\n",
            "Фёдоровская\n",
            "Ишеевка\n",
            "Студенец\n",
            "Нижний Услон\n",
            "Подберезье \n",
            "Энтуганы\n",
            "Камское Устье\n",
            "Федорвская\n",
            "Н.Услон\n",
            "Малая Буинка\n",
            "Исаково\n",
            " М.Цильна\n",
            "М. Цильна\n",
            "Верхний Услон\n",
            "Интернат\n",
            "Водокачка\n",
            "Дуслык\n",
            "Малая-Буинка\n",
            "Камское устье \n",
            "Тат.Бурнашево\n"
          ]
        }
      ]
    },
    {
      "cell_type": "code",
      "source": [
        "df.loc[df[\"Substation_name\"] == \" Кайбицы\", \"Substation_name\"] = \"Кайбицы\"\n",
        "df.loc[df[\"Substation_name\"] == \"Кайбицы \", \"Substation_name\"] = \"Кайбицы\""
      ],
      "metadata": {
        "id": "29npzc7w1iIW"
      },
      "execution_count": null,
      "outputs": []
    },
    {
      "cell_type": "code",
      "source": [
        "df.loc[df[\"Substation_name\"] == \" М.Цильна\", \"Substation_name\"] = \"М.Цильна\"\n",
        "df.loc[df[\"Substation_name\"] == \" М. Цильна\", \"Substation_name\"] = \"М.Цильна\"\n",
        "df.loc[df[\"Substation_name\"] == \"М. Цильна\", \"Substation_name\"] = \"М.Цильна\"\n",
        "df.loc[df[\"Substation_name\"] == \"М.Цильна \", \"Substation_name\"] = \"М.Цильна\"\n",
        "df.loc[df[\"Substation_name\"] == \"М. Цильна \", \"Substation_name\"] = \"М.Цильна\""
      ],
      "metadata": {
        "id": "qVz7iIgL3g0t"
      },
      "execution_count": null,
      "outputs": []
    },
    {
      "cell_type": "code",
      "source": [
        "df.loc[df[\"Substation_name\"] == \"Дуслык\", \"Substation_name\"] = \"Дружба\"\n",
        "df.loc[df[\"Substation_name\"] == \"Дружба \", \"Substation_name\"] = \"Дружба\""
      ],
      "metadata": {
        "id": "caA6xKga3yJq"
      },
      "execution_count": null,
      "outputs": []
    },
    {
      "cell_type": "code",
      "source": [
        "df.loc[df[\"Substation_name\"] == \"Фёдоровская\", \"Substation_name\"] = \"Федоровская\"\n",
        "df.loc[df[\"Substation_name\"] == \"Федорвская\", \"Substation_name\"] = \"Федоровская\""
      ],
      "metadata": {
        "id": "wKRtDd5v4App"
      },
      "execution_count": null,
      "outputs": []
    },
    {
      "cell_type": "code",
      "source": [
        "df.loc[df[\"Substation_name\"] == \"Камское устье\", \"Substation_name\"] = \"Камское Устье\"\n",
        "df.loc[df[\"Substation_name\"] == \"Камское устье \", \"Substation_name\"] = \"Камское Устье\"\n",
        "df.loc[df[\"Substation_name\"] == \" Камское устье\", \"Substation_name\"] = \"Камское Устье\"\n",
        "df.loc[df[\"Substation_name\"] == \" Камское устье \", \"Substation_name\"] = \"Камское Устье\""
      ],
      "metadata": {
        "id": "H_ML7Q5K4S6G"
      },
      "execution_count": null,
      "outputs": []
    },
    {
      "cell_type": "code",
      "source": [
        "df.loc[df[\"Substation_name\"] == \"Чечкабы \", \"Substation_name\"] = \"Чечкабы\"\n",
        "df.loc[df[\"Substation_name\"] == \" Чечкабы\", \"Substation_name\"] = \"Чечкабы\""
      ],
      "metadata": {
        "id": "qhDvh-7V4pFN"
      },
      "execution_count": null,
      "outputs": []
    },
    {
      "cell_type": "code",
      "source": [
        "df.loc[df[\"Substation_name\"] == \"Бурнашево\", \"Substation_name\"] = \"Тат.Бурнашево\"\n",
        "df.loc[df[\"Substation_name\"] == \" Чечкабы\", \"Substation_name\"] = \"Чечкабы\""
      ],
      "metadata": {
        "id": "OIGgWqnH419C"
      },
      "execution_count": null,
      "outputs": []
    },
    {
      "cell_type": "code",
      "source": [
        "df.loc[df[\"Substation_name\"] == \"Малая-Буинка\", \"Substation_name\"] = \"Западная\""
      ],
      "metadata": {
        "id": "4Bdm_Eej5Dw1"
      },
      "execution_count": null,
      "outputs": []
    },
    {
      "cell_type": "code",
      "source": [
        "df.loc[df[\"Substation_name\"] == \"Малая Буинка\", \"Substation_name\"] = \"Западная\""
      ],
      "metadata": {
        "id": "Gw9qvD1g7KwD"
      },
      "execution_count": null,
      "outputs": []
    },
    {
      "cell_type": "code",
      "source": [
        "df.loc[df[\"Substation_name\"] == \"Водокачка\", \"Substation_name\"] = \"Западаная\"\n",
        "df.loc[df[\"Substation_name\"] == \"Интернат\", \"Substation_name\"] = \"Буинск\""
      ],
      "metadata": {
        "id": "B767zFBj5V24"
      },
      "execution_count": null,
      "outputs": []
    },
    {
      "cell_type": "code",
      "source": [
        "df.loc[df[\"Substation_name\"] == \"Подберезье \", \"Substation_name\"] = \"Подберезье\""
      ],
      "metadata": {
        "id": "t1WsP5QM6IOM"
      },
      "execution_count": null,
      "outputs": []
    },
    {
      "cell_type": "code",
      "source": [
        "df.loc[df[\"Substation_name\"] == \"Н.Услон\", \"Substation_name\"] = \"Нижний Услон\""
      ],
      "metadata": {
        "id": "SaSzzAkG6Hd6"
      },
      "execution_count": null,
      "outputs": []
    },
    {
      "cell_type": "code",
      "source": [
        "unique_values = df[\"Substation_name\"].unique()\n",
        "\n",
        "# Печать уникальных значений\n",
        "for value in unique_values:\n",
        "    print(value)"
      ],
      "metadata": {
        "colab": {
          "base_uri": "https://localhost:8080/"
        },
        "id": "P86e84e15h0M",
        "outputId": "a47c8ba8-f434-4aa4-b9aa-1049dcb310e3"
      },
      "execution_count": null,
      "outputs": [
        {
          "output_type": "stream",
          "name": "stdout",
          "text": [
            "Чинчурино\n",
            "Макулово\n",
            "Красновидово\n",
            "М.Цильна\n",
            "Апастово\n",
            "Куралово\n",
            "Чечкабы\n",
            "Подберезье\n",
            "Раково\n",
            "Тарханы\n",
            "Ямбухтино\n",
            "Федоровская\n",
            "Печищи\n",
            "Бишбатман\n",
            "Нурлаты\n",
            "Кайбицы\n",
            "Дрожжаное\n",
            "Камское Устье\n",
            "Киять\n",
            "Дружба\n",
            "Восход\n",
            "Тетюши\n",
            "Майданы\n",
            "Караталга\n",
            "Ключищи\n",
            "Каратун\n",
            "Савино\n",
            "Свияжск\n",
            "Буинск\n",
            "Тат.Бурнашево\n",
            "Б.Акса\n",
            "Западная\n",
            "Матюшино\n",
            "Рассвет\n",
            "Ключи\n",
            "Янгельдино\n",
            "Бакырчи\n",
            "Рудник\n",
            "Ишеевка\n",
            "Студенец\n",
            "Нижний Услон\n",
            "Энтуганы\n",
            "Исаково\n",
            "Верхний Услон\n"
          ]
        }
      ]
    },
    {
      "cell_type": "code",
      "source": [
        "# преобразуем текстовые данные в числовые с помощью LabelEncoder\n",
        "from sklearn.preprocessing import LabelEncoder\n",
        "le = LabelEncoder()"
      ],
      "metadata": {
        "id": "ZooGMZwME0YM"
      },
      "execution_count": null,
      "outputs": []
    },
    {
      "cell_type": "code",
      "source": [
        "df['Substation_name'] = le.fit_transform(df['Substation_name'])"
      ],
      "metadata": {
        "id": "t1ROFetgE3qt"
      },
      "execution_count": null,
      "outputs": []
    },
    {
      "cell_type": "code",
      "source": [
        "# выводим измененный датасет\n",
        "print(df)"
      ],
      "metadata": {
        "colab": {
          "base_uri": "https://localhost:8080/"
        },
        "id": "PAKjJOpdE60Y",
        "outputId": "bcaeafe3-d492-408e-e0b2-cf40cd4c8967"
      },
      "execution_count": null,
      "outputs": [
        {
          "output_type": "stream",
          "name": "stdout",
          "text": [
            "      Substation_name      Volt  Num                Locality Month_outage  \\\n",
            "0                  40  В Вл 110    0                  Тетюши       январь   \n",
            "1                  23    СВ 110    0                Макулово       январь   \n",
            "2                  40  В Вл 110    0               Чинчурино       январь   \n",
            "3                  23    СВ 110    0                Макулово       январь   \n",
            "4                  19       T-1    0            Красновидово       январь   \n",
            "...               ...       ...  ...                     ...          ...   \n",
            "1252               24       Т-1    1                Матюшино         июль   \n",
            "1253                7   В ВЛ 10    2  Дрожжаное - Хор.Шигали         июль   \n",
            "1254               17   В ВЛ 10    7    Ключи - Сатламышево          июль   \n",
            "1255               13  В КВЛ 10  103           Камское Устье         июль   \n",
            "1256               13  В КВЛ 10  104           Камское Устье         июль   \n",
            "\n",
            "      Temperature  Wind_speed  Snow  Rain  Thunder  Outcome  \n",
            "0              -8           4     0     0        0        0  \n",
            "1              -9           4     0     0        0        0  \n",
            "2              -8           3     1     0        0        1  \n",
            "3              -8           5     1     0        0        1  \n",
            "4              -8           5     1     0        0        1  \n",
            "...           ...         ...   ...   ...      ...      ...  \n",
            "1252           21          10     0     1        1        1  \n",
            "1253           20          12     0     1        1        1  \n",
            "1254           21          10     0     1        1        1  \n",
            "1255           21          10     0     1        1        1  \n",
            "1256          221          10     0     1        1        1  \n",
            "\n",
            "[1257 rows x 11 columns]\n"
          ]
        }
      ]
    },
    {
      "cell_type": "code",
      "source": [
        "# массив всех уникальных значений\n",
        "unique_values_sub = le.classes_\n",
        "# создание словаря соответствий\n",
        "mapping_dict_sub = {}\n",
        "for i in range(len(unique_values_sub)):\n",
        "    mapping_dict_sub[unique_values_sub[i]] = df['Substation_name'][i]\n",
        "# вывод словаря соответствий\n",
        "print(mapping_dict_sub)"
      ],
      "metadata": {
        "colab": {
          "base_uri": "https://localhost:8080/"
        },
        "id": "-L5uPJryE-ao",
        "outputId": "92ef03b0-cb07-4c43-e971-0e66b9c3f1f3"
      },
      "execution_count": null,
      "outputs": [
        {
          "output_type": "stream",
          "name": "stdout",
          "text": [
            "{'Апастово': 40, 'Б.Акса': 23, 'Бакырчи': 40, 'Бишбатман': 23, 'Буинск': 19, 'Верхний Услон': 21, 'Восход': 0, 'Дрожжаное': 20, 'Дружба': 39, 'Западная': 20, 'Исаково': 28, 'Ишеевка': 29, 'Кайбицы': 0, 'Камское Устье': 39, 'Караталга': 35, 'Каратун': 39, 'Киять': 21, 'Ключи': 42, 'Ключищи': 28, 'Красновидово': 38, 'Куралово': 27, 'М.Цильна': 3, 'Майданы': 26, 'Макулово': 42, 'Матюшино': 0, 'Нижний Услон': 21, 'Нурлаты': 39, 'Печищи': 35, 'Подберезье': 29, 'Раково': 28, 'Рассвет': 0, 'Рудник': 38, 'Савино': 26, 'Свияжск': 27, 'Студенец': 27, 'Тарханы': 3, 'Тат.Бурнашево': 12, 'Тетюши': 19, 'Федоровская': 7, 'Чечкабы': 13, 'Чинчурино': 21, 'Энтуганы': 20, 'Ямбухтино': 16, 'Янгельдино': 20}\n"
          ]
        }
      ]
    },
    {
      "cell_type": "markdown",
      "source": [],
      "metadata": {
        "id": "orkWij-Mxu6E"
      }
    },
    {
      "cell_type": "code",
      "source": [
        "ler = LabelEncoder()\n",
        "df['Month_outage'] = ler.fit_transform(df['Month_outage'])"
      ],
      "metadata": {
        "id": "4dOernbD-Aqc"
      },
      "execution_count": null,
      "outputs": []
    },
    {
      "cell_type": "code",
      "source": [
        "# массив всех уникальных значений\n",
        "unique_values_month = ler.classes_\n",
        "# создание словаря соответствий\n",
        "mapping_dict_month = {}\n",
        "for i in range(len(unique_values_month)):\n",
        "    mapping_dict_month[unique_values_month[i]] = df['Month_outage'][i]\n",
        "# вывод словаря соответствий\n",
        "print(mapping_dict_month)"
      ],
      "metadata": {
        "colab": {
          "base_uri": "https://localhost:8080/"
        },
        "id": "5fbA3b80oRn8",
        "outputId": "134def89-852a-4667-85e2-d4bb7b161f9f"
      },
      "execution_count": null,
      "outputs": [
        {
          "output_type": "stream",
          "name": "stdout",
          "text": [
            "{'август': 11, 'апрель': 11, 'декабрь': 11, 'июль': 11, 'июнь': 11, 'май': 11, 'март': 11, 'ноябрь': 11, 'октябрь': 11, 'сентябрь': 11, 'февраль': 11, 'январь': 11}\n"
          ]
        }
      ]
    },
    {
      "cell_type": "code",
      "source": [
        "# масштабирование числовых признаков\n",
        "scaler = StandardScaler()\n",
        "num_features = ['Temperature', 'Wind_speed']\n",
        "df[num_features] = scaler.fit_transform(df[num_features])"
      ],
      "metadata": {
        "id": "-bA10wiQVFXd"
      },
      "execution_count": null,
      "outputs": []
    },
    {
      "cell_type": "code",
      "source": [
        "print(df.columns)"
      ],
      "metadata": {
        "colab": {
          "base_uri": "https://localhost:8080/"
        },
        "id": "YK_htkqk6bl9",
        "outputId": "59fe40e9-ba8e-428c-fef2-11dfa1968597"
      },
      "execution_count": null,
      "outputs": [
        {
          "output_type": "stream",
          "name": "stdout",
          "text": [
            "Index(['Substation_name', 'Volt', 'Num', 'Locality', 'Month_outage',\n",
            "       'Temperature', 'Wind_speed', 'Snow', 'Rain', 'Thunder', 'Outcome'],\n",
            "      dtype='object')\n"
          ]
        }
      ]
    },
    {
      "cell_type": "code",
      "source": [
        "df = df.rename(columns={'Snow ': 'Snow'})\n",
        "print(df)"
      ],
      "metadata": {
        "id": "KSEwnHA36tcv",
        "colab": {
          "base_uri": "https://localhost:8080/"
        },
        "outputId": "c1c54170-1d70-48d0-9ad3-56433195d2f3"
      },
      "execution_count": null,
      "outputs": [
        {
          "output_type": "stream",
          "name": "stdout",
          "text": [
            "      Substation_name      Volt  Num                Locality  Month_outage  \\\n",
            "0                  40  В Вл 110    0                  Тетюши            11   \n",
            "1                  23    СВ 110    0                Макулово            11   \n",
            "2                  40  В Вл 110    0               Чинчурино            11   \n",
            "3                  23    СВ 110    0                Макулово            11   \n",
            "4                  19       T-1    0            Красновидово            11   \n",
            "...               ...       ...  ...                     ...           ...   \n",
            "1252               24       Т-1    1                Матюшино             3   \n",
            "1253                7   В ВЛ 10    2  Дрожжаное - Хор.Шигали             3   \n",
            "1254               17   В ВЛ 10    7    Ключи - Сатламышево              3   \n",
            "1255               13  В КВЛ 10  103           Камское Устье             3   \n",
            "1256               13  В КВЛ 10  104           Камское Устье             3   \n",
            "\n",
            "      Temperature  Wind_speed  Snow  Rain  Thunder  Outcome  \n",
            "0       -1.190485   -0.700839     0     0        0        0  \n",
            "1       -1.263736   -0.700839     0     0        0        0  \n",
            "2       -1.190485   -0.860693     1     0        0        1  \n",
            "3       -1.190485   -0.540985     1     0        0        1  \n",
            "4       -1.190485   -0.540985     1     0        0        1  \n",
            "...           ...         ...   ...   ...      ...      ...  \n",
            "1252     0.933787    0.258284     0     1        1        1  \n",
            "1253     0.860536    0.577992     0     1        1        1  \n",
            "1254     0.933787    0.258284     0     1        1        1  \n",
            "1255     0.933787    0.258284     0     1        1        1  \n",
            "1256    15.583935    0.258284     0     1        1        1  \n",
            "\n",
            "[1257 rows x 11 columns]\n"
          ]
        }
      ]
    },
    {
      "cell_type": "code",
      "source": [
        "X = df.drop('Outcome', axis=1)\n",
        "X.head()\n",
        "y = df['Outcome']\n",
        "y.head()"
      ],
      "metadata": {
        "colab": {
          "base_uri": "https://localhost:8080/"
        },
        "id": "BcO5XAL8LMj5",
        "outputId": "b7c8005d-4de4-41f6-cdb0-d8835aacf75b"
      },
      "execution_count": null,
      "outputs": [
        {
          "output_type": "execute_result",
          "data": {
            "text/plain": [
              "0    0\n",
              "1    0\n",
              "2    1\n",
              "3    1\n",
              "4    1\n",
              "Name: Outcome, dtype: int64"
            ]
          },
          "metadata": {},
          "execution_count": 246
        }
      ]
    },
    {
      "cell_type": "code",
      "source": [
        "# Проверка на монотонную зависимость\n",
        "from scipy.stats import spearmanr\n",
        "for col in X.columns:\n",
        "    corr, pval = spearmanr(X[col], y)\n",
        "    print(f'{col}: correlation={corr:.3f}, p-value={pval:.3f}')"
      ],
      "metadata": {
        "colab": {
          "base_uri": "https://localhost:8080/"
        },
        "id": "ttqCGLV8Lasr",
        "outputId": "f51bb712-8e4f-4e52-f3e1-28c96869b0b1"
      },
      "execution_count": null,
      "outputs": [
        {
          "output_type": "stream",
          "name": "stdout",
          "text": [
            "Substation_name: correlation=0.035, p-value=0.220\n",
            "Volt: correlation=0.056, p-value=0.046\n",
            "Num: correlation=0.012, p-value=0.682\n",
            "Locality: correlation=0.008, p-value=0.772\n",
            "Month_outage: correlation=-0.125, p-value=0.000\n",
            "Temperature: correlation=0.300, p-value=0.000\n",
            "Wind_speed: correlation=0.774, p-value=0.000\n",
            "Snow: correlation=0.127, p-value=0.000\n",
            "Rain: correlation=0.537, p-value=0.000\n",
            "Thunder: correlation=0.560, p-value=0.000\n"
          ]
        }
      ]
    },
    {
      "cell_type": "code",
      "source": [
        "from scipy.stats import chi2_contingency\n",
        "table = pd.crosstab(X['Substation_name'],X['Month_outage'])\n",
        "chi2, pval, dof, expected = chi2_contingency(table)\n",
        "print(f'Chi-squared test: chi2={chi2:.3f}, p-value={pval:.3f}, dof={dof}')"
      ],
      "metadata": {
        "colab": {
          "base_uri": "https://localhost:8080/"
        },
        "id": "wcJQagKCLac2",
        "outputId": "e9066f53-6df8-49ff-d129-66da624ce192"
      },
      "execution_count": null,
      "outputs": [
        {
          "output_type": "stream",
          "name": "stdout",
          "text": [
            "Chi-squared test: chi2=809.400, p-value=0.000, dof=473\n"
          ]
        }
      ]
    },
    {
      "cell_type": "markdown",
      "source": [
        "^Этот код строит таблицу сопряженности для двух категориальных признаков (название подстанции и месяц отключения) и проверяет их связь с целевой переменной (отключение электроэнергии) с помощью теста хи-квадрат. Если p-value меньше заданного уровня значимости (обычно 0.05), то можно считать, что есть статистически значимая связь между признаками. Если связи нет, то можно использовать другие методы анализа."
      ],
      "metadata": {
        "id": "E4jeD6KQLpFB"
      }
    },
    {
      "cell_type": "code",
      "source": [
        "from scipy.stats import shapiro\n",
        "stat, p = shapiro(df['Temperature'])\n",
        "print('stat=%.3f, p=%.3f' % (stat, p))\n",
        "if p > 0.05: #5%\n",
        "\tprint('Probably Normal')\n",
        "else:\n",
        "\tprint('Probably not Normal')"
      ],
      "metadata": {
        "colab": {
          "base_uri": "https://localhost:8080/"
        },
        "id": "0J_Us5HCLufJ",
        "outputId": "e40f461c-cafe-4db4-f8c2-bbcc1fa16245"
      },
      "execution_count": null,
      "outputs": [
        {
          "output_type": "stream",
          "name": "stdout",
          "text": [
            "stat=0.862, p=0.000\n",
            "Probably not Normal\n"
          ]
        }
      ]
    },
    {
      "cell_type": "code",
      "source": [
        "from scipy.stats import normaltest\n",
        "stat, p = normaltest(df['Temperature'])\n",
        "print('stat=%.3f, p=%.3f' % (stat, p))\n",
        "if p > 0.05:\n",
        "\tprint('Probably Normal')\n",
        "else:\n",
        "\tprint('Probably not Normal')"
      ],
      "metadata": {
        "colab": {
          "base_uri": "https://localhost:8080/"
        },
        "id": "dPA5FqU7LMg6",
        "outputId": "9b5dc69c-7a54-492a-da5b-f6bdf1fd88c6"
      },
      "execution_count": null,
      "outputs": [
        {
          "output_type": "stream",
          "name": "stdout",
          "text": [
            "stat=957.802, p=0.000\n",
            "Probably not Normal\n"
          ]
        }
      ]
    },
    {
      "cell_type": "code",
      "source": [
        "df.isna().sum()"
      ],
      "metadata": {
        "colab": {
          "base_uri": "https://localhost:8080/"
        },
        "id": "whqjeMykLMee",
        "outputId": "2b7f4d58-fb73-4b56-c3bc-b655c97a93e1"
      },
      "execution_count": null,
      "outputs": [
        {
          "output_type": "execute_result",
          "data": {
            "text/plain": [
              "Substation_name    0\n",
              "Volt               0\n",
              "Num                0\n",
              "Locality           0\n",
              "Month_outage       0\n",
              "Temperature        0\n",
              "Wind_speed         0\n",
              "Snow               0\n",
              "Rain               0\n",
              "Thunder            0\n",
              "Outcome            0\n",
              "dtype: int64"
            ]
          },
          "metadata": {},
          "execution_count": 251
        }
      ]
    },
    {
      "cell_type": "code",
      "source": [
        "df.info()"
      ],
      "metadata": {
        "colab": {
          "base_uri": "https://localhost:8080/"
        },
        "id": "UIBCuC5DL5Nx",
        "outputId": "6fbbe48d-beeb-401e-f6b3-19ac5f612297"
      },
      "execution_count": null,
      "outputs": [
        {
          "output_type": "stream",
          "name": "stdout",
          "text": [
            "<class 'pandas.core.frame.DataFrame'>\n",
            "RangeIndex: 1257 entries, 0 to 1256\n",
            "Data columns (total 11 columns):\n",
            " #   Column           Non-Null Count  Dtype  \n",
            "---  ------           --------------  -----  \n",
            " 0   Substation_name  1257 non-null   int64  \n",
            " 1   Volt             1257 non-null   object \n",
            " 2   Num              1257 non-null   int64  \n",
            " 3   Locality         1257 non-null   object \n",
            " 4   Month_outage     1257 non-null   int64  \n",
            " 5   Temperature      1257 non-null   float64\n",
            " 6   Wind_speed       1257 non-null   float64\n",
            " 7   Snow             1257 non-null   int64  \n",
            " 8   Rain             1257 non-null   int64  \n",
            " 9   Thunder          1257 non-null   int64  \n",
            " 10  Outcome          1257 non-null   int64  \n",
            "dtypes: float64(2), int64(7), object(2)\n",
            "memory usage: 108.1+ KB\n"
          ]
        }
      ]
    },
    {
      "cell_type": "markdown",
      "source": [
        "Ранговая корреляция Спирмена Проверяет, имеют ли два образца монотонное отношение.\n",
        "\n",
        "H0: два образца независимы. H1: существует зависимость между образцами."
      ],
      "metadata": {
        "id": "uUpbgtB7MNG7"
      }
    },
    {
      "cell_type": "code",
      "source": [
        "from scipy.stats import spearmanr\n",
        "stat1, p1 = spearmanr(df['Substation_name'], df['Outcome'])\n",
        "print('stat1=%.3f, p1=%.3f' % (stat1, p1))\n",
        "if p1 > 0.05:\n",
        "\tprint('Probably independent')\n",
        "else:\n",
        "\tprint('Probably dependent')"
      ],
      "metadata": {
        "colab": {
          "base_uri": "https://localhost:8080/"
        },
        "id": "VOJ05nYAMHNk",
        "outputId": "c2077fb1-8ca3-46e9-dc35-41a1568361ea"
      },
      "execution_count": null,
      "outputs": [
        {
          "output_type": "stream",
          "name": "stdout",
          "text": [
            "stat1=0.035, p1=0.220\n",
            "Probably independent\n"
          ]
        }
      ]
    },
    {
      "cell_type": "code",
      "source": [
        "stat2, p2 = spearmanr(df['Month_outage'], df['Outcome'])\n",
        "print('stat2=%.3f, p2=%.3f' % (stat2, p2))\n",
        "if p2 > 0.05:\n",
        "\tprint('Probably independent')\n",
        "else:\n",
        "\tprint('Probably dependent')"
      ],
      "metadata": {
        "colab": {
          "base_uri": "https://localhost:8080/"
        },
        "id": "7eFSa7rhMHK0",
        "outputId": "f22dcccc-f045-42e0-df54-87f1b9a0a32d"
      },
      "execution_count": null,
      "outputs": [
        {
          "output_type": "stream",
          "name": "stdout",
          "text": [
            "stat2=-0.125, p2=0.000\n",
            "Probably dependent\n"
          ]
        }
      ]
    },
    {
      "cell_type": "code",
      "source": [
        "stat3, p3 = spearmanr(df['Temperature'], df['Outcome'])\n",
        "print('stat3=%.3f, p3=%.3f' % (stat3, p3))\n",
        "if p3 > 0.05:\n",
        "\tprint('Probably independent')\n",
        "else:\n",
        "\tprint('Probably dependent')"
      ],
      "metadata": {
        "colab": {
          "base_uri": "https://localhost:8080/"
        },
        "id": "8AsH7MY8MZAD",
        "outputId": "226a7dcb-84da-4354-c03e-53937315dccc"
      },
      "execution_count": null,
      "outputs": [
        {
          "output_type": "stream",
          "name": "stdout",
          "text": [
            "stat3=0.300, p3=0.000\n",
            "Probably dependent\n"
          ]
        }
      ]
    },
    {
      "cell_type": "code",
      "source": [
        "stat4, p4 = spearmanr(df['Wind_speed'], df['Outcome'])\n",
        "print('stat4=%.3f, p4=%.3f' % (stat4, p4))\n",
        "if p4 > 0.05:\n",
        "\tprint('Probably independent')\n",
        "else:\n",
        "\tprint('Probably dependent')"
      ],
      "metadata": {
        "colab": {
          "base_uri": "https://localhost:8080/"
        },
        "id": "8Ayl3ZKvMbJi",
        "outputId": "99f3be40-5c9a-45c3-9efe-5b885c28dd19"
      },
      "execution_count": null,
      "outputs": [
        {
          "output_type": "stream",
          "name": "stdout",
          "text": [
            "stat4=0.774, p4=0.000\n",
            "Probably dependent\n"
          ]
        }
      ]
    },
    {
      "cell_type": "code",
      "source": [
        "stat5, p5 = spearmanr(df['Snow'], df['Outcome'])\n",
        "print('stat5=%.3f, p5=%.3f' % (stat5, p5))\n",
        "if p5 > 0.05:\n",
        "\tprint('Probably independent')\n",
        "else:\n",
        "\tprint('Probably dependent')"
      ],
      "metadata": {
        "colab": {
          "base_uri": "https://localhost:8080/"
        },
        "id": "k5y8VuWGMdjc",
        "outputId": "761f6743-9640-457a-908d-18348d51c929"
      },
      "execution_count": null,
      "outputs": [
        {
          "output_type": "stream",
          "name": "stdout",
          "text": [
            "stat5=0.127, p5=0.000\n",
            "Probably dependent\n"
          ]
        }
      ]
    },
    {
      "cell_type": "code",
      "source": [
        "stat6, p6 = spearmanr(df['Rain'], df['Outcome'])\n",
        "print('stat6=%.3f, p6=%.3f' % (stat6, p6))\n",
        "if p6 > 0.05:\n",
        "\tprint('Probably independent')\n",
        "else:\n",
        "\tprint('Probably dependent')"
      ],
      "metadata": {
        "colab": {
          "base_uri": "https://localhost:8080/"
        },
        "id": "dSpjILZ0MhCS",
        "outputId": "d484c16b-5d27-4c34-9052-a3a965bee414"
      },
      "execution_count": null,
      "outputs": [
        {
          "output_type": "stream",
          "name": "stdout",
          "text": [
            "stat6=0.537, p6=0.000\n",
            "Probably dependent\n"
          ]
        }
      ]
    },
    {
      "cell_type": "code",
      "source": [
        "stat7, p7= spearmanr(df['Thunder'], df['Outcome'])\n",
        "print('stat7=%.3f, p7=%.3f' % (stat7, p7))\n",
        "if p7 > 0.05:\n",
        "\tprint('Probably independent')\n",
        "else:\n",
        "\tprint('Probably dependent')"
      ],
      "metadata": {
        "colab": {
          "base_uri": "https://localhost:8080/"
        },
        "id": "mjJZ0e4NMkYg",
        "outputId": "01d97d12-7e43-443d-bf79-84cb31b13656"
      },
      "execution_count": null,
      "outputs": [
        {
          "output_type": "stream",
          "name": "stdout",
          "text": [
            "stat7=0.560, p7=0.000\n",
            "Probably dependent\n"
          ]
        }
      ]
    },
    {
      "cell_type": "code",
      "source": [
        "# Значения коэффициентов stat и их названия\n",
        "stats = [stat1, stat2, stat3, stat4, stat5,stat6,stat7 ]\n",
        "labels = ['Substation_name','Month_outage','Temperature', 'Wind_speed', 'Snow', 'Rain', 'Thunder']\n",
        "\n",
        "# Построение гистограммы\n",
        "plt.figure(figsize=(11, 8))\n",
        "plt.bar(labels, stats)\n",
        "plt.title('Spearman Correlation Coefficients')\n",
        "plt.xlabel('Variable')\n",
        "plt.ylabel('Stat')\n",
        "plt.show()"
      ],
      "metadata": {
        "colab": {
          "base_uri": "https://localhost:8080/",
          "height": 702
        },
        "id": "gZEmNmbiMsBL",
        "outputId": "766e8d64-3a03-47bb-f982-7c19e8d8e252"
      },
      "execution_count": null,
      "outputs": [
        {
          "output_type": "display_data",
          "data": {
            "text/plain": [
              "<Figure size 1100x800 with 1 Axes>"
            ],
            "image/png": "[encoded data removed]"
          },
          "metadata": {}
        }
      ]
    },
    {
      "cell_type": "code",
      "source": [
        "# Значения коэффициентов stat и их названия\n",
        "stats = [stat1, np.abs(stat2), stat3, stat4, stat5,stat6,stat7 ]\n",
        "labels = ['Substation_name','Month_outage','Temperature', 'Wind_speed', 'Snow', 'Rain', 'Thunder']\n",
        "\n",
        "# Построение гистограммы\n",
        "fig, ax = plt.subplots()\n",
        "ax.barh(labels, stats)\n",
        "ax.set_title('Коэффициент корреляции Спирмена')\n",
        "ax.set_xlabel('Коэффициент корреляции')\n",
        "ax.set_ylabel('Признаки')\n",
        "for i, v in enumerate(stats):\n",
        "    ax.text(v + 0.01, i, str(round(v, 2)), color='blue', fontweight='bold')\n",
        "# Расширение поля графика\n",
        "ax.set_xlim(right=1)\n",
        "plt.subplots_adjust(left=0.5, right=1.4)\n",
        "plt.show()"
      ],
      "metadata": {
        "colab": {
          "base_uri": "https://localhost:8080/",
          "height": 472
        },
        "id": "8LOD9axoMHIU",
        "outputId": "794230df-ea63-48f0-8174-686fa59c48c5"
      },
      "execution_count": null,
      "outputs": [
        {
          "output_type": "display_data",
          "data": {
            "text/plain": [
              "<Figure size 640x480 with 1 Axes>"
            ],
            "image/png": "[encoded data removed]"
          },
          "metadata": {}
        }
      ]
    },
    {
      "cell_type": "markdown",
      "source": [
        "ПОСТРОИМ ГИСТОГРАММЫ\n",
        "\n",
        "Для проверки распределения данных в каждом из атрибутов можно использовать гистограммы и ядерные оценки плотности распределения. Например, для анализа распределения температуры можно использовать следующий код:"
      ],
      "metadata": {
        "id": "P87yWvJbM2OA"
      }
    },
    {
      "cell_type": "code",
      "source": [
        "# построение гистограммы температуры\n",
        "sns.histplot(df['Temperature'], kde=True)\n",
        "plt.show()"
      ],
      "metadata": {
        "colab": {
          "base_uri": "https://localhost:8080/",
          "height": 449
        },
        "id": "VvyMIMebMHFy",
        "outputId": "46b78490-7a07-4b8f-fd89-03f8c46598ee"
      },
      "execution_count": null,
      "outputs": [
        {
          "output_type": "display_data",
          "data": {
            "text/plain": [
              "<Figure size 640x480 with 1 Axes>"
            ],
            "image/png": "[encoded data removed]"
          },
          "metadata": {}
        }
      ]
    },
    {
      "cell_type": "code",
      "source": [
        "# построение ядерной оценки плотности распределения с выделением моды\n",
        "sns.kdeplot(df['Temperature'], shade=True)\n",
        "plt.axvline(x=df['Temperature'].mode()[0], color='red', linestyle='--')\n",
        "plt.show()"
      ],
      "metadata": {
        "colab": {
          "base_uri": "https://localhost:8080/",
          "height": 553
        },
        "id": "GbgurwoXM6lt",
        "outputId": "b31d3fa0-b811-4694-8b3f-ba2263f38a4a"
      },
      "execution_count": null,
      "outputs": [
        {
          "output_type": "stream",
          "name": "stderr",
          "text": [
            "<ipython-input-263-8c11131f125d>:2: FutureWarning: \n",
            "\n",
            "`shade` is now deprecated in favor of `fill`; setting `fill=True`.\n",
            "This will become an error in seaborn v0.14.0; please update your code.\n",
            "\n",
            "  sns.kdeplot(df['Temperature'], shade=True)\n"
          ]
        },
        {
          "output_type": "display_data",
          "data": {
            "text/plain": [
              "<Figure size 640x480 with 1 Axes>"
            ],
            "image/png": "[encoded data removed]"
          },
          "metadata": {}
        }
      ]
    },
    {
      "cell_type": "markdown",
      "source": [
        "^Выделенная на графике красной линия показывает моду распределения. Если мода явно выражена, то это может быть признаком модального распределения. Таким образом, для анализа модального распределения необходимо провести анализ гистограммы и ядерной оценки плотности распределения, а также использовать статистические методы для определения моды."
      ],
      "metadata": {
        "id": "iXlz-NtgM-88"
      }
    },
    {
      "cell_type": "code",
      "source": [
        "sns.kdeplot(df['Temperature'])\n",
        "plt.show()"
      ],
      "metadata": {
        "colab": {
          "base_uri": "https://localhost:8080/",
          "height": 449
        },
        "id": "2zsVNzoeM-Pv",
        "outputId": "0e779b37-a7d7-4519-acf6-5adf27609542"
      },
      "execution_count": null,
      "outputs": [
        {
          "output_type": "display_data",
          "data": {
            "text/plain": [
              "<Figure size 640x480 with 1 Axes>"
            ],
            "image/png": "[encoded data removed]"
          },
          "metadata": {}
        }
      ]
    },
    {
      "cell_type": "code",
      "source": [
        "# построение гистограммы\n",
        "sns.histplot(df['Wind_speed'], kde=True)\n",
        "plt.show()"
      ],
      "metadata": {
        "colab": {
          "base_uri": "https://localhost:8080/",
          "height": 450
        },
        "id": "SH_G_-kDMHDL",
        "outputId": "84346454-3ede-43be-d3b4-56c1a04c2647"
      },
      "execution_count": null,
      "outputs": [
        {
          "output_type": "display_data",
          "data": {
            "text/plain": [
              "<Figure size 640x480 with 1 Axes>"
            ],
            "image/png": "[encoded data removed]"
          },
          "metadata": {}
        }
      ]
    },
    {
      "cell_type": "code",
      "source": [
        "# построение ядерной оценки плотности распределения с выделением моды\n",
        "sns.kdeplot(df['Wind_speed'], shade=True)\n",
        "plt.axvline(x=df['Wind_speed'].mode()[0], color='red', linestyle='--')\n",
        "plt.show()"
      ],
      "metadata": {
        "colab": {
          "base_uri": "https://localhost:8080/",
          "height": 554
        },
        "id": "jRLUF78SND_7",
        "outputId": "7e662f82-ff30-421d-89f1-a63386dba4b6"
      },
      "execution_count": null,
      "outputs": [
        {
          "output_type": "stream",
          "name": "stderr",
          "text": [
            "<ipython-input-266-d8881b812eaf>:2: FutureWarning: \n",
            "\n",
            "`shade` is now deprecated in favor of `fill`; setting `fill=True`.\n",
            "This will become an error in seaborn v0.14.0; please update your code.\n",
            "\n",
            "  sns.kdeplot(df['Wind_speed'], shade=True)\n"
          ]
        },
        {
          "output_type": "display_data",
          "data": {
            "text/plain": [
              "<Figure size 640x480 with 1 Axes>"
            ],
            "image/png": "[encoded data removed]"
          },
          "metadata": {}
        }
      ]
    },
    {
      "cell_type": "code",
      "source": [
        "# построение гистограммы\n",
        "sns.histplot(df['Snow'], kde=True)\n",
        "plt.show()"
      ],
      "metadata": {
        "colab": {
          "base_uri": "https://localhost:8080/",
          "height": 449
        },
        "id": "-tkXu9BMND1J",
        "outputId": "26e37beb-f672-440e-fd7c-da7394ce507d"
      },
      "execution_count": null,
      "outputs": [
        {
          "output_type": "display_data",
          "data": {
            "text/plain": [
              "<Figure size 640x480 with 1 Axes>"
            ],
            "image/png": "[encoded data removed]"
          },
          "metadata": {}
        }
      ]
    },
    {
      "cell_type": "markdown",
      "source": [
        "^ У булевых признаков распределение является биномиальным распределением, которое описывает случайные эксперименты с двумя исходами (в данном случае True или False). Однако, в данном конкретном случае, график не отображает вероятности, а показывает количество записей с каждым значением признака, поэтому не стоит говорить об определенном распределении."
      ],
      "metadata": {
        "id": "oO2JNXBkNKfe"
      }
    },
    {
      "cell_type": "code",
      "source": [],
      "metadata": {
        "id": "skVY_5oANDqq"
      },
      "execution_count": null,
      "outputs": []
    },
    {
      "cell_type": "code",
      "source": [],
      "metadata": {
        "id": "dG1s78PxMHA3"
      },
      "execution_count": null,
      "outputs": []
    },
    {
      "cell_type": "code",
      "source": [],
      "metadata": {
        "id": "M2HPrDOZMG-O"
      },
      "execution_count": null,
      "outputs": []
    },
    {
      "cell_type": "code",
      "source": [
        "df.drop(['Volt', 'Num', 'Locality'], axis=1, inplace=True)"
      ],
      "metadata": {
        "id": "q7X-FR5EJDKs"
      },
      "execution_count": null,
      "outputs": []
    },
    {
      "cell_type": "code",
      "source": [
        "df.reset_index(drop= True )"
      ],
      "metadata": {
        "id": "hVAKUmeeBaQx",
        "colab": {
          "base_uri": "https://localhost:8080/",
          "height": 424
        },
        "outputId": "afa0a1e2-cf30-44b2-cdc2-ff50139da93d"
      },
      "execution_count": null,
      "outputs": [
        {
          "output_type": "execute_result",
          "data": {
            "text/plain": [
              "      Substation_name  Month_outage  Temperature  Wind_speed  Snow  Rain  \\\n",
              "0                  40            11    -1.190485   -0.700839     0     0   \n",
              "1                  23            11    -1.263736   -0.700839     0     0   \n",
              "2                  40            11    -1.190485   -0.860693     1     0   \n",
              "3                  23            11    -1.190485   -0.540985     1     0   \n",
              "4                  19            11    -1.190485   -0.540985     1     0   \n",
              "...               ...           ...          ...         ...   ...   ...   \n",
              "1252               24             3     0.933787    0.258284     0     1   \n",
              "1253                7             3     0.860536    0.577992     0     1   \n",
              "1254               17             3     0.933787    0.258284     0     1   \n",
              "1255               13             3     0.933787    0.258284     0     1   \n",
              "1256               13             3    15.583935    0.258284     0     1   \n",
              "\n",
              "      Thunder  Outcome  \n",
              "0           0        0  \n",
              "1           0        0  \n",
              "2           0        1  \n",
              "3           0        1  \n",
              "4           0        1  \n",
              "...       ...      ...  \n",
              "1252        1        1  \n",
              "1253        1        1  \n",
              "1254        1        1  \n",
              "1255        1        1  \n",
              "1256        1        1  \n",
              "\n",
              "[1257 rows x 8 columns]"
            ],
            "text/html": [
              "\n",
              "  <div id=\"df-1f180e7e-8737-4a11-ac44-33d58f2553de\" class=\"colab-df-container\">\n",
              "    <div>\n",
              "<style scoped>\n",
              "    .dataframe tbody tr th:only-of-type {\n",
              "        vertical-align: middle;\n",
              "    }\n",
              "\n",
              "    .dataframe tbody tr th {\n",
              "        vertical-align: top;\n",
              "    }\n",
              "\n",
              "    .dataframe thead th {\n",
              "        text-align: right;\n",
              "    }\n",
              "</style>\n",
              "<table border=\"1\" class=\"dataframe\">\n",
              "  <thead>\n",
              "    <tr style=\"text-align: right;\">\n",
              "      <th></th>\n",
              "      <th>Substation_name</th>\n",
              "      <th>Month_outage</th>\n",
              "      <th>Temperature</th>\n",
              "      <th>Wind_speed</th>\n",
              "      <th>Snow</th>\n",
              "      <th>Rain</th>\n",
              "      <th>Thunder</th>\n",
              "      <th>Outcome</th>\n",
              "    </tr>\n",
              "  </thead>\n",
              "  <tbody>\n",
              "    <tr>\n",
              "      <th>0</th>\n",
              "      <td>40</td>\n",
              "      <td>11</td>\n",
              "      <td>-1.190485</td>\n",
              "      <td>-0.700839</td>\n",
              "      <td>0</td>\n",
              "      <td>0</td>\n",
              "      <td>0</td>\n",
              "      <td>0</td>\n",
              "    </tr>\n",
              "    <tr>\n",
              "      <th>1</th>\n",
              "      <td>23</td>\n",
              "      <td>11</td>\n",
              "      <td>-1.263736</td>\n",
              "      <td>-0.700839</td>\n",
              "      <td>0</td>\n",
              "      <td>0</td>\n",
              "      <td>0</td>\n",
              "      <td>0</td>\n",
              "    </tr>\n",
              "    <tr>\n",
              "      <th>2</th>\n",
              "      <td>40</td>\n",
              "      <td>11</td>\n",
              "      <td>-1.190485</td>\n",
              "      <td>-0.860693</td>\n",
              "      <td>1</td>\n",
              "      <td>0</td>\n",
              "      <td>0</td>\n",
              "      <td>1</td>\n",
              "    </tr>\n",
              "    <tr>\n",
              "      <th>3</th>\n",
              "      <td>23</td>\n",
              "      <td>11</td>\n",
              "      <td>-1.190485</td>\n",
              "      <td>-0.540985</td>\n",
              "      <td>1</td>\n",
              "      <td>0</td>\n",
              "      <td>0</td>\n",
              "      <td>1</td>\n",
              "    </tr>\n",
              "    <tr>\n",
              "      <th>4</th>\n",
              "      <td>19</td>\n",
              "      <td>11</td>\n",
              "      <td>-1.190485</td>\n",
              "      <td>-0.540985</td>\n",
              "      <td>1</td>\n",
              "      <td>0</td>\n",
              "      <td>0</td>\n",
              "      <td>1</td>\n",
              "    </tr>\n",
              "    <tr>\n",
              "      <th>...</th>\n",
              "      <td>...</td>\n",
              "      <td>...</td>\n",
              "      <td>...</td>\n",
              "      <td>...</td>\n",
              "      <td>...</td>\n",
              "      <td>...</td>\n",
              "      <td>...</td>\n",
              "      <td>...</td>\n",
              "    </tr>\n",
              "    <tr>\n",
              "      <th>1252</th>\n",
              "      <td>24</td>\n",
              "      <td>3</td>\n",
              "      <td>0.933787</td>\n",
              "      <td>0.258284</td>\n",
              "      <td>0</td>\n",
              "      <td>1</td>\n",
              "      <td>1</td>\n",
              "      <td>1</td>\n",
              "    </tr>\n",
              "    <tr>\n",
              "      <th>1253</th>\n",
              "      <td>7</td>\n",
              "      <td>3</td>\n",
              "      <td>0.860536</td>\n",
              "      <td>0.577992</td>\n",
              "      <td>0</td>\n",
              "      <td>1</td>\n",
              "      <td>1</td>\n",
              "      <td>1</td>\n",
              "    </tr>\n",
              "    <tr>\n",
              "      <th>1254</th>\n",
              "      <td>17</td>\n",
              "      <td>3</td>\n",
              "      <td>0.933787</td>\n",
              "      <td>0.258284</td>\n",
              "      <td>0</td>\n",
              "      <td>1</td>\n",
              "      <td>1</td>\n",
              "      <td>1</td>\n",
              "    </tr>\n",
              "    <tr>\n",
              "      <th>1255</th>\n",
              "      <td>13</td>\n",
              "      <td>3</td>\n",
              "      <td>0.933787</td>\n",
              "      <td>0.258284</td>\n",
              "      <td>0</td>\n",
              "      <td>1</td>\n",
              "      <td>1</td>\n",
              "      <td>1</td>\n",
              "    </tr>\n",
              "    <tr>\n",
              "      <th>1256</th>\n",
              "      <td>13</td>\n",
              "      <td>3</td>\n",
              "      <td>15.583935</td>\n",
              "      <td>0.258284</td>\n",
              "      <td>0</td>\n",
              "      <td>1</td>\n",
              "      <td>1</td>\n",
              "      <td>1</td>\n",
              "    </tr>\n",
              "  </tbody>\n",
              "</table>\n",
              "<p>1257 rows × 8 columns</p>\n",
              "</div>\n",
              "    <div class=\"colab-df-buttons\">\n",
              "\n",
              "  <div class=\"colab-df-container\">\n",
              "    <button class=\"colab-df-convert\" onclick=\"convertToInteractive('df-1f180e7e-8737-4a11-ac44-33d58f2553de')\"\n",
              "            title=\"Convert this dataframe to an interactive table.\"\n",
              "            style=\"display:none;\">\n",
              "\n",
              "  <svg xmlns=\"http://www.w3.org/2000/svg\" height=\"24px\" viewBox=\"0 -960 960 960\">\n",
              "    <path d=\"M120-120v-720h720v720H120Zm60-500h600v-160H180v160Zm220 220h160v-160H400v160Zm0 220h160v-160H400v160ZM180-400h160v-160H180v160Zm440 0h160v-160H620v160ZM180-180h160v-160H180v160Zm440 0h160v-160H620v160Z\"/>\n",
              "  </svg>\n",
              "    </button>\n",
              "\n",
              "  <style>\n",
              "    .colab-df-container {\n",
              "      display:flex;\n",
              "      gap: 12px;\n",
              "    }\n",
              "\n",
              "    .colab-df-convert {\n",
              "      background-color: #E8F0FE;\n",
              "      border: none;\n",
              "      border-radius: 50%;\n",
              "      cursor: pointer;\n",
              "      display: none;\n",
              "      fill: #1967D2;\n",
              "      height: 32px;\n",
              "      padding: 0 0 0 0;\n",
              "      width: 32px;\n",
              "    }\n",
              "\n",
              "    .colab-df-convert:hover {\n",
              "      background-color: #E2EBFA;\n",
              "      box-shadow: 0px 1px 2px rgba(60, 64, 67, 0.3), 0px 1px 3px 1px rgba(60, 64, 67, 0.15);\n",
              "      fill: #174EA6;\n",
              "    }\n",
              "\n",
              "    .colab-df-buttons div {\n",
              "      margin-bottom: 4px;\n",
              "    }\n",
              "\n",
              "    [theme=dark] .colab-df-convert {\n",
              "      background-color: #3B4455;\n",
              "      fill: #D2E3FC;\n",
              "    }\n",
              "\n",
              "    [theme=dark] .colab-df-convert:hover {\n",
              "      background-color: #434B5C;\n",
              "      box-shadow: 0px 1px 3px 1px rgba(0, 0, 0, 0.15);\n",
              "      filter: drop-shadow(0px 1px 2px rgba(0, 0, 0, 0.3));\n",
              "      fill: #FFFFFF;\n",
              "    }\n",
              "  </style>\n",
              "\n",
              "    <script>\n",
              "      const buttonEl =\n",
              "        document.querySelector('#df-1f180e7e-8737-4a11-ac44-33d58f2553de button.colab-df-convert');\n",
              "      buttonEl.style.display =\n",
              "        google.colab.kernel.accessAllowed ? 'block' : 'none';\n",
              "\n",
              "      async function convertToInteractive(key) {\n",
              "        const element = document.querySelector('#df-1f180e7e-8737-4a11-ac44-33d58f2553de');\n",
              "        const dataTable =\n",
              "          await google.colab.kernel.invokeFunction('convertToInteractive',\n",
              "                                                    [key], {});\n",
              "        if (!dataTable) return;\n",
              "\n",
              "        const docLinkHtml = 'Like what you see? Visit the ' +\n",
              "          '<a target=\"_blank\" href=https://colab.research.google.com/notebooks/data_table.ipynb>data table notebook</a>'\n",
              "          + ' to learn more about interactive tables.';\n",
              "        element.innerHTML = '';\n",
              "        dataTable['output_type'] = 'display_data';\n",
              "        await google.colab.output.renderOutput(dataTable, element);\n",
              "        const docLink = document.createElement('div');\n",
              "        docLink.innerHTML = docLinkHtml;\n",
              "        element.appendChild(docLink);\n",
              "      }\n",
              "    </script>\n",
              "  </div>\n",
              "\n",
              "\n",
              "<div id=\"df-cb963286-cc21-48cc-b88f-7c3a2001512b\">\n",
              "  <button class=\"colab-df-quickchart\" onclick=\"quickchart('df-cb963286-cc21-48cc-b88f-7c3a2001512b')\"\n",
              "            title=\"Suggest charts.\"\n",
              "            style=\"display:none;\">\n",
              "\n",
              "<svg xmlns=\"http://www.w3.org/2000/svg\" height=\"24px\"viewBox=\"0 0 24 24\"\n",
              "     width=\"24px\">\n",
              "    <g>\n",
              "        <path d=\"M19 3H5c-1.1 0-2 .9-2 2v14c0 1.1.9 2 2 2h14c1.1 0 2-.9 2-2V5c0-1.1-.9-2-2-2zM9 17H7v-7h2v7zm4 0h-2V7h2v10zm4 0h-2v-4h2v4z\"/>\n",
              "    </g>\n",
              "</svg>\n",
              "  </button>\n",
              "\n",
              "<style>\n",
              "  .colab-df-quickchart {\n",
              "      --bg-color: #E8F0FE;\n",
              "      --fill-color: #1967D2;\n",
              "      --hover-bg-color: #E2EBFA;\n",
              "      --hover-fill-color: #174EA6;\n",
              "      --disabled-fill-color: #AAA;\n",
              "      --disabled-bg-color: #DDD;\n",
              "  }\n",
              "\n",
              "  [theme=dark] .colab-df-quickchart {\n",
              "      --bg-color: #3B4455;\n",
              "      --fill-color: #D2E3FC;\n",
              "      --hover-bg-color: #434B5C;\n",
              "      --hover-fill-color: #FFFFFF;\n",
              "      --disabled-bg-color: #3B4455;\n",
              "      --disabled-fill-color: #666;\n",
              "  }\n",
              "\n",
              "  .colab-df-quickchart {\n",
              "    background-color: var(--bg-color);\n",
              "    border: none;\n",
              "    border-radius: 50%;\n",
              "    cursor: pointer;\n",
              "    display: none;\n",
              "    fill: var(--fill-color);\n",
              "    height: 32px;\n",
              "    padding: 0;\n",
              "    width: 32px;\n",
              "  }\n",
              "\n",
              "  .colab-df-quickchart:hover {\n",
              "    background-color: var(--hover-bg-color);\n",
              "    box-shadow: 0 1px 2px rgba(60, 64, 67, 0.3), 0 1px 3px 1px rgba(60, 64, 67, 0.15);\n",
              "    fill: var(--button-hover-fill-color);\n",
              "  }\n",
              "\n",
              "  .colab-df-quickchart-complete:disabled,\n",
              "  .colab-df-quickchart-complete:disabled:hover {\n",
              "    background-color: var(--disabled-bg-color);\n",
              "    fill: var(--disabled-fill-color);\n",
              "    box-shadow: none;\n",
              "  }\n",
              "\n",
              "  .colab-df-spinner {\n",
              "    border: 2px solid var(--fill-color);\n",
              "    border-color: transparent;\n",
              "    border-bottom-color: var(--fill-color);\n",
              "    animation:\n",
              "      spin 1s steps(1) infinite;\n",
              "  }\n",
              "\n",
              "  @keyframes spin {\n",
              "    0% {\n",
              "      border-color: transparent;\n",
              "      border-bottom-color: var(--fill-color);\n",
              "      border-left-color: var(--fill-color);\n",
              "    }\n",
              "    20% {\n",
              "      border-color: transparent;\n",
              "      border-left-color: var(--fill-color);\n",
              "      border-top-color: var(--fill-color);\n",
              "    }\n",
              "    30% {\n",
              "      border-color: transparent;\n",
              "      border-left-color: var(--fill-color);\n",
              "      border-top-color: var(--fill-color);\n",
              "      border-right-color: var(--fill-color);\n",
              "    }\n",
              "    40% {\n",
              "      border-color: transparent;\n",
              "      border-right-color: var(--fill-color);\n",
              "      border-top-color: var(--fill-color);\n",
              "    }\n",
              "    60% {\n",
              "      border-color: transparent;\n",
              "      border-right-color: var(--fill-color);\n",
              "    }\n",
              "    80% {\n",
              "      border-color: transparent;\n",
              "      border-right-color: var(--fill-color);\n",
              "      border-bottom-color: var(--fill-color);\n",
              "    }\n",
              "    90% {\n",
              "      border-color: transparent;\n",
              "      border-bottom-color: var(--fill-color);\n",
              "    }\n",
              "  }\n",
              "</style>\n",
              "\n",
              "  <script>\n",
              "    async function quickchart(key) {\n",
              "      const quickchartButtonEl =\n",
              "        document.querySelector('#' + key + ' button');\n",
              "      quickchartButtonEl.disabled = true;  // To prevent multiple clicks.\n",
              "      quickchartButtonEl.classList.add('colab-df-spinner');\n",
              "      try {\n",
              "        const charts = await google.colab.kernel.invokeFunction(\n",
              "            'suggestCharts', [key], {});\n",
              "      } catch (error) {\n",
              "        console.error('Error during call to suggestCharts:', error);\n",
              "      }\n",
              "      quickchartButtonEl.classList.remove('colab-df-spinner');\n",
              "      quickchartButtonEl.classList.add('colab-df-quickchart-complete');\n",
              "    }\n",
              "    (() => {\n",
              "      let quickchartButtonEl =\n",
              "        document.querySelector('#df-cb963286-cc21-48cc-b88f-7c3a2001512b button');\n",
              "      quickchartButtonEl.style.display =\n",
              "        google.colab.kernel.accessAllowed ? 'block' : 'none';\n",
              "    })();\n",
              "  </script>\n",
              "</div>\n",
              "    </div>\n",
              "  </div>\n"
            ]
          },
          "metadata": {},
          "execution_count": 269
        }
      ]
    },
    {
      "cell_type": "code",
      "source": [
        "X = df.drop('Outcome', axis=1)\n",
        "X.head()"
      ],
      "metadata": {
        "colab": {
          "base_uri": "https://localhost:8080/",
          "height": 206
        },
        "id": "5teg3VbH_ZjH",
        "outputId": "05ec01c5-584e-450e-dd91-fb85f4c5fdcd"
      },
      "execution_count": null,
      "outputs": [
        {
          "output_type": "execute_result",
          "data": {
            "text/plain": [
              "   Substation_name  Month_outage  Temperature  Wind_speed  Snow  Rain  Thunder\n",
              "0               40            11    -1.190485   -0.700839     0     0        0\n",
              "1               23            11    -1.263736   -0.700839     0     0        0\n",
              "2               40            11    -1.190485   -0.860693     1     0        0\n",
              "3               23            11    -1.190485   -0.540985     1     0        0\n",
              "4               19            11    -1.190485   -0.540985     1     0        0"
            ],
            "text/html": [
              "\n",
              "  <div id=\"df-2f7e38a0-9ad9-4aa4-ad2d-74d2ae7a68a4\" class=\"colab-df-container\">\n",
              "    <div>\n",
              "<style scoped>\n",
              "    .dataframe tbody tr th:only-of-type {\n",
              "        vertical-align: middle;\n",
              "    }\n",
              "\n",
              "    .dataframe tbody tr th {\n",
              "        vertical-align: top;\n",
              "    }\n",
              "\n",
              "    .dataframe thead th {\n",
              "        text-align: right;\n",
              "    }\n",
              "</style>\n",
              "<table border=\"1\" class=\"dataframe\">\n",
              "  <thead>\n",
              "    <tr style=\"text-align: right;\">\n",
              "      <th></th>\n",
              "      <th>Substation_name</th>\n",
              "      <th>Month_outage</th>\n",
              "      <th>Temperature</th>\n",
              "      <th>Wind_speed</th>\n",
              "      <th>Snow</th>\n",
              "      <th>Rain</th>\n",
              "      <th>Thunder</th>\n",
              "    </tr>\n",
              "  </thead>\n",
              "  <tbody>\n",
              "    <tr>\n",
              "      <th>0</th>\n",
              "      <td>40</td>\n",
              "      <td>11</td>\n",
              "      <td>-1.190485</td>\n",
              "      <td>-0.700839</td>\n",
              "      <td>0</td>\n",
              "      <td>0</td>\n",
              "      <td>0</td>\n",
              "    </tr>\n",
              "    <tr>\n",
              "      <th>1</th>\n",
              "      <td>23</td>\n",
              "      <td>11</td>\n",
              "      <td>-1.263736</td>\n",
              "      <td>-0.700839</td>\n",
              "      <td>0</td>\n",
              "      <td>0</td>\n",
              "      <td>0</td>\n",
              "    </tr>\n",
              "    <tr>\n",
              "      <th>2</th>\n",
              "      <td>40</td>\n",
              "      <td>11</td>\n",
              "      <td>-1.190485</td>\n",
              "      <td>-0.860693</td>\n",
              "      <td>1</td>\n",
              "      <td>0</td>\n",
              "      <td>0</td>\n",
              "    </tr>\n",
              "    <tr>\n",
              "      <th>3</th>\n",
              "      <td>23</td>\n",
              "      <td>11</td>\n",
              "      <td>-1.190485</td>\n",
              "      <td>-0.540985</td>\n",
              "      <td>1</td>\n",
              "      <td>0</td>\n",
              "      <td>0</td>\n",
              "    </tr>\n",
              "    <tr>\n",
              "      <th>4</th>\n",
              "      <td>19</td>\n",
              "      <td>11</td>\n",
              "      <td>-1.190485</td>\n",
              "      <td>-0.540985</td>\n",
              "      <td>1</td>\n",
              "      <td>0</td>\n",
              "      <td>0</td>\n",
              "    </tr>\n",
              "  </tbody>\n",
              "</table>\n",
              "</div>\n",
              "    <div class=\"colab-df-buttons\">\n",
              "\n",
              "  <div class=\"colab-df-container\">\n",
              "    <button class=\"colab-df-convert\" onclick=\"convertToInteractive('df-2f7e38a0-9ad9-4aa4-ad2d-74d2ae7a68a4')\"\n",
              "            title=\"Convert this dataframe to an interactive table.\"\n",
              "            style=\"display:none;\">\n",
              "\n",
              "  <svg xmlns=\"http://www.w3.org/2000/svg\" height=\"24px\" viewBox=\"0 -960 960 960\">\n",
              "    <path d=\"M120-120v-720h720v720H120Zm60-500h600v-160H180v160Zm220 220h160v-160H400v160Zm0 220h160v-160H400v160ZM180-400h160v-160H180v160Zm440 0h160v-160H620v160ZM180-180h160v-160H180v160Zm440 0h160v-160H620v160Z\"/>\n",
              "  </svg>\n",
              "    </button>\n",
              "\n",
              "  <style>\n",
              "    .colab-df-container {\n",
              "      display:flex;\n",
              "      gap: 12px;\n",
              "    }\n",
              "\n",
              "    .colab-df-convert {\n",
              "      background-color: #E8F0FE;\n",
              "      border: none;\n",
              "      border-radius: 50%;\n",
              "      cursor: pointer;\n",
              "      display: none;\n",
              "      fill: #1967D2;\n",
              "      height: 32px;\n",
              "      padding: 0 0 0 0;\n",
              "      width: 32px;\n",
              "    }\n",
              "\n",
              "    .colab-df-convert:hover {\n",
              "      background-color: #E2EBFA;\n",
              "      box-shadow: 0px 1px 2px rgba(60, 64, 67, 0.3), 0px 1px 3px 1px rgba(60, 64, 67, 0.15);\n",
              "      fill: #174EA6;\n",
              "    }\n",
              "\n",
              "    .colab-df-buttons div {\n",
              "      margin-bottom: 4px;\n",
              "    }\n",
              "\n",
              "    [theme=dark] .colab-df-convert {\n",
              "      background-color: #3B4455;\n",
              "      fill: #D2E3FC;\n",
              "    }\n",
              "\n",
              "    [theme=dark] .colab-df-convert:hover {\n",
              "      background-color: #434B5C;\n",
              "      box-shadow: 0px 1px 3px 1px rgba(0, 0, 0, 0.15);\n",
              "      filter: drop-shadow(0px 1px 2px rgba(0, 0, 0, 0.3));\n",
              "      fill: #FFFFFF;\n",
              "    }\n",
              "  </style>\n",
              "\n",
              "    <script>\n",
              "      const buttonEl =\n",
              "        document.querySelector('#df-2f7e38a0-9ad9-4aa4-ad2d-74d2ae7a68a4 button.colab-df-convert');\n",
              "      buttonEl.style.display =\n",
              "        google.colab.kernel.accessAllowed ? 'block' : 'none';\n",
              "\n",
              "      async function convertToInteractive(key) {\n",
              "        const element = document.querySelector('#df-2f7e38a0-9ad9-4aa4-ad2d-74d2ae7a68a4');\n",
              "        const dataTable =\n",
              "          await google.colab.kernel.invokeFunction('convertToInteractive',\n",
              "                                                    [key], {});\n",
              "        if (!dataTable) return;\n",
              "\n",
              "        const docLinkHtml = 'Like what you see? Visit the ' +\n",
              "          '<a target=\"_blank\" href=https://colab.research.google.com/notebooks/data_table.ipynb>data table notebook</a>'\n",
              "          + ' to learn more about interactive tables.';\n",
              "        element.innerHTML = '';\n",
              "        dataTable['output_type'] = 'display_data';\n",
              "        await google.colab.output.renderOutput(dataTable, element);\n",
              "        const docLink = document.createElement('div');\n",
              "        docLink.innerHTML = docLinkHtml;\n",
              "        element.appendChild(docLink);\n",
              "      }\n",
              "    </script>\n",
              "  </div>\n",
              "\n",
              "\n",
              "<div id=\"df-ec585f2f-ff44-411f-b4b3-77e54dcdf745\">\n",
              "  <button class=\"colab-df-quickchart\" onclick=\"quickchart('df-ec585f2f-ff44-411f-b4b3-77e54dcdf745')\"\n",
              "            title=\"Suggest charts.\"\n",
              "            style=\"display:none;\">\n",
              "\n",
              "<svg xmlns=\"http://www.w3.org/2000/svg\" height=\"24px\"viewBox=\"0 0 24 24\"\n",
              "     width=\"24px\">\n",
              "    <g>\n",
              "        <path d=\"M19 3H5c-1.1 0-2 .9-2 2v14c0 1.1.9 2 2 2h14c1.1 0 2-.9 2-2V5c0-1.1-.9-2-2-2zM9 17H7v-7h2v7zm4 0h-2V7h2v10zm4 0h-2v-4h2v4z\"/>\n",
              "    </g>\n",
              "</svg>\n",
              "  </button>\n",
              "\n",
              "<style>\n",
              "  .colab-df-quickchart {\n",
              "      --bg-color: #E8F0FE;\n",
              "      --fill-color: #1967D2;\n",
              "      --hover-bg-color: #E2EBFA;\n",
              "      --hover-fill-color: #174EA6;\n",
              "      --disabled-fill-color: #AAA;\n",
              "      --disabled-bg-color: #DDD;\n",
              "  }\n",
              "\n",
              "  [theme=dark] .colab-df-quickchart {\n",
              "      --bg-color: #3B4455;\n",
              "      --fill-color: #D2E3FC;\n",
              "      --hover-bg-color: #434B5C;\n",
              "      --hover-fill-color: #FFFFFF;\n",
              "      --disabled-bg-color: #3B4455;\n",
              "      --disabled-fill-color: #666;\n",
              "  }\n",
              "\n",
              "  .colab-df-quickchart {\n",
              "    background-color: var(--bg-color);\n",
              "    border: none;\n",
              "    border-radius: 50%;\n",
              "    cursor: pointer;\n",
              "    display: none;\n",
              "    fill: var(--fill-color);\n",
              "    height: 32px;\n",
              "    padding: 0;\n",
              "    width: 32px;\n",
              "  }\n",
              "\n",
              "  .colab-df-quickchart:hover {\n",
              "    background-color: var(--hover-bg-color);\n",
              "    box-shadow: 0 1px 2px rgba(60, 64, 67, 0.3), 0 1px 3px 1px rgba(60, 64, 67, 0.15);\n",
              "    fill: var(--button-hover-fill-color);\n",
              "  }\n",
              "\n",
              "  .colab-df-quickchart-complete:disabled,\n",
              "  .colab-df-quickchart-complete:disabled:hover {\n",
              "    background-color: var(--disabled-bg-color);\n",
              "    fill: var(--disabled-fill-color);\n",
              "    box-shadow: none;\n",
              "  }\n",
              "\n",
              "  .colab-df-spinner {\n",
              "    border: 2px solid var(--fill-color);\n",
              "    border-color: transparent;\n",
              "    border-bottom-color: var(--fill-color);\n",
              "    animation:\n",
              "      spin 1s steps(1) infinite;\n",
              "  }\n",
              "\n",
              "  @keyframes spin {\n",
              "    0% {\n",
              "      border-color: transparent;\n",
              "      border-bottom-color: var(--fill-color);\n",
              "      border-left-color: var(--fill-color);\n",
              "    }\n",
              "    20% {\n",
              "      border-color: transparent;\n",
              "      border-left-color: var(--fill-color);\n",
              "      border-top-color: var(--fill-color);\n",
              "    }\n",
              "    30% {\n",
              "      border-color: transparent;\n",
              "      border-left-color: var(--fill-color);\n",
              "      border-top-color: var(--fill-color);\n",
              "      border-right-color: var(--fill-color);\n",
              "    }\n",
              "    40% {\n",
              "      border-color: transparent;\n",
              "      border-right-color: var(--fill-color);\n",
              "      border-top-color: var(--fill-color);\n",
              "    }\n",
              "    60% {\n",
              "      border-color: transparent;\n",
              "      border-right-color: var(--fill-color);\n",
              "    }\n",
              "    80% {\n",
              "      border-color: transparent;\n",
              "      border-right-color: var(--fill-color);\n",
              "      border-bottom-color: var(--fill-color);\n",
              "    }\n",
              "    90% {\n",
              "      border-color: transparent;\n",
              "      border-bottom-color: var(--fill-color);\n",
              "    }\n",
              "  }\n",
              "</style>\n",
              "\n",
              "  <script>\n",
              "    async function quickchart(key) {\n",
              "      const quickchartButtonEl =\n",
              "        document.querySelector('#' + key + ' button');\n",
              "      quickchartButtonEl.disabled = true;  // To prevent multiple clicks.\n",
              "      quickchartButtonEl.classList.add('colab-df-spinner');\n",
              "      try {\n",
              "        const charts = await google.colab.kernel.invokeFunction(\n",
              "            'suggestCharts', [key], {});\n",
              "      } catch (error) {\n",
              "        console.error('Error during call to suggestCharts:', error);\n",
              "      }\n",
              "      quickchartButtonEl.classList.remove('colab-df-spinner');\n",
              "      quickchartButtonEl.classList.add('colab-df-quickchart-complete');\n",
              "    }\n",
              "    (() => {\n",
              "      let quickchartButtonEl =\n",
              "        document.querySelector('#df-ec585f2f-ff44-411f-b4b3-77e54dcdf745 button');\n",
              "      quickchartButtonEl.style.display =\n",
              "        google.colab.kernel.accessAllowed ? 'block' : 'none';\n",
              "    })();\n",
              "  </script>\n",
              "</div>\n",
              "    </div>\n",
              "  </div>\n"
            ]
          },
          "metadata": {},
          "execution_count": 270
        }
      ]
    },
    {
      "cell_type": "code",
      "source": [
        "y = df['Outcome']\n",
        "y.head()"
      ],
      "metadata": {
        "colab": {
          "base_uri": "https://localhost:8080/"
        },
        "id": "kqBoJ4b0_hGA",
        "outputId": "b131963f-dc28-4d9e-daf5-46d83995ead9"
      },
      "execution_count": null,
      "outputs": [
        {
          "output_type": "execute_result",
          "data": {
            "text/plain": [
              "0    0\n",
              "1    0\n",
              "2    1\n",
              "3    1\n",
              "4    1\n",
              "Name: Outcome, dtype: int64"
            ]
          },
          "metadata": {},
          "execution_count": 271
        }
      ]
    },
    {
      "cell_type": "code",
      "source": [
        "X_train, X_test, y_train, y_test = train_test_split(X, y, test_size = 0.3, random_state=42)"
      ],
      "metadata": {
        "id": "Z6QPNy-8_1-t"
      },
      "execution_count": null,
      "outputs": []
    },
    {
      "cell_type": "markdown",
      "source": [
        "**ЛОГИСТИЧЕСКАЯ РЕГРЕССИЯ**"
      ],
      "metadata": {
        "id": "7OeGota6NtGf"
      }
    },
    {
      "cell_type": "code",
      "source": [
        "# 4. Обучение моделей\n",
        "from sklearn.linear_model import LogisticRegression\n",
        "from sklearn.metrics import accuracy_score, precision_score, recall_score, f1_score, roc_auc_score\n",
        "lr_model = LogisticRegression()\n",
        "lr_model.fit(X_train, y_train)\n",
        "lr_pred = lr_model.predict(X_test)"
      ],
      "metadata": {
        "id": "yqZYzTiO_qHT"
      },
      "execution_count": null,
      "outputs": []
    },
    {
      "cell_type": "code",
      "source": [
        "print('Logistic Regression:')\n",
        "print('Accuracy:', accuracy_score(y_test, lr_pred))\n",
        "print('F1 score:', f1_score(y_test, lr_pred, average='weighted'))\n",
        "#print('ROC-AUC score:', roc_auc_score(y_test, proba[:, 1]))\n",
        "roc_auc = roc_auc_score(y_test, lr_pred)\n",
        "print('ROC-AUC score:',roc_auc )"
      ],
      "metadata": {
        "colab": {
          "base_uri": "https://localhost:8080/"
        },
        "id": "pZ1Bn8d_JjOv",
        "outputId": "67dcf478-5771-46b0-cf24-607bce7afcb8"
      },
      "execution_count": null,
      "outputs": [
        {
          "output_type": "stream",
          "name": "stdout",
          "text": [
            "Logistic Regression:\n",
            "Accuracy: 0.9576719576719577\n",
            "F1 score: 0.9575636135042075\n",
            "ROC-AUC score: 0.9564522908785205\n"
          ]
        }
      ]
    },
    {
      "cell_type": "markdown",
      "source": [
        "**СЛУЧАЙНЫЙ ЛЕС**\n",
        "\n"
      ],
      "metadata": {
        "id": "WZeVHO8JNl_U"
      }
    },
    {
      "cell_type": "code",
      "source": [
        "from sklearn.ensemble import RandomForestClassifier\n",
        "rf_model = RandomForestClassifier(n_estimators=100)\n",
        "rf_model.fit(X_train, y_train)\n"
      ],
      "metadata": {
        "colab": {
          "base_uri": "https://localhost:8080/",
          "height": 75
        },
        "id": "CWOVZ_F7EmE1",
        "outputId": "b01b8bc9-6c0a-4fe4-9dc0-94ac45b90ec9"
      },
      "execution_count": null,
      "outputs": [
        {
          "output_type": "execute_result",
          "data": {
            "text/plain": [
              "RandomForestClassifier()"
            ],
            "text/html": [
              "<style>#sk-container-id-20 {color: black;background-color: white;}#sk-container-id-20 pre{padding: 0;}#sk-container-id-20 div.sk-toggleable {background-color: white;}#sk-container-id-20 label.sk-toggleable__label {cursor: pointer;display: block;width: 100%;margin-bottom: 0;padding: 0.3em;box-sizing: border-box;text-align: center;}#sk-container-id-20 label.sk-toggleable__label-arrow:before {content: \"▸\";float: left;margin-right: 0.25em;color: #696969;}#sk-container-id-20 label.sk-toggleable__label-arrow:hover:before {color: black;}#sk-container-id-20 div.sk-estimator:hover label.sk-toggleable__label-arrow:before {color: black;}#sk-container-id-20 div.sk-toggleable__content {max-height: 0;max-width: 0;overflow: hidden;text-align: left;background-color: #f0f8ff;}#sk-container-id-20 div.sk-toggleable__content pre {margin: 0.2em;color: black;border-radius: 0.25em;background-color: #f0f8ff;}#sk-container-id-20 input.sk-toggleable__control:checked~div.sk-toggleable__content {max-height: 200px;max-width: 100%;overflow: auto;}#sk-container-id-20 input.sk-toggleable__control:checked~label.sk-toggleable__label-arrow:before {content: \"▾\";}#sk-container-id-20 div.sk-estimator input.sk-toggleable__control:checked~label.sk-toggleable__label {background-color: #d4ebff;}#sk-container-id-20 div.sk-label input.sk-toggleable__control:checked~label.sk-toggleable__label {background-color: #d4ebff;}#sk-container-id-20 input.sk-hidden--visually {border: 0;clip: rect(1px 1px 1px 1px);clip: rect(1px, 1px, 1px, 1px);height: 1px;margin: -1px;overflow: hidden;padding: 0;position: absolute;width: 1px;}#sk-container-id-20 div.sk-estimator {font-family: monospace;background-color: #f0f8ff;border: 1px dotted black;border-radius: 0.25em;box-sizing: border-box;margin-bottom: 0.5em;}#sk-container-id-20 div.sk-estimator:hover {background-color: #d4ebff;}#sk-container-id-20 div.sk-parallel-item::after {content: \"\";width: 100%;border-bottom: 1px solid gray;flex-grow: 1;}#sk-container-id-20 div.sk-label:hover label.sk-toggleable__label {background-color: #d4ebff;}#sk-container-id-20 div.sk-serial::before {content: \"\";position: absolute;border-left: 1px solid gray;box-sizing: border-box;top: 0;bottom: 0;left: 50%;z-index: 0;}#sk-container-id-20 div.sk-serial {display: flex;flex-direction: column;align-items: center;background-color: white;padding-right: 0.2em;padding-left: 0.2em;position: relative;}#sk-container-id-20 div.sk-item {position: relative;z-index: 1;}#sk-container-id-20 div.sk-parallel {display: flex;align-items: stretch;justify-content: center;background-color: white;position: relative;}#sk-container-id-20 div.sk-item::before, #sk-container-id-20 div.sk-parallel-item::before {content: \"\";position: absolute;border-left: 1px solid gray;box-sizing: border-box;top: 0;bottom: 0;left: 50%;z-index: -1;}#sk-container-id-20 div.sk-parallel-item {display: flex;flex-direction: column;z-index: 1;position: relative;background-color: white;}#sk-container-id-20 div.sk-parallel-item:first-child::after {align-self: flex-end;width: 50%;}#sk-container-id-20 div.sk-parallel-item:last-child::after {align-self: flex-start;width: 50%;}#sk-container-id-20 div.sk-parallel-item:only-child::after {width: 0;}#sk-container-id-20 div.sk-dashed-wrapped {border: 1px dashed gray;margin: 0 0.4em 0.5em 0.4em;box-sizing: border-box;padding-bottom: 0.4em;background-color: white;}#sk-container-id-20 div.sk-label label {font-family: monospace;font-weight: bold;display: inline-block;line-height: 1.2em;}#sk-container-id-20 div.sk-label-container {text-align: center;}#sk-container-id-20 div.sk-container {/* jupyter's `normalize.less` sets `[hidden] { display: none; }` but bootstrap.min.css set `[hidden] { display: none !important; }` so we also need the `!important` here to be able to override the default hidden behavior on the sphinx rendered scikit-learn.org. See: https://github.com/scikit-learn/scikit-learn/issues/21755 */display: inline-block !important;position: relative;}#sk-container-id-20 div.sk-text-repr-fallback {display: none;}</style><div id=\"sk-container-id-20\" class=\"sk-top-container\"><div class=\"sk-text-repr-fallback\"><pre>RandomForestClassifier()</pre><b>In a Jupyter environment, please rerun this cell to show the HTML representation or trust the notebook. <br />On GitHub, the HTML representation is unable to render, please try loading this page with nbviewer.org.</b></div><div class=\"sk-container\" hidden><div class=\"sk-item\"><div class=\"sk-estimator sk-toggleable\"><input class=\"sk-toggleable__control sk-hidden--visually\" id=\"sk-estimator-id-20\" type=\"checkbox\" checked><label for=\"sk-estimator-id-20\" class=\"sk-toggleable__label sk-toggleable__label-arrow\">RandomForestClassifier</label><div class=\"sk-toggleable__content\"><pre>RandomForestClassifier()</pre></div></div></div></div></div>"
            ]
          },
          "metadata": {},
          "execution_count": 275
        }
      ]
    },
    {
      "cell_type": "code",
      "source": [
        "rf_pred = rf_model.predict(X_test)"
      ],
      "metadata": {
        "id": "MlTZ8CG0FCmu"
      },
      "execution_count": null,
      "outputs": []
    },
    {
      "cell_type": "code",
      "source": [
        "print(rf_pred)"
      ],
      "metadata": {
        "colab": {
          "base_uri": "https://localhost:8080/"
        },
        "id": "dodBtNQ5FUqJ",
        "outputId": "6d2b6da7-d434-4532-bf24-d2eec6450036"
      },
      "execution_count": null,
      "outputs": [
        {
          "output_type": "stream",
          "name": "stdout",
          "text": [
            "[0 1 0 1 1 1 0 0 0 0 1 0 0 1 0 1 0 0 1 1 0 1 0 0 1 0 1 0 0 1 0 0 0 1 0 0 1\n",
            " 1 1 1 1 0 0 0 0 1 1 0 0 1 0 0 1 0 0 1 1 1 1 1 0 0 1 1 1 1 0 1 0 0 0 1 0 1\n",
            " 1 0 1 0 1 0 1 0 1 1 1 0 0 1 0 1 0 1 0 1 0 0 0 1 1 1 1 0 1 0 0 1 0 1 0 1 0\n",
            " 1 0 1 0 1 1 0 1 1 1 1 0 1 0 0 1 1 0 1 0 0 0 0 1 0 0 0 0 0 0 0 1 0 0 0 1 1\n",
            " 1 1 0 0 0 1 1 0 0 1 1 1 0 0 1 0 1 1 0 0 1 1 1 1 1 0 0 0 0 1 1 0 0 1 0 0 1\n",
            " 1 0 1 0 1 1 0 0 0 0 1 1 0 1 1 1 0 0 0 1 0 1 1 0 0 0 0 1 1 0 0 1 1 1 0 0 0\n",
            " 1 1 1 1 0 0 0 0 1 0 1 1 0 0 0 0 0 0 0 0 0 1 1 0 1 0 0 1 1 0 0 0 0 1 0 1 0\n",
            " 1 1 1 1 0 1 0 0 1 0 0 1 1 0 0 1 0 1 0 1 1 1 0 1 0 1 0 0 1 0 0 0 0 0 1 1 0\n",
            " 0 0 0 0 0 1 1 1 0 0 0 0 1 1 0 1 1 0 1 0 1 1 0 0 0 0 1 1 1 0 1 0 0 0 1 1 0\n",
            " 0 0 1 1 0 1 0 0 1 1 0 1 1 1 0 0 1 1 0 0 1 1 0 0 1 0 0 0 1 0 0 0 0 0 1 0 1\n",
            " 1 1 0 1 1 1 1 0]\n"
          ]
        }
      ]
    },
    {
      "cell_type": "code",
      "source": [
        "# выводим вероятности прогнозов\n",
        "probability = rf_model.predict_proba(X_test)\n",
        "print(probability)"
      ],
      "metadata": {
        "id": "LBRmwbUbFqCV",
        "colab": {
          "base_uri": "https://localhost:8080/"
        },
        "outputId": "9402db70-2072-4179-b99f-e2e80d02076f"
      },
      "execution_count": null,
      "outputs": [
        {
          "output_type": "stream",
          "name": "stdout",
          "text": [
            "[[0.97 0.03]\n",
            " [0.07 0.93]\n",
            " [0.99 0.01]\n",
            " [0.08 0.92]\n",
            " [0.24 0.76]\n",
            " [0.   1.  ]\n",
            " [1.   0.  ]\n",
            " [0.82 0.18]\n",
            " [1.   0.  ]\n",
            " [1.   0.  ]\n",
            " [0.   1.  ]\n",
            " [1.   0.  ]\n",
            " [0.89 0.11]\n",
            " [0.   1.  ]\n",
            " [0.99 0.01]\n",
            " [0.   1.  ]\n",
            " [1.   0.  ]\n",
            " [0.95 0.05]\n",
            " [0.   1.  ]\n",
            " [0.07 0.93]\n",
            " [1.   0.  ]\n",
            " [0.   1.  ]\n",
            " [0.91 0.09]\n",
            " [1.   0.  ]\n",
            " [0.   1.  ]\n",
            " [0.99 0.01]\n",
            " [0.   1.  ]\n",
            " [0.98 0.02]\n",
            " [0.97 0.03]\n",
            " [0.   1.  ]\n",
            " [1.   0.  ]\n",
            " [0.95 0.05]\n",
            " [1.   0.  ]\n",
            " [0.07 0.93]\n",
            " [1.   0.  ]\n",
            " [0.99 0.01]\n",
            " [0.05 0.95]\n",
            " [0.18 0.82]\n",
            " [0.   1.  ]\n",
            " [0.   1.  ]\n",
            " [0.03 0.97]\n",
            " [0.96 0.04]\n",
            " [1.   0.  ]\n",
            " [0.97 0.03]\n",
            " [0.99 0.01]\n",
            " [0.01 0.99]\n",
            " [0.   1.  ]\n",
            " [0.63 0.37]\n",
            " [0.99 0.01]\n",
            " [0.   1.  ]\n",
            " [0.99 0.01]\n",
            " [0.93 0.07]\n",
            " [0.14 0.86]\n",
            " [0.86 0.14]\n",
            " [0.97 0.03]\n",
            " [0.07 0.93]\n",
            " [0.   1.  ]\n",
            " [0.05 0.95]\n",
            " [0.   1.  ]\n",
            " [0.   1.  ]\n",
            " [0.9  0.1 ]\n",
            " [0.99 0.01]\n",
            " [0.   1.  ]\n",
            " [0.01 0.99]\n",
            " [0.   1.  ]\n",
            " [0.01 0.99]\n",
            " [0.97 0.03]\n",
            " [0.   1.  ]\n",
            " [0.53 0.47]\n",
            " [1.   0.  ]\n",
            " [0.95 0.05]\n",
            " [0.   1.  ]\n",
            " [0.98 0.02]\n",
            " [0.06 0.94]\n",
            " [0.1  0.9 ]\n",
            " [0.98 0.02]\n",
            " [0.06 0.94]\n",
            " [0.99 0.01]\n",
            " [0.   1.  ]\n",
            " [0.99 0.01]\n",
            " [0.01 0.99]\n",
            " [1.   0.  ]\n",
            " [0.01 0.99]\n",
            " [0.06 0.94]\n",
            " [0.01 0.99]\n",
            " [0.6  0.4 ]\n",
            " [0.56 0.44]\n",
            " [0.05 0.95]\n",
            " [0.7  0.3 ]\n",
            " [0.   1.  ]\n",
            " [1.   0.  ]\n",
            " [0.1  0.9 ]\n",
            " [1.   0.  ]\n",
            " [0.02 0.98]\n",
            " [0.96 0.04]\n",
            " [0.99 0.01]\n",
            " [0.98 0.02]\n",
            " [0.   1.  ]\n",
            " [0.01 0.99]\n",
            " [0.02 0.98]\n",
            " [0.05 0.95]\n",
            " [0.98 0.02]\n",
            " [0.08 0.92]\n",
            " [0.93 0.07]\n",
            " [0.99 0.01]\n",
            " [0.   1.  ]\n",
            " [1.   0.  ]\n",
            " [0.   1.  ]\n",
            " [0.97 0.03]\n",
            " [0.   1.  ]\n",
            " [0.96 0.04]\n",
            " [0.   1.  ]\n",
            " [0.96 0.04]\n",
            " [0.02 0.98]\n",
            " [0.98 0.02]\n",
            " [0.11 0.89]\n",
            " [0.   1.  ]\n",
            " [0.82 0.18]\n",
            " [0.05 0.95]\n",
            " [0.02 0.98]\n",
            " [0.01 0.99]\n",
            " [0.   1.  ]\n",
            " [0.98 0.02]\n",
            " [0.   1.  ]\n",
            " [1.   0.  ]\n",
            " [0.99 0.01]\n",
            " [0.09 0.91]\n",
            " [0.   1.  ]\n",
            " [1.   0.  ]\n",
            " [0.   1.  ]\n",
            " [1.   0.  ]\n",
            " [1.   0.  ]\n",
            " [0.91 0.09]\n",
            " [1.   0.  ]\n",
            " [0.01 0.99]\n",
            " [0.94 0.06]\n",
            " [0.94 0.06]\n",
            " [0.98 0.02]\n",
            " [1.   0.  ]\n",
            " [0.95 0.05]\n",
            " [0.88 0.12]\n",
            " [1.   0.  ]\n",
            " [0.   1.  ]\n",
            " [0.96 0.04]\n",
            " [0.82 0.18]\n",
            " [1.   0.  ]\n",
            " [0.   1.  ]\n",
            " [0.   1.  ]\n",
            " [0.   1.  ]\n",
            " [0.01 0.99]\n",
            " [0.97 0.03]\n",
            " [1.   0.  ]\n",
            " [0.99 0.01]\n",
            " [0.01 0.99]\n",
            " [0.03 0.97]\n",
            " [0.86 0.14]\n",
            " [0.99 0.01]\n",
            " [0.04 0.96]\n",
            " [0.09 0.91]\n",
            " [0.   1.  ]\n",
            " [1.   0.  ]\n",
            " [0.98 0.02]\n",
            " [0.   1.  ]\n",
            " [0.95 0.05]\n",
            " [0.3  0.7 ]\n",
            " [0.   1.  ]\n",
            " [0.97 0.03]\n",
            " [0.93 0.07]\n",
            " [0.   1.  ]\n",
            " [0.04 0.96]\n",
            " [0.   1.  ]\n",
            " [0.   1.  ]\n",
            " [0.   1.  ]\n",
            " [0.98 0.02]\n",
            " [0.99 0.01]\n",
            " [0.99 0.01]\n",
            " [0.68 0.32]\n",
            " [0.02 0.98]\n",
            " [0.   1.  ]\n",
            " [0.94 0.06]\n",
            " [0.91 0.09]\n",
            " [0.   1.  ]\n",
            " [0.75 0.25]\n",
            " [0.99 0.01]\n",
            " [0.04 0.96]\n",
            " [0.05 0.95]\n",
            " [0.87 0.13]\n",
            " [0.16 0.84]\n",
            " [0.91 0.09]\n",
            " [0.   1.  ]\n",
            " [0.   1.  ]\n",
            " [0.96 0.04]\n",
            " [0.79 0.21]\n",
            " [1.   0.  ]\n",
            " [0.73 0.27]\n",
            " [0.   1.  ]\n",
            " [0.11 0.89]\n",
            " [1.   0.  ]\n",
            " [0.   1.  ]\n",
            " [0.   1.  ]\n",
            " [0.05 0.95]\n",
            " [1.   0.  ]\n",
            " [1.   0.  ]\n",
            " [1.   0.  ]\n",
            " [0.01 0.99]\n",
            " [1.   0.  ]\n",
            " [0.   1.  ]\n",
            " [0.06 0.94]\n",
            " [1.   0.  ]\n",
            " [0.93 0.07]\n",
            " [0.87 0.13]\n",
            " [0.94 0.06]\n",
            " [0.   1.  ]\n",
            " [0.   1.  ]\n",
            " [0.99 0.01]\n",
            " [0.87 0.13]\n",
            " [0.07 0.93]\n",
            " [0.01 0.99]\n",
            " [0.   1.  ]\n",
            " [0.9  0.1 ]\n",
            " [0.98 0.02]\n",
            " [1.   0.  ]\n",
            " [0.   1.  ]\n",
            " [0.03 0.97]\n",
            " [0.01 0.99]\n",
            " [0.06 0.94]\n",
            " [0.97 0.03]\n",
            " [1.   0.  ]\n",
            " [1.   0.  ]\n",
            " [0.99 0.01]\n",
            " [0.08 0.92]\n",
            " [0.99 0.01]\n",
            " [0.   1.  ]\n",
            " [0.07 0.93]\n",
            " [0.98 0.02]\n",
            " [0.98 0.02]\n",
            " [0.89 0.11]\n",
            " [1.   0.  ]\n",
            " [0.86 0.14]\n",
            " [0.78 0.22]\n",
            " [0.82 0.18]\n",
            " [0.99 0.01]\n",
            " [1.   0.  ]\n",
            " [0.   1.  ]\n",
            " [0.   1.  ]\n",
            " [0.96 0.04]\n",
            " [0.   1.  ]\n",
            " [0.99 0.01]\n",
            " [0.98 0.02]\n",
            " [0.04 0.96]\n",
            " [0.04 0.96]\n",
            " [0.93 0.07]\n",
            " [1.   0.  ]\n",
            " [0.89 0.11]\n",
            " [0.89 0.11]\n",
            " [0.   1.  ]\n",
            " [0.95 0.05]\n",
            " [0.01 0.99]\n",
            " [0.99 0.01]\n",
            " [0.   1.  ]\n",
            " [0.   1.  ]\n",
            " [0.01 0.99]\n",
            " [0.   1.  ]\n",
            " [0.99 0.01]\n",
            " [0.   1.  ]\n",
            " [0.95 0.05]\n",
            " [0.99 0.01]\n",
            " [0.   1.  ]\n",
            " [1.   0.  ]\n",
            " [0.99 0.01]\n",
            " [0.09 0.91]\n",
            " [0.01 0.99]\n",
            " [0.99 0.01]\n",
            " [0.99 0.01]\n",
            " [0.01 0.99]\n",
            " [1.   0.  ]\n",
            " [0.   1.  ]\n",
            " [0.88 0.12]\n",
            " [0.   1.  ]\n",
            " [0.07 0.93]\n",
            " [0.   1.  ]\n",
            " [0.99 0.01]\n",
            " [0.   1.  ]\n",
            " [0.98 0.02]\n",
            " [0.   1.  ]\n",
            " [0.98 0.02]\n",
            " [0.97 0.03]\n",
            " [0.15 0.85]\n",
            " [1.   0.  ]\n",
            " [1.   0.  ]\n",
            " [1.   0.  ]\n",
            " [0.97 0.03]\n",
            " [1.   0.  ]\n",
            " [0.   1.  ]\n",
            " [0.06 0.94]\n",
            " [0.99 0.01]\n",
            " [1.   0.  ]\n",
            " [1.   0.  ]\n",
            " [0.95 0.05]\n",
            " [0.96 0.04]\n",
            " [1.   0.  ]\n",
            " [0.01 0.99]\n",
            " [0.   1.  ]\n",
            " [0.   1.  ]\n",
            " [0.98 0.02]\n",
            " [0.98 0.02]\n",
            " [0.59 0.41]\n",
            " [0.99 0.01]\n",
            " [0.   1.  ]\n",
            " [0.   1.  ]\n",
            " [1.   0.  ]\n",
            " [0.05 0.95]\n",
            " [0.   1.  ]\n",
            " [0.98 0.02]\n",
            " [0.   1.  ]\n",
            " [0.87 0.13]\n",
            " [0.   1.  ]\n",
            " [0.   1.  ]\n",
            " [0.95 0.05]\n",
            " [0.96 0.04]\n",
            " [0.97 0.03]\n",
            " [0.91 0.09]\n",
            " [0.04 0.96]\n",
            " [0.06 0.94]\n",
            " [0.2  0.8 ]\n",
            " [0.98 0.02]\n",
            " [0.01 0.99]\n",
            " [0.99 0.01]\n",
            " [0.99 0.01]\n",
            " [1.   0.  ]\n",
            " [0.47 0.53]\n",
            " [0.   1.  ]\n",
            " [0.85 0.15]\n",
            " [0.95 0.05]\n",
            " [0.92 0.08]\n",
            " [0.   1.  ]\n",
            " [0.01 0.99]\n",
            " [0.96 0.04]\n",
            " [0.12 0.88]\n",
            " [0.97 0.03]\n",
            " [0.98 0.02]\n",
            " [0.   1.  ]\n",
            " [0.   1.  ]\n",
            " [1.   0.  ]\n",
            " [0.   1.  ]\n",
            " [0.   1.  ]\n",
            " [0.05 0.95]\n",
            " [0.96 0.04]\n",
            " [1.   0.  ]\n",
            " [0.03 0.97]\n",
            " [0.   1.  ]\n",
            " [1.   0.  ]\n",
            " [0.96 0.04]\n",
            " [0.44 0.56]\n",
            " [0.02 0.98]\n",
            " [0.86 0.14]\n",
            " [0.59 0.41]\n",
            " [0.01 0.99]\n",
            " [1.   0.  ]\n",
            " [0.94 0.06]\n",
            " [0.98 0.02]\n",
            " [0.04 0.96]\n",
            " [1.   0.  ]\n",
            " [0.98 0.02]\n",
            " [1.   0.  ]\n",
            " [0.97 0.03]\n",
            " [0.99 0.01]\n",
            " [0.   1.  ]\n",
            " [0.67 0.33]\n",
            " [0.   1.  ]\n",
            " [0.25 0.75]\n",
            " [0.   1.  ]\n",
            " [1.   0.  ]\n",
            " [0.   1.  ]\n",
            " [0.01 0.99]\n",
            " [0.   1.  ]\n",
            " [0.   1.  ]\n",
            " [0.98 0.02]]\n"
          ]
        }
      ]
    },
    {
      "cell_type": "code",
      "source": [
        "print('Random Forest Classifier:')\n",
        "print('Accuracy:', accuracy_score(y_test, rf_pred))\n",
        "print('F1 score:', f1_score(y_test, rf_pred, average='weighted'))\n",
        "roc_auc = roc_auc_score(y_test, rf_pred)\n",
        "print('ROC-AUC score:', roc_auc)"
      ],
      "metadata": {
        "colab": {
          "base_uri": "https://localhost:8080/"
        },
        "id": "z2D2kJagFGHO",
        "outputId": "849c5128-7296-4642-9dcf-ada12f559ea4"
      },
      "execution_count": null,
      "outputs": [
        {
          "output_type": "stream",
          "name": "stdout",
          "text": [
            "Random Forest Classifier:\n",
            "Accuracy: 0.9814814814814815\n",
            "F1 score: 0.9814642003201043\n",
            "ROC-AUC score: 0.9808743169398907\n"
          ]
        }
      ]
    },
    {
      "cell_type": "code",
      "source": [
        "# 7. Тестирование модели на новых данных\n",
        "#new_data = np.array([[5.1, 3.5, 1.4, 0.2], [6.2, 2.9, 4.3, 1.3], [7.3, 2.8, 6.3, 1.8]])\n",
        "#new_data_scaled = final_scaler.transform(new_data)\n",
        "#predictions = final_model.predict(new_data_scaled)\n",
        "#print(predictions)"
      ],
      "metadata": {
        "id": "NhIMu6y9G8mm"
      },
      "execution_count": null,
      "outputs": []
    },
    {
      "cell_type": "markdown",
      "source": [
        "**РЕШАЮЩЕЕ ДЕРЕВО**\n",
        "\n",
        "\n",
        "\n",
        "\n",
        "\n"
      ],
      "metadata": {
        "id": "3-jAADQmNdjN"
      }
    },
    {
      "cell_type": "code",
      "source": [
        "from sklearn.tree import DecisionTreeClassifier\n",
        "\n",
        "tree_model = DecisionTreeClassifier(random_state=42)\n",
        "tree_model.fit(X_train, y_train)"
      ],
      "metadata": {
        "colab": {
          "base_uri": "https://localhost:8080/",
          "height": 75
        },
        "id": "0yT-W3KcLcLy",
        "outputId": "c90aa475-091a-4d1a-8211-8a778c49870c"
      },
      "execution_count": null,
      "outputs": [
        {
          "output_type": "execute_result",
          "data": {
            "text/plain": [
              "DecisionTreeClassifier(random_state=42)"
            ],
            "text/html": [
              "<style>#sk-container-id-21 {color: black;background-color: white;}#sk-container-id-21 pre{padding: 0;}#sk-container-id-21 div.sk-toggleable {background-color: white;}#sk-container-id-21 label.sk-toggleable__label {cursor: pointer;display: block;width: 100%;margin-bottom: 0;padding: 0.3em;box-sizing: border-box;text-align: center;}#sk-container-id-21 label.sk-toggleable__label-arrow:before {content: \"▸\";float: left;margin-right: 0.25em;color: #696969;}#sk-container-id-21 label.sk-toggleable__label-arrow:hover:before {color: black;}#sk-container-id-21 div.sk-estimator:hover label.sk-toggleable__label-arrow:before {color: black;}#sk-container-id-21 div.sk-toggleable__content {max-height: 0;max-width: 0;overflow: hidden;text-align: left;background-color: #f0f8ff;}#sk-container-id-21 div.sk-toggleable__content pre {margin: 0.2em;color: black;border-radius: 0.25em;background-color: #f0f8ff;}#sk-container-id-21 input.sk-toggleable__control:checked~div.sk-toggleable__content {max-height: 200px;max-width: 100%;overflow: auto;}#sk-container-id-21 input.sk-toggleable__control:checked~label.sk-toggleable__label-arrow:before {content: \"▾\";}#sk-container-id-21 div.sk-estimator input.sk-toggleable__control:checked~label.sk-toggleable__label {background-color: #d4ebff;}#sk-container-id-21 div.sk-label input.sk-toggleable__control:checked~label.sk-toggleable__label {background-color: #d4ebff;}#sk-container-id-21 input.sk-hidden--visually {border: 0;clip: rect(1px 1px 1px 1px);clip: rect(1px, 1px, 1px, 1px);height: 1px;margin: -1px;overflow: hidden;padding: 0;position: absolute;width: 1px;}#sk-container-id-21 div.sk-estimator {font-family: monospace;background-color: #f0f8ff;border: 1px dotted black;border-radius: 0.25em;box-sizing: border-box;margin-bottom: 0.5em;}#sk-container-id-21 div.sk-estimator:hover {background-color: #d4ebff;}#sk-container-id-21 div.sk-parallel-item::after {content: \"\";width: 100%;border-bottom: 1px solid gray;flex-grow: 1;}#sk-container-id-21 div.sk-label:hover label.sk-toggleable__label {background-color: #d4ebff;}#sk-container-id-21 div.sk-serial::before {content: \"\";position: absolute;border-left: 1px solid gray;box-sizing: border-box;top: 0;bottom: 0;left: 50%;z-index: 0;}#sk-container-id-21 div.sk-serial {display: flex;flex-direction: column;align-items: center;background-color: white;padding-right: 0.2em;padding-left: 0.2em;position: relative;}#sk-container-id-21 div.sk-item {position: relative;z-index: 1;}#sk-container-id-21 div.sk-parallel {display: flex;align-items: stretch;justify-content: center;background-color: white;position: relative;}#sk-container-id-21 div.sk-item::before, #sk-container-id-21 div.sk-parallel-item::before {content: \"\";position: absolute;border-left: 1px solid gray;box-sizing: border-box;top: 0;bottom: 0;left: 50%;z-index: -1;}#sk-container-id-21 div.sk-parallel-item {display: flex;flex-direction: column;z-index: 1;position: relative;background-color: white;}#sk-container-id-21 div.sk-parallel-item:first-child::after {align-self: flex-end;width: 50%;}#sk-container-id-21 div.sk-parallel-item:last-child::after {align-self: flex-start;width: 50%;}#sk-container-id-21 div.sk-parallel-item:only-child::after {width: 0;}#sk-container-id-21 div.sk-dashed-wrapped {border: 1px dashed gray;margin: 0 0.4em 0.5em 0.4em;box-sizing: border-box;padding-bottom: 0.4em;background-color: white;}#sk-container-id-21 div.sk-label label {font-family: monospace;font-weight: bold;display: inline-block;line-height: 1.2em;}#sk-container-id-21 div.sk-label-container {text-align: center;}#sk-container-id-21 div.sk-container {/* jupyter's `normalize.less` sets `[hidden] { display: none; }` but bootstrap.min.css set `[hidden] { display: none !important; }` so we also need the `!important` here to be able to override the default hidden behavior on the sphinx rendered scikit-learn.org. See: https://github.com/scikit-learn/scikit-learn/issues/21755 */display: inline-block !important;position: relative;}#sk-container-id-21 div.sk-text-repr-fallback {display: none;}</style><div id=\"sk-container-id-21\" class=\"sk-top-container\"><div class=\"sk-text-repr-fallback\"><pre>DecisionTreeClassifier(random_state=42)</pre><b>In a Jupyter environment, please rerun this cell to show the HTML representation or trust the notebook. <br />On GitHub, the HTML representation is unable to render, please try loading this page with nbviewer.org.</b></div><div class=\"sk-container\" hidden><div class=\"sk-item\"><div class=\"sk-estimator sk-toggleable\"><input class=\"sk-toggleable__control sk-hidden--visually\" id=\"sk-estimator-id-21\" type=\"checkbox\" checked><label for=\"sk-estimator-id-21\" class=\"sk-toggleable__label sk-toggleable__label-arrow\">DecisionTreeClassifier</label><div class=\"sk-toggleable__content\"><pre>DecisionTreeClassifier(random_state=42)</pre></div></div></div></div></div>"
            ]
          },
          "metadata": {},
          "execution_count": 280
        }
      ]
    },
    {
      "cell_type": "code",
      "source": [
        "tree_pred = tree_model.predict(X_test)"
      ],
      "metadata": {
        "id": "tvhSnQn0LmVW"
      },
      "execution_count": null,
      "outputs": []
    },
    {
      "cell_type": "code",
      "source": [
        "print(tree_pred)"
      ],
      "metadata": {
        "id": "D-1AhnwILyRt",
        "colab": {
          "base_uri": "https://localhost:8080/"
        },
        "outputId": "817d2e92-5dec-4156-b2bc-ea145cdcf6a2"
      },
      "execution_count": null,
      "outputs": [
        {
          "output_type": "stream",
          "name": "stdout",
          "text": [
            "[0 1 0 1 1 1 0 0 0 0 1 0 0 1 0 1 0 0 1 1 0 1 0 0 1 0 1 0 0 1 0 0 0 1 0 0 1\n",
            " 1 1 1 1 0 0 0 0 1 1 1 0 1 0 0 1 0 0 1 1 1 1 1 0 0 1 1 1 1 0 1 0 0 0 1 0 1\n",
            " 1 0 1 0 1 0 1 0 1 1 1 1 0 1 1 1 0 1 0 1 0 0 0 1 1 1 1 0 1 0 0 1 0 1 0 1 0\n",
            " 1 0 1 0 1 1 0 1 1 1 1 0 1 0 0 1 1 0 1 0 0 0 0 1 0 0 0 0 0 0 0 1 0 0 0 1 1\n",
            " 1 1 0 0 0 1 1 0 0 1 1 1 0 0 1 0 1 1 0 0 1 1 1 1 1 0 0 0 1 1 1 0 0 1 1 0 1\n",
            " 1 0 0 1 1 1 0 0 0 1 1 1 0 1 1 1 0 0 0 1 0 1 1 0 0 0 0 1 1 0 0 1 1 1 1 0 0\n",
            " 1 1 1 1 0 0 0 0 1 0 1 1 0 0 0 0 0 1 0 0 0 1 1 0 1 0 0 1 1 0 0 0 0 1 0 1 0\n",
            " 1 1 1 1 0 1 0 0 1 0 0 1 1 0 0 1 0 1 0 1 1 1 0 1 0 1 0 0 1 0 0 0 0 0 1 1 0\n",
            " 0 0 0 0 0 1 1 1 0 0 1 0 1 1 0 1 1 0 1 0 1 1 0 0 0 0 1 1 1 0 1 0 0 0 0 1 0\n",
            " 0 1 1 1 0 1 0 0 1 1 0 1 1 1 0 0 1 1 0 0 0 1 0 1 1 0 0 0 1 0 0 0 1 0 1 0 1\n",
            " 1 1 0 1 1 1 1 0]\n"
          ]
        }
      ]
    },
    {
      "cell_type": "code",
      "source": [
        "tree_prob = tree_model.predict_proba(X_test)[:, 1]\n",
        "print(\"Predicted probabilities:\", tree_prob)"
      ],
      "metadata": {
        "id": "tPSq4iSPMFMh",
        "colab": {
          "base_uri": "https://localhost:8080/"
        },
        "outputId": "b5737863-9430-481e-b289-c4f168c4e050"
      },
      "execution_count": null,
      "outputs": [
        {
          "output_type": "stream",
          "name": "stdout",
          "text": [
            "Predicted probabilities: [0. 1. 0. 1. 1. 1. 0. 0. 0. 0. 1. 0. 0. 1. 0. 1. 0. 0. 1. 1. 0. 1. 0. 0.\n",
            " 1. 0. 1. 0. 0. 1. 0. 0. 0. 1. 0. 0. 1. 1. 1. 1. 1. 0. 0. 0. 0. 1. 1. 1.\n",
            " 0. 1. 0. 0. 1. 0. 0. 1. 1. 1. 1. 1. 0. 0. 1. 1. 1. 1. 0. 1. 0. 0. 0. 1.\n",
            " 0. 1. 1. 0. 1. 0. 1. 0. 1. 0. 1. 1. 1. 1. 0. 1. 1. 1. 0. 1. 0. 1. 0. 0.\n",
            " 0. 1. 1. 1. 1. 0. 1. 0. 0. 1. 0. 1. 0. 1. 0. 1. 0. 1. 0. 1. 1. 0. 1. 1.\n",
            " 1. 1. 0. 1. 0. 0. 1. 1. 0. 1. 0. 0. 0. 0. 1. 0. 0. 0. 0. 0. 0. 0. 1. 0.\n",
            " 0. 0. 1. 1. 1. 1. 0. 0. 0. 1. 1. 0. 0. 1. 1. 1. 0. 0. 1. 0. 1. 1. 0. 0.\n",
            " 1. 1. 1. 1. 1. 0. 0. 0. 1. 1. 1. 0. 0. 1. 1. 0. 1. 1. 0. 0. 1. 1. 1. 0.\n",
            " 0. 0. 1. 1. 1. 0. 1. 1. 1. 0. 0. 0. 1. 0. 1. 1. 0. 0. 0. 0. 1. 1. 0. 0.\n",
            " 1. 1. 1. 1. 0. 0. 1. 1. 1. 1. 0. 0. 0. 0. 1. 0. 1. 1. 0. 0. 0. 0. 0. 1.\n",
            " 0. 0. 0. 1. 1. 0. 1. 0. 0. 1. 1. 0. 0. 0. 0. 1. 0. 1. 0. 1. 1. 1. 1. 0.\n",
            " 1. 0. 0. 1. 0. 0. 1. 1. 0. 0. 1. 0. 1. 0. 1. 1. 1. 0. 1. 0. 1. 0. 0. 1.\n",
            " 0. 0. 0. 0. 0. 1. 1. 0. 0. 0. 0. 0. 0. 1. 1. 1. 0. 0. 1. 0. 1. 1. 0. 1.\n",
            " 1. 0. 1. 0. 1. 1. 0. 0. 0. 0. 1. 1. 1. 0. 1. 0. 0. 0. 0. 1. 0. 0. 1. 1.\n",
            " 1. 0. 1. 0. 0. 1. 1. 0. 1. 1. 1. 0. 0. 1. 1. 0. 0. 0. 1. 0. 1. 1. 0. 0.\n",
            " 0. 1. 0. 0. 0. 1. 0. 1. 0. 1. 1. 1. 0. 1. 1. 1. 1. 0.]\n"
          ]
        }
      ]
    },
    {
      "cell_type": "code",
      "source": [
        "# выводим вероятности прогнозов\n",
        "probability_tree = tree_model.predict_proba(X_test)\n",
        "print(probability_tree)"
      ],
      "metadata": {
        "id": "xq8dQZYoL6I2",
        "colab": {
          "base_uri": "https://localhost:8080/"
        },
        "outputId": "d45967ee-b436-4979-bb18-e5a372e03505"
      },
      "execution_count": null,
      "outputs": [
        {
          "output_type": "stream",
          "name": "stdout",
          "text": [
            "[[1. 0.]\n",
            " [0. 1.]\n",
            " [1. 0.]\n",
            " [0. 1.]\n",
            " [0. 1.]\n",
            " [0. 1.]\n",
            " [1. 0.]\n",
            " [1. 0.]\n",
            " [1. 0.]\n",
            " [1. 0.]\n",
            " [0. 1.]\n",
            " [1. 0.]\n",
            " [1. 0.]\n",
            " [0. 1.]\n",
            " [1. 0.]\n",
            " [0. 1.]\n",
            " [1. 0.]\n",
            " [1. 0.]\n",
            " [0. 1.]\n",
            " [0. 1.]\n",
            " [1. 0.]\n",
            " [0. 1.]\n",
            " [1. 0.]\n",
            " [1. 0.]\n",
            " [0. 1.]\n",
            " [1. 0.]\n",
            " [0. 1.]\n",
            " [1. 0.]\n",
            " [1. 0.]\n",
            " [0. 1.]\n",
            " [1. 0.]\n",
            " [1. 0.]\n",
            " [1. 0.]\n",
            " [0. 1.]\n",
            " [1. 0.]\n",
            " [1. 0.]\n",
            " [0. 1.]\n",
            " [0. 1.]\n",
            " [0. 1.]\n",
            " [0. 1.]\n",
            " [0. 1.]\n",
            " [1. 0.]\n",
            " [1. 0.]\n",
            " [1. 0.]\n",
            " [1. 0.]\n",
            " [0. 1.]\n",
            " [0. 1.]\n",
            " [0. 1.]\n",
            " [1. 0.]\n",
            " [0. 1.]\n",
            " [1. 0.]\n",
            " [1. 0.]\n",
            " [0. 1.]\n",
            " [1. 0.]\n",
            " [1. 0.]\n",
            " [0. 1.]\n",
            " [0. 1.]\n",
            " [0. 1.]\n",
            " [0. 1.]\n",
            " [0. 1.]\n",
            " [1. 0.]\n",
            " [1. 0.]\n",
            " [0. 1.]\n",
            " [0. 1.]\n",
            " [0. 1.]\n",
            " [0. 1.]\n",
            " [1. 0.]\n",
            " [0. 1.]\n",
            " [1. 0.]\n",
            " [1. 0.]\n",
            " [1. 0.]\n",
            " [0. 1.]\n",
            " [1. 0.]\n",
            " [0. 1.]\n",
            " [0. 1.]\n",
            " [1. 0.]\n",
            " [0. 1.]\n",
            " [1. 0.]\n",
            " [0. 1.]\n",
            " [1. 0.]\n",
            " [0. 1.]\n",
            " [1. 0.]\n",
            " [0. 1.]\n",
            " [0. 1.]\n",
            " [0. 1.]\n",
            " [0. 1.]\n",
            " [1. 0.]\n",
            " [0. 1.]\n",
            " [0. 1.]\n",
            " [0. 1.]\n",
            " [1. 0.]\n",
            " [0. 1.]\n",
            " [1. 0.]\n",
            " [0. 1.]\n",
            " [1. 0.]\n",
            " [1. 0.]\n",
            " [1. 0.]\n",
            " [0. 1.]\n",
            " [0. 1.]\n",
            " [0. 1.]\n",
            " [0. 1.]\n",
            " [1. 0.]\n",
            " [0. 1.]\n",
            " [1. 0.]\n",
            " [1. 0.]\n",
            " [0. 1.]\n",
            " [1. 0.]\n",
            " [0. 1.]\n",
            " [1. 0.]\n",
            " [0. 1.]\n",
            " [1. 0.]\n",
            " [0. 1.]\n",
            " [1. 0.]\n",
            " [0. 1.]\n",
            " [1. 0.]\n",
            " [0. 1.]\n",
            " [0. 1.]\n",
            " [1. 0.]\n",
            " [0. 1.]\n",
            " [0. 1.]\n",
            " [0. 1.]\n",
            " [0. 1.]\n",
            " [1. 0.]\n",
            " [0. 1.]\n",
            " [1. 0.]\n",
            " [1. 0.]\n",
            " [0. 1.]\n",
            " [0. 1.]\n",
            " [1. 0.]\n",
            " [0. 1.]\n",
            " [1. 0.]\n",
            " [1. 0.]\n",
            " [1. 0.]\n",
            " [1. 0.]\n",
            " [0. 1.]\n",
            " [1. 0.]\n",
            " [1. 0.]\n",
            " [1. 0.]\n",
            " [1. 0.]\n",
            " [1. 0.]\n",
            " [1. 0.]\n",
            " [1. 0.]\n",
            " [0. 1.]\n",
            " [1. 0.]\n",
            " [1. 0.]\n",
            " [1. 0.]\n",
            " [0. 1.]\n",
            " [0. 1.]\n",
            " [0. 1.]\n",
            " [0. 1.]\n",
            " [1. 0.]\n",
            " [1. 0.]\n",
            " [1. 0.]\n",
            " [0. 1.]\n",
            " [0. 1.]\n",
            " [1. 0.]\n",
            " [1. 0.]\n",
            " [0. 1.]\n",
            " [0. 1.]\n",
            " [0. 1.]\n",
            " [1. 0.]\n",
            " [1. 0.]\n",
            " [0. 1.]\n",
            " [1. 0.]\n",
            " [0. 1.]\n",
            " [0. 1.]\n",
            " [1. 0.]\n",
            " [1. 0.]\n",
            " [0. 1.]\n",
            " [0. 1.]\n",
            " [0. 1.]\n",
            " [0. 1.]\n",
            " [0. 1.]\n",
            " [1. 0.]\n",
            " [1. 0.]\n",
            " [1. 0.]\n",
            " [0. 1.]\n",
            " [0. 1.]\n",
            " [0. 1.]\n",
            " [1. 0.]\n",
            " [1. 0.]\n",
            " [0. 1.]\n",
            " [0. 1.]\n",
            " [1. 0.]\n",
            " [0. 1.]\n",
            " [0. 1.]\n",
            " [1. 0.]\n",
            " [1. 0.]\n",
            " [0. 1.]\n",
            " [0. 1.]\n",
            " [0. 1.]\n",
            " [1. 0.]\n",
            " [1. 0.]\n",
            " [1. 0.]\n",
            " [0. 1.]\n",
            " [0. 1.]\n",
            " [0. 1.]\n",
            " [1. 0.]\n",
            " [0. 1.]\n",
            " [0. 1.]\n",
            " [0. 1.]\n",
            " [1. 0.]\n",
            " [1. 0.]\n",
            " [1. 0.]\n",
            " [0. 1.]\n",
            " [1. 0.]\n",
            " [0. 1.]\n",
            " [0. 1.]\n",
            " [1. 0.]\n",
            " [1. 0.]\n",
            " [1. 0.]\n",
            " [1. 0.]\n",
            " [0. 1.]\n",
            " [0. 1.]\n",
            " [1. 0.]\n",
            " [1. 0.]\n",
            " [0. 1.]\n",
            " [0. 1.]\n",
            " [0. 1.]\n",
            " [0. 1.]\n",
            " [1. 0.]\n",
            " [1. 0.]\n",
            " [0. 1.]\n",
            " [0. 1.]\n",
            " [0. 1.]\n",
            " [0. 1.]\n",
            " [1. 0.]\n",
            " [1. 0.]\n",
            " [1. 0.]\n",
            " [1. 0.]\n",
            " [0. 1.]\n",
            " [1. 0.]\n",
            " [0. 1.]\n",
            " [0. 1.]\n",
            " [1. 0.]\n",
            " [1. 0.]\n",
            " [1. 0.]\n",
            " [1. 0.]\n",
            " [1. 0.]\n",
            " [0. 1.]\n",
            " [1. 0.]\n",
            " [1. 0.]\n",
            " [1. 0.]\n",
            " [0. 1.]\n",
            " [0. 1.]\n",
            " [1. 0.]\n",
            " [0. 1.]\n",
            " [1. 0.]\n",
            " [1. 0.]\n",
            " [0. 1.]\n",
            " [0. 1.]\n",
            " [1. 0.]\n",
            " [1. 0.]\n",
            " [1. 0.]\n",
            " [1. 0.]\n",
            " [0. 1.]\n",
            " [1. 0.]\n",
            " [0. 1.]\n",
            " [1. 0.]\n",
            " [0. 1.]\n",
            " [0. 1.]\n",
            " [0. 1.]\n",
            " [0. 1.]\n",
            " [1. 0.]\n",
            " [0. 1.]\n",
            " [1. 0.]\n",
            " [1. 0.]\n",
            " [0. 1.]\n",
            " [1. 0.]\n",
            " [1. 0.]\n",
            " [0. 1.]\n",
            " [0. 1.]\n",
            " [1. 0.]\n",
            " [1. 0.]\n",
            " [0. 1.]\n",
            " [1. 0.]\n",
            " [0. 1.]\n",
            " [1. 0.]\n",
            " [0. 1.]\n",
            " [0. 1.]\n",
            " [0. 1.]\n",
            " [1. 0.]\n",
            " [0. 1.]\n",
            " [1. 0.]\n",
            " [0. 1.]\n",
            " [1. 0.]\n",
            " [1. 0.]\n",
            " [0. 1.]\n",
            " [1. 0.]\n",
            " [1. 0.]\n",
            " [1. 0.]\n",
            " [1. 0.]\n",
            " [1. 0.]\n",
            " [0. 1.]\n",
            " [0. 1.]\n",
            " [1. 0.]\n",
            " [1. 0.]\n",
            " [1. 0.]\n",
            " [1. 0.]\n",
            " [1. 0.]\n",
            " [1. 0.]\n",
            " [0. 1.]\n",
            " [0. 1.]\n",
            " [0. 1.]\n",
            " [1. 0.]\n",
            " [1. 0.]\n",
            " [0. 1.]\n",
            " [1. 0.]\n",
            " [0. 1.]\n",
            " [0. 1.]\n",
            " [1. 0.]\n",
            " [0. 1.]\n",
            " [0. 1.]\n",
            " [1. 0.]\n",
            " [0. 1.]\n",
            " [1. 0.]\n",
            " [0. 1.]\n",
            " [0. 1.]\n",
            " [1. 0.]\n",
            " [1. 0.]\n",
            " [1. 0.]\n",
            " [1. 0.]\n",
            " [0. 1.]\n",
            " [0. 1.]\n",
            " [0. 1.]\n",
            " [1. 0.]\n",
            " [0. 1.]\n",
            " [1. 0.]\n",
            " [1. 0.]\n",
            " [1. 0.]\n",
            " [1. 0.]\n",
            " [0. 1.]\n",
            " [1. 0.]\n",
            " [1. 0.]\n",
            " [0. 1.]\n",
            " [0. 1.]\n",
            " [0. 1.]\n",
            " [1. 0.]\n",
            " [0. 1.]\n",
            " [1. 0.]\n",
            " [1. 0.]\n",
            " [0. 1.]\n",
            " [0. 1.]\n",
            " [1. 0.]\n",
            " [0. 1.]\n",
            " [0. 1.]\n",
            " [0. 1.]\n",
            " [1. 0.]\n",
            " [1. 0.]\n",
            " [0. 1.]\n",
            " [0. 1.]\n",
            " [1. 0.]\n",
            " [1. 0.]\n",
            " [1. 0.]\n",
            " [0. 1.]\n",
            " [1. 0.]\n",
            " [0. 1.]\n",
            " [0. 1.]\n",
            " [1. 0.]\n",
            " [1. 0.]\n",
            " [1. 0.]\n",
            " [0. 1.]\n",
            " [1. 0.]\n",
            " [1. 0.]\n",
            " [1. 0.]\n",
            " [0. 1.]\n",
            " [1. 0.]\n",
            " [0. 1.]\n",
            " [1. 0.]\n",
            " [0. 1.]\n",
            " [0. 1.]\n",
            " [0. 1.]\n",
            " [1. 0.]\n",
            " [0. 1.]\n",
            " [0. 1.]\n",
            " [0. 1.]\n",
            " [0. 1.]\n",
            " [1. 0.]]\n"
          ]
        }
      ]
    },
    {
      "cell_type": "code",
      "source": [
        "roc_auc = roc_auc_score(y_test, tree_pred)\n",
        "print('Random Forest Classifier:')\n",
        "print('Accuracy:', accuracy_score(y_test, tree_pred))\n",
        "print('F1 score:', f1_score(y_test, tree_pred, average='weighted'))\n",
        "print(\"ROC-AUC score:\", roc_auc)"
      ],
      "metadata": {
        "colab": {
          "base_uri": "https://localhost:8080/"
        },
        "id": "Vk_oOkxiM3oA",
        "outputId": "aea42755-14d8-452c-feea-a5f56f20974f"
      },
      "execution_count": null,
      "outputs": [
        {
          "output_type": "stream",
          "name": "stdout",
          "text": [
            "Random Forest Classifier:\n",
            "Accuracy: 0.9497354497354498\n",
            "F1 score: 0.9497449533373149\n",
            "ROC-AUC score: 0.949936948297604\n"
          ]
        }
      ]
    },
    {
      "cell_type": "markdown",
      "source": [
        "**ГРАДИЕНТНЫЙ БУСТИНГ**"
      ],
      "metadata": {
        "id": "OKbsaStZOGFd"
      }
    },
    {
      "cell_type": "code",
      "source": [
        "# обучение модели градиентного бустинга\n",
        "from sklearn.ensemble import GradientBoostingClassifier\n",
        "gb_model = GradientBoostingClassifier(n_estimators=100, learning_rate=0.1, random_state=42)\n",
        "gb_model.fit(X_train, y_train)"
      ],
      "metadata": {
        "colab": {
          "base_uri": "https://localhost:8080/",
          "height": 75
        },
        "id": "vuAWWiLhOFjD",
        "outputId": "92852344-01bf-4b7c-ee1a-47fd00aeea8b"
      },
      "execution_count": null,
      "outputs": [
        {
          "output_type": "execute_result",
          "data": {
            "text/plain": [
              "GradientBoostingClassifier(random_state=42)"
            ],
            "text/html": [
              "<style>#sk-container-id-22 {color: black;background-color: white;}#sk-container-id-22 pre{padding: 0;}#sk-container-id-22 div.sk-toggleable {background-color: white;}#sk-container-id-22 label.sk-toggleable__label {cursor: pointer;display: block;width: 100%;margin-bottom: 0;padding: 0.3em;box-sizing: border-box;text-align: center;}#sk-container-id-22 label.sk-toggleable__label-arrow:before {content: \"▸\";float: left;margin-right: 0.25em;color: #696969;}#sk-container-id-22 label.sk-toggleable__label-arrow:hover:before {color: black;}#sk-container-id-22 div.sk-estimator:hover label.sk-toggleable__label-arrow:before {color: black;}#sk-container-id-22 div.sk-toggleable__content {max-height: 0;max-width: 0;overflow: hidden;text-align: left;background-color: #f0f8ff;}#sk-container-id-22 div.sk-toggleable__content pre {margin: 0.2em;color: black;border-radius: 0.25em;background-color: #f0f8ff;}#sk-container-id-22 input.sk-toggleable__control:checked~div.sk-toggleable__content {max-height: 200px;max-width: 100%;overflow: auto;}#sk-container-id-22 input.sk-toggleable__control:checked~label.sk-toggleable__label-arrow:before {content: \"▾\";}#sk-container-id-22 div.sk-estimator input.sk-toggleable__control:checked~label.sk-toggleable__label {background-color: #d4ebff;}#sk-container-id-22 div.sk-label input.sk-toggleable__control:checked~label.sk-toggleable__label {background-color: #d4ebff;}#sk-container-id-22 input.sk-hidden--visually {border: 0;clip: rect(1px 1px 1px 1px);clip: rect(1px, 1px, 1px, 1px);height: 1px;margin: -1px;overflow: hidden;padding: 0;position: absolute;width: 1px;}#sk-container-id-22 div.sk-estimator {font-family: monospace;background-color: #f0f8ff;border: 1px dotted black;border-radius: 0.25em;box-sizing: border-box;margin-bottom: 0.5em;}#sk-container-id-22 div.sk-estimator:hover {background-color: #d4ebff;}#sk-container-id-22 div.sk-parallel-item::after {content: \"\";width: 100%;border-bottom: 1px solid gray;flex-grow: 1;}#sk-container-id-22 div.sk-label:hover label.sk-toggleable__label {background-color: #d4ebff;}#sk-container-id-22 div.sk-serial::before {content: \"\";position: absolute;border-left: 1px solid gray;box-sizing: border-box;top: 0;bottom: 0;left: 50%;z-index: 0;}#sk-container-id-22 div.sk-serial {display: flex;flex-direction: column;align-items: center;background-color: white;padding-right: 0.2em;padding-left: 0.2em;position: relative;}#sk-container-id-22 div.sk-item {position: relative;z-index: 1;}#sk-container-id-22 div.sk-parallel {display: flex;align-items: stretch;justify-content: center;background-color: white;position: relative;}#sk-container-id-22 div.sk-item::before, #sk-container-id-22 div.sk-parallel-item::before {content: \"\";position: absolute;border-left: 1px solid gray;box-sizing: border-box;top: 0;bottom: 0;left: 50%;z-index: -1;}#sk-container-id-22 div.sk-parallel-item {display: flex;flex-direction: column;z-index: 1;position: relative;background-color: white;}#sk-container-id-22 div.sk-parallel-item:first-child::after {align-self: flex-end;width: 50%;}#sk-container-id-22 div.sk-parallel-item:last-child::after {align-self: flex-start;width: 50%;}#sk-container-id-22 div.sk-parallel-item:only-child::after {width: 0;}#sk-container-id-22 div.sk-dashed-wrapped {border: 1px dashed gray;margin: 0 0.4em 0.5em 0.4em;box-sizing: border-box;padding-bottom: 0.4em;background-color: white;}#sk-container-id-22 div.sk-label label {font-family: monospace;font-weight: bold;display: inline-block;line-height: 1.2em;}#sk-container-id-22 div.sk-label-container {text-align: center;}#sk-container-id-22 div.sk-container {/* jupyter's `normalize.less` sets `[hidden] { display: none; }` but bootstrap.min.css set `[hidden] { display: none !important; }` so we also need the `!important` here to be able to override the default hidden behavior on the sphinx rendered scikit-learn.org. See: https://github.com/scikit-learn/scikit-learn/issues/21755 */display: inline-block !important;position: relative;}#sk-container-id-22 div.sk-text-repr-fallback {display: none;}</style><div id=\"sk-container-id-22\" class=\"sk-top-container\"><div class=\"sk-text-repr-fallback\"><pre>GradientBoostingClassifier(random_state=42)</pre><b>In a Jupyter environment, please rerun this cell to show the HTML representation or trust the notebook. <br />On GitHub, the HTML representation is unable to render, please try loading this page with nbviewer.org.</b></div><div class=\"sk-container\" hidden><div class=\"sk-item\"><div class=\"sk-estimator sk-toggleable\"><input class=\"sk-toggleable__control sk-hidden--visually\" id=\"sk-estimator-id-22\" type=\"checkbox\" checked><label for=\"sk-estimator-id-22\" class=\"sk-toggleable__label sk-toggleable__label-arrow\">GradientBoostingClassifier</label><div class=\"sk-toggleable__content\"><pre>GradientBoostingClassifier(random_state=42)</pre></div></div></div></div></div>"
            ]
          },
          "metadata": {},
          "execution_count": 286
        }
      ]
    },
    {
      "cell_type": "code",
      "source": [
        "gradient_pred = gb_model.predict(X_test)"
      ],
      "metadata": {
        "id": "x9KI8EfAOqB6"
      },
      "execution_count": null,
      "outputs": []
    },
    {
      "cell_type": "code",
      "source": [
        "print(gradient_pred)"
      ],
      "metadata": {
        "colab": {
          "base_uri": "https://localhost:8080/"
        },
        "id": "iqUXvD90OyxE",
        "outputId": "d3598d5d-0449-449d-ef95-b5c3ae72957f"
      },
      "execution_count": null,
      "outputs": [
        {
          "output_type": "stream",
          "name": "stdout",
          "text": [
            "[0 1 0 1 1 1 0 0 0 0 1 0 0 1 0 1 0 0 1 1 0 1 0 0 1 0 1 0 0 1 0 0 0 1 0 0 1\n",
            " 1 1 1 1 0 0 0 0 1 1 0 0 1 0 0 1 0 0 1 1 1 1 1 0 0 1 1 1 1 0 1 0 0 0 1 0 1\n",
            " 1 0 1 0 1 0 1 0 1 1 1 0 1 1 0 1 0 1 0 1 0 0 0 1 1 1 1 0 1 0 0 1 0 1 0 1 0\n",
            " 1 0 1 0 1 1 0 1 1 1 1 0 1 0 0 1 1 0 1 0 0 0 0 1 0 0 0 0 0 0 0 1 0 0 0 1 1\n",
            " 1 1 0 0 0 1 1 0 0 1 1 1 0 0 1 0 1 1 0 0 1 1 1 1 1 0 0 0 0 1 1 0 0 1 0 0 1\n",
            " 1 0 1 0 1 1 0 0 0 0 1 1 0 1 1 1 0 0 0 1 0 1 1 0 0 0 0 1 1 0 0 1 1 1 0 0 0\n",
            " 1 1 1 1 0 0 0 0 1 0 1 1 0 0 0 0 0 0 0 0 0 1 1 0 1 0 0 1 1 0 0 0 0 1 0 1 0\n",
            " 1 1 1 1 0 1 0 0 1 0 0 1 1 0 0 1 0 1 0 1 1 1 0 1 0 1 0 0 1 0 0 0 0 0 1 1 0\n",
            " 0 0 0 0 0 1 1 1 0 0 1 0 1 1 0 1 1 0 1 0 1 1 0 0 0 0 1 1 1 0 1 0 0 0 1 1 0\n",
            " 0 0 1 1 0 1 0 0 1 1 0 1 1 1 0 0 1 1 0 0 0 1 0 1 1 0 0 0 1 0 0 0 0 0 1 0 1\n",
            " 1 1 0 1 1 1 1 0]\n"
          ]
        }
      ]
    },
    {
      "cell_type": "code",
      "source": [
        "# предсказание вероятностей и округление до двух знаков после запятой\n",
        "y_pred_proba = gb_model.predict_proba(X_test)[:, 1]\n",
        "y_pred_proba_rounded = np.round(y_pred_proba, 2)"
      ],
      "metadata": {
        "id": "Vz-3apCMOQpH"
      },
      "execution_count": null,
      "outputs": []
    },
    {
      "cell_type": "code",
      "source": [
        "# вывод результатов\n",
        "print(\"Predicted probabilities:\", y_pred_proba_rounded)"
      ],
      "metadata": {
        "colab": {
          "base_uri": "https://localhost:8080/"
        },
        "id": "fGXvked1OTOC",
        "outputId": "9297073b-1442-474d-97bf-245cd48c28b5"
      },
      "execution_count": null,
      "outputs": [
        {
          "output_type": "stream",
          "name": "stdout",
          "text": [
            "Predicted probabilities: [0.   0.99 0.02 0.65 0.98 0.99 0.   0.01 0.   0.   0.99 0.01 0.06 1.\n",
            " 0.04 1.   0.01 0.02 1.   0.99 0.01 1.   0.12 0.01 1.   0.05 1.   0.1\n",
            " 0.04 0.98 0.01 0.11 0.01 1.   0.   0.   0.95 0.92 0.99 0.99 0.99 0.03\n",
            " 0.02 0.01 0.01 1.   0.99 0.22 0.01 1.   0.01 0.08 0.97 0.45 0.   1.\n",
            " 1.   0.97 0.99 0.99 0.03 0.02 1.   1.   1.   1.   0.06 1.   0.38 0.01\n",
            " 0.05 1.   0.   0.99 0.99 0.01 0.97 0.01 1.   0.04 1.   0.   1.   0.93\n",
            " 0.99 0.18 0.66 0.99 0.14 1.   0.   0.97 0.01 0.99 0.03 0.03 0.   1.\n",
            " 1.   0.98 0.99 0.03 1.   0.03 0.   1.   0.01 0.99 0.02 1.   0.03 1.\n",
            " 0.   1.   0.03 0.97 1.   0.07 0.97 0.97 1.   1.   0.01 1.   0.   0.03\n",
            " 0.99 0.99 0.01 1.   0.04 0.01 0.02 0.01 1.   0.02 0.09 0.03 0.01 0.01\n",
            " 0.04 0.   1.   0.01 0.29 0.02 1.   1.   1.   0.98 0.02 0.01 0.   0.99\n",
            " 0.99 0.05 0.01 1.   0.98 1.   0.03 0.01 0.99 0.4  0.56 1.   0.01 0.05\n",
            " 1.   0.97 1.   1.   0.99 0.01 0.01 0.01 0.15 1.   1.   0.05 0.05 1.\n",
            " 0.24 0.11 0.99 0.99 0.2  0.87 0.12 0.99 1.   0.   0.25 0.   0.09 1.\n",
            " 0.95 0.01 1.   1.   0.99 0.   0.01 0.01 1.   0.01 1.   0.97 0.01 0.01\n",
            " 0.02 0.06 1.   1.   0.11 0.29 1.   1.   1.   0.03 0.02 0.02 1.   0.98\n",
            " 0.99 0.98 0.   0.02 0.02 0.03 0.65 0.01 1.   0.99 0.03 0.04 0.01 0.\n",
            " 0.11 0.21 0.08 0.04 0.   1.   1.   0.05 1.   0.01 0.01 1.   1.   0.04\n",
            " 0.01 0.05 0.01 1.   0.02 1.   0.01 1.   1.   0.99 1.   0.01 1.   0.01\n",
            " 0.01 1.   0.03 0.03 0.98 1.   0.07 0.01 0.99 0.01 1.   0.02 1.   0.96\n",
            " 1.   0.02 0.99 0.   0.99 0.01 0.01 0.99 0.01 0.   0.   0.01 0.04 0.99\n",
            " 0.99 0.01 0.   0.03 0.06 0.   0.   0.99 1.   1.   0.03 0.01 0.51 0.02\n",
            " 1.   1.   0.   0.99 1.   0.02 1.   0.28 1.   1.   0.01 0.02 0.01 0.05\n",
            " 0.98 1.   0.77 0.01 1.   0.01 0.   0.01 0.69 1.   0.1  0.01 0.04 1.\n",
            " 0.98 0.02 0.95 0.03 0.01 1.   1.   0.01 1.   1.   0.95 0.01 0.01 0.99\n",
            " 1.   0.   0.06 0.48 1.   0.06 0.51 1.   0.   0.01 0.04 0.99 0.01 0.01\n",
            " 0.01 0.01 0.   0.99 0.36 1.   0.71 1.   0.01 1.   1.   0.99 1.   0.  ]\n"
          ]
        }
      ]
    },
    {
      "cell_type": "code",
      "source": [
        "roc_auc = roc_auc_score(y_test, gradient_pred)\n",
        "print('Random Forest Classifier:')\n",
        "print('Accuracy:', accuracy_score(y_test, gradient_pred))\n",
        "print('F1 score:', f1_score(y_test, gradient_pred, average='weighted'))\n",
        "print(\"ROC-AUC score:\", roc_auc)"
      ],
      "metadata": {
        "colab": {
          "base_uri": "https://localhost:8080/"
        },
        "id": "aWRC-GV4O72y",
        "outputId": "22fae647-33f3-4dd3-ccb1-3a543e8d6c16"
      },
      "execution_count": null,
      "outputs": [
        {
          "output_type": "stream",
          "name": "stdout",
          "text": [
            "Random Forest Classifier:\n",
            "Accuracy: 0.9708994708994709\n",
            "F1 score: 0.9708821242535608\n",
            "ROC-AUC score: 0.9704497688104246\n"
          ]
        }
      ]
    },
    {
      "cell_type": "markdown",
      "source": [
        "**НЕЙРОННЫЕ СЕТИ**"
      ],
      "metadata": {
        "id": "8r-lJyLdPXRJ"
      }
    },
    {
      "cell_type": "code",
      "source": [
        "# масштабирование числовых признаков\n",
        "from sklearn.neural_network import MLPClassifier\n",
        "from sklearn.preprocessing import  StandardScaler\n",
        "scaler = StandardScaler()\n",
        "num_features = ['Temperature', 'Wind_speed']\n",
        "df[num_features] = scaler.fit_transform(df[num_features])"
      ],
      "metadata": {
        "id": "MUTuEbjxPWmN"
      },
      "execution_count": null,
      "outputs": []
    },
    {
      "cell_type": "code",
      "source": [
        "# обучение модели нейронной сети\n",
        "mlp_model = MLPClassifier(hidden_layer_sizes=(10, 5), max_iter=1000, random_state=42)\n",
        "mlp_model.fit(X_train, y_train)\n",
        "mlp_pred = mlp_model.predict(X_test)"
      ],
      "metadata": {
        "id": "39ZUU2wFPglw"
      },
      "execution_count": null,
      "outputs": []
    },
    {
      "cell_type": "markdown",
      "source": [
        "^В этом коде мы загружаем данные из файла electricity.csv, преобразуем категориальные признаки в числовые и масштабируем числовые признаки, разделяем данные на обучающую и тестовую выборки, обучаем модель нейронной сети на обучающей выборке, предсказываем вероятности принадлежности объектов тестовой выборки к положительному классу и округляем их до двух знаков после запятой. Мы использовали параметры hidden_layer_sizes=(10, 5) и max_iter=1000 для настройки модели нейронной сети, но эти значения могут быть изменены в зависимости от конкретной задачи."
      ],
      "metadata": {
        "id": "CAoNcr27UiFE"
      }
    },
    {
      "cell_type": "code",
      "source": [
        "print(mlp_pred)"
      ],
      "metadata": {
        "colab": {
          "base_uri": "https://localhost:8080/"
        },
        "id": "6HcsGZXlTr6d",
        "outputId": "434c3f49-578e-4870-b731-8076429d6e59"
      },
      "execution_count": null,
      "outputs": [
        {
          "output_type": "stream",
          "name": "stdout",
          "text": [
            "[0 1 0 0 1 1 0 0 0 0 1 0 0 1 0 1 0 0 1 1 0 1 0 0 1 0 1 0 0 1 0 1 0 1 0 0 1\n",
            " 1 1 1 1 0 0 0 0 1 1 0 0 1 0 0 1 0 0 1 1 1 1 1 0 0 1 1 1 1 0 1 0 0 0 1 0 1\n",
            " 1 0 1 0 1 0 1 0 1 1 1 0 1 1 0 1 0 1 0 1 0 0 0 1 1 1 1 0 1 0 0 1 0 1 0 1 0\n",
            " 1 0 1 0 1 1 0 1 1 1 1 0 1 0 0 1 1 0 1 0 0 0 0 1 0 0 0 0 0 0 0 1 0 0 0 1 1\n",
            " 1 1 0 0 0 1 1 0 0 1 1 1 0 0 1 0 0 1 0 0 1 1 1 1 1 0 0 0 0 1 1 0 0 1 0 1 1\n",
            " 1 0 1 0 1 1 0 0 0 0 1 1 0 1 1 1 0 0 0 1 0 1 1 0 0 0 0 1 1 0 0 1 1 1 0 0 0\n",
            " 1 1 1 1 0 0 0 0 0 0 1 1 0 0 0 0 0 0 0 0 0 1 1 0 1 0 0 1 1 0 0 0 0 1 0 1 0\n",
            " 1 1 1 1 0 1 0 0 1 0 0 1 1 0 0 1 0 1 0 1 1 1 0 1 0 1 0 0 1 0 0 0 0 0 1 1 0\n",
            " 0 0 0 0 0 1 1 1 0 0 0 0 1 1 0 1 1 0 1 0 1 1 0 0 0 0 1 1 1 0 1 0 0 0 0 1 0\n",
            " 0 0 1 1 0 1 0 0 1 1 0 1 1 1 0 0 1 1 0 0 0 1 0 0 1 0 0 0 1 0 0 0 0 0 1 1 1\n",
            " 1 1 0 1 1 1 1 0]\n"
          ]
        }
      ]
    },
    {
      "cell_type": "code",
      "source": [
        "# предсказание вероятностей и округление до двух знаков после запятой\n",
        "y_pred_proba = mlp_model.predict_proba(X_test)[:, 1]\n",
        "y_pred_proba_rounded = np.round(y_pred_proba, 2)\n",
        "# вывод результатов\n",
        "print(\"Predicted probabilities:\", y_pred_proba_rounded)"
      ],
      "metadata": {
        "colab": {
          "base_uri": "https://localhost:8080/"
        },
        "id": "V9b4v43hPn0o",
        "outputId": "d84a4f01-997d-4dbd-e36f-7f388df8ce40"
      },
      "execution_count": null,
      "outputs": [
        {
          "output_type": "stream",
          "name": "stdout",
          "text": [
            "Predicted probabilities: [0.05 1.   0.01 0.11 0.99 1.   0.02 0.04 0.02 0.04 1.   0.01 0.06 1.\n",
            " 0.09 1.   0.   0.04 0.99 1.   0.02 1.   0.05 0.   1.   0.06 1.   0.05\n",
            " 0.12 1.   0.01 0.51 0.   0.57 0.   0.   0.99 0.81 0.99 0.99 1.   0.01\n",
            " 0.05 0.04 0.   1.   1.   0.08 0.   1.   0.01 0.05 0.83 0.32 0.04 0.98\n",
            " 1.   0.96 1.   1.   0.01 0.   1.   1.   0.99 1.   0.06 1.   0.11 0.01\n",
            " 0.08 1.   0.02 0.99 0.94 0.   0.95 0.04 1.   0.12 1.   0.   1.   0.99\n",
            " 0.97 0.04 0.94 0.98 0.17 1.   0.   0.99 0.02 1.   0.01 0.01 0.   1.\n",
            " 1.   0.99 1.   0.06 0.68 0.01 0.   1.   0.17 1.   0.07 1.   0.01 1.\n",
            " 0.09 0.99 0.09 0.88 1.   0.28 0.93 0.99 1.   1.   0.06 1.   0.01 0.02\n",
            " 0.96 1.   0.   1.   0.07 0.01 0.05 0.   1.   0.11 0.04 0.08 0.17 0.02\n",
            " 0.02 0.   1.   0.01 0.25 0.06 1.   1.   1.   1.   0.01 0.01 0.   0.97\n",
            " 0.99 0.21 0.   1.   0.93 1.   0.01 0.   1.   0.22 0.03 1.   0.01 0.21\n",
            " 1.   0.87 1.   1.   1.   0.01 0.01 0.   0.03 1.   1.   0.08 0.01 1.\n",
            " 0.02 0.51 0.98 0.96 0.14 1.   0.1  1.   1.   0.09 0.14 0.   0.04 1.\n",
            " 0.96 0.01 1.   1.   1.   0.03 0.   0.04 1.   0.04 1.   0.95 0.01 0.\n",
            " 0.01 0.03 1.   1.   0.14 0.06 1.   0.99 1.   0.03 0.01 0.07 1.   0.99\n",
            " 0.99 0.95 0.01 0.04 0.01 0.06 0.11 0.01 1.   0.98 0.02 0.11 0.06 0.\n",
            " 0.26 0.04 0.14 0.21 0.01 1.   1.   0.01 1.   0.22 0.02 0.99 0.98 0.12\n",
            " 0.06 0.06 0.02 1.   0.01 1.   0.01 1.   1.   1.   1.   0.   1.   0.02\n",
            " 0.01 1.   0.1  0.06 0.98 1.   0.02 0.   1.   0.08 1.   0.08 1.   0.97\n",
            " 0.99 0.08 1.   0.02 1.   0.   0.   0.95 0.01 0.   0.01 0.01 0.18 0.98\n",
            " 1.   0.01 0.   0.01 0.05 0.09 0.   1.   1.   1.   0.02 0.   0.47 0.03\n",
            " 1.   1.   0.   0.91 1.   0.01 1.   0.15 1.   1.   0.01 0.01 0.04 0.01\n",
            " 0.95 0.97 0.61 0.   1.   0.   0.01 0.04 0.42 1.   0.02 0.   0.02 1.\n",
            " 0.94 0.03 0.96 0.05 0.04 1.   1.   0.01 1.   1.   0.99 0.01 0.03 1.\n",
            " 1.   0.02 0.14 0.25 1.   0.03 0.47 1.   0.   0.01 0.01 0.97 0.01 0.\n",
            " 0.01 0.01 0.   1.   0.65 1.   0.61 1.   0.   0.98 1.   1.   0.98 0.07]\n"
          ]
        }
      ]
    },
    {
      "cell_type": "code",
      "source": [
        "roc_auc = roc_auc_score(y_test, mlp_pred)\n",
        "print('MLPClassifier:')\n",
        "print('Accuracy:', accuracy_score(y_test, mlp_pred))\n",
        "print('F1 score:', f1_score(y_test, mlp_pred, average='weighted'))\n",
        "print(\"ROC-AUC score:\", roc_auc)"
      ],
      "metadata": {
        "colab": {
          "base_uri": "https://localhost:8080/"
        },
        "id": "2U0DZjT_UJYH",
        "outputId": "b171c68a-6984-4951-bb82-fe638acec2b6"
      },
      "execution_count": null,
      "outputs": [
        {
          "output_type": "stream",
          "name": "stdout",
          "text": [
            "MLPClassifier:\n",
            "Accuracy: 0.9576719576719577\n",
            "F1 score: 0.957624426112116\n",
            "ROC-AUC score: 0.9569567044976881\n"
          ]
        }
      ]
    },
    {
      "cell_type": "code",
      "source": [
        "from sklearn import svm\n",
        "from sklearn.svm import SVC\n",
        "from sklearn.model_selection import GridSearchCV\n",
        "\n",
        "#ЛИНЕЙНОЕ ЯДРО\n",
        "X_train, X_test, y_train, y_test = train_test_split(X, y, test_size = 0.3, random_state=42)\n",
        "model_lin = svm.SVC(kernel='linear',C=0.025)\n",
        "model_lin.fit(X_train, y_train)"
      ],
      "metadata": {
        "colab": {
          "base_uri": "https://localhost:8080/",
          "height": 75
        },
        "id": "U-u_745nSOdC",
        "outputId": "a637cf71-6485-4d04-b8b5-bbbd310e8aba"
      },
      "execution_count": null,
      "outputs": [
        {
          "output_type": "execute_result",
          "data": {
            "text/plain": [
              "SVC(C=0.025, kernel='linear')"
            ],
            "text/html": [
              "<style>#sk-container-id-23 {color: black;background-color: white;}#sk-container-id-23 pre{padding: 0;}#sk-container-id-23 div.sk-toggleable {background-color: white;}#sk-container-id-23 label.sk-toggleable__label {cursor: pointer;display: block;width: 100%;margin-bottom: 0;padding: 0.3em;box-sizing: border-box;text-align: center;}#sk-container-id-23 label.sk-toggleable__label-arrow:before {content: \"▸\";float: left;margin-right: 0.25em;color: #696969;}#sk-container-id-23 label.sk-toggleable__label-arrow:hover:before {color: black;}#sk-container-id-23 div.sk-estimator:hover label.sk-toggleable__label-arrow:before {color: black;}#sk-container-id-23 div.sk-toggleable__content {max-height: 0;max-width: 0;overflow: hidden;text-align: left;background-color: #f0f8ff;}#sk-container-id-23 div.sk-toggleable__content pre {margin: 0.2em;color: black;border-radius: 0.25em;background-color: #f0f8ff;}#sk-container-id-23 input.sk-toggleable__control:checked~div.sk-toggleable__content {max-height: 200px;max-width: 100%;overflow: auto;}#sk-container-id-23 input.sk-toggleable__control:checked~label.sk-toggleable__label-arrow:before {content: \"▾\";}#sk-container-id-23 div.sk-estimator input.sk-toggleable__control:checked~label.sk-toggleable__label {background-color: #d4ebff;}#sk-container-id-23 div.sk-label input.sk-toggleable__control:checked~label.sk-toggleable__label {background-color: #d4ebff;}#sk-container-id-23 input.sk-hidden--visually {border: 0;clip: rect(1px 1px 1px 1px);clip: rect(1px, 1px, 1px, 1px);height: 1px;margin: -1px;overflow: hidden;padding: 0;position: absolute;width: 1px;}#sk-container-id-23 div.sk-estimator {font-family: monospace;background-color: #f0f8ff;border: 1px dotted black;border-radius: 0.25em;box-sizing: border-box;margin-bottom: 0.5em;}#sk-container-id-23 div.sk-estimator:hover {background-color: #d4ebff;}#sk-container-id-23 div.sk-parallel-item::after {content: \"\";width: 100%;border-bottom: 1px solid gray;flex-grow: 1;}#sk-container-id-23 div.sk-label:hover label.sk-toggleable__label {background-color: #d4ebff;}#sk-container-id-23 div.sk-serial::before {content: \"\";position: absolute;border-left: 1px solid gray;box-sizing: border-box;top: 0;bottom: 0;left: 50%;z-index: 0;}#sk-container-id-23 div.sk-serial {display: flex;flex-direction: column;align-items: center;background-color: white;padding-right: 0.2em;padding-left: 0.2em;position: relative;}#sk-container-id-23 div.sk-item {position: relative;z-index: 1;}#sk-container-id-23 div.sk-parallel {display: flex;align-items: stretch;justify-content: center;background-color: white;position: relative;}#sk-container-id-23 div.sk-item::before, #sk-container-id-23 div.sk-parallel-item::before {content: \"\";position: absolute;border-left: 1px solid gray;box-sizing: border-box;top: 0;bottom: 0;left: 50%;z-index: -1;}#sk-container-id-23 div.sk-parallel-item {display: flex;flex-direction: column;z-index: 1;position: relative;background-color: white;}#sk-container-id-23 div.sk-parallel-item:first-child::after {align-self: flex-end;width: 50%;}#sk-container-id-23 div.sk-parallel-item:last-child::after {align-self: flex-start;width: 50%;}#sk-container-id-23 div.sk-parallel-item:only-child::after {width: 0;}#sk-container-id-23 div.sk-dashed-wrapped {border: 1px dashed gray;margin: 0 0.4em 0.5em 0.4em;box-sizing: border-box;padding-bottom: 0.4em;background-color: white;}#sk-container-id-23 div.sk-label label {font-family: monospace;font-weight: bold;display: inline-block;line-height: 1.2em;}#sk-container-id-23 div.sk-label-container {text-align: center;}#sk-container-id-23 div.sk-container {/* jupyter's `normalize.less` sets `[hidden] { display: none; }` but bootstrap.min.css set `[hidden] { display: none !important; }` so we also need the `!important` here to be able to override the default hidden behavior on the sphinx rendered scikit-learn.org. See: https://github.com/scikit-learn/scikit-learn/issues/21755 */display: inline-block !important;position: relative;}#sk-container-id-23 div.sk-text-repr-fallback {display: none;}</style><div id=\"sk-container-id-23\" class=\"sk-top-container\"><div class=\"sk-text-repr-fallback\"><pre>SVC(C=0.025, kernel=&#x27;linear&#x27;)</pre><b>In a Jupyter environment, please rerun this cell to show the HTML representation or trust the notebook. <br />On GitHub, the HTML representation is unable to render, please try loading this page with nbviewer.org.</b></div><div class=\"sk-container\" hidden><div class=\"sk-item\"><div class=\"sk-estimator sk-toggleable\"><input class=\"sk-toggleable__control sk-hidden--visually\" id=\"sk-estimator-id-23\" type=\"checkbox\" checked><label for=\"sk-estimator-id-23\" class=\"sk-toggleable__label sk-toggleable__label-arrow\">SVC</label><div class=\"sk-toggleable__content\"><pre>SVC(C=0.025, kernel=&#x27;linear&#x27;)</pre></div></div></div></div></div>"
            ]
          },
          "metadata": {},
          "execution_count": 297
        }
      ]
    },
    {
      "cell_type": "code",
      "source": [
        "print(model_lin.score(X_train,y_train))\n",
        "print(model_lin.score(X_test,y_test))"
      ],
      "metadata": {
        "colab": {
          "base_uri": "https://localhost:8080/"
        },
        "id": "QKyf3fuDTsoA",
        "outputId": "6e9c5bb3-cc06-416b-965d-613a41b2ff87"
      },
      "execution_count": null,
      "outputs": [
        {
          "output_type": "stream",
          "name": "stdout",
          "text": [
            "0.9647326507394767\n",
            "0.9523809523809523\n"
          ]
        }
      ]
    },
    {
      "cell_type": "code",
      "source": [
        "#ПОЛИНОМИАЛЬНОЕ ЯДРО\n",
        "model_poly= svm.SVC(kernel='poly', C=0.025)\n",
        "model_poly.fit(X_train, y_train)\n",
        "print(model_poly.score(X_train,y_train))\n",
        "print(model_poly.score(X_test,y_test))"
      ],
      "metadata": {
        "colab": {
          "base_uri": "https://localhost:8080/"
        },
        "id": "IhYB6dxITvKr",
        "outputId": "e7735738-a50f-40ee-cf9b-658b11e5143d"
      },
      "execution_count": null,
      "outputs": [
        {
          "output_type": "stream",
          "name": "stdout",
          "text": [
            "0.5631399317406144\n",
            "0.5185185185185185\n"
          ]
        }
      ]
    },
    {
      "cell_type": "code",
      "source": [
        "# ГАУССОВО ЯДРО\n",
        "model_rbf= svm.SVC(kernel='rbf', gamma=2, C=1)\n",
        "model_rbf.fit(X_train, y_train)\n",
        "print(model_rbf.score(X_train,y_train))\n",
        "print(model_rbf.score(X_test,y_test))"
      ],
      "metadata": {
        "colab": {
          "base_uri": "https://localhost:8080/"
        },
        "id": "efU6gam9TzqU",
        "outputId": "66b4f1e7-3c3a-4390-a1d9-25ef1ffcaf76"
      },
      "execution_count": null,
      "outputs": [
        {
          "output_type": "stream",
          "name": "stdout",
          "text": [
            "0.9977246871444824\n",
            "0.9153439153439153\n"
          ]
        }
      ]
    },
    {
      "cell_type": "code",
      "source": [
        "model_rbf_pred = model_rbf.predict(X_test)"
      ],
      "metadata": {
        "id": "glt4yuWbT2Fi"
      },
      "execution_count": null,
      "outputs": []
    },
    {
      "cell_type": "code",
      "source": [
        "model_rbf_accuracy=accuracy_score(y_test,model_rbf_pred)"
      ],
      "metadata": {
        "id": "GpcRMuoGT5wG"
      },
      "execution_count": null,
      "outputs": []
    },
    {
      "cell_type": "code",
      "source": [
        "print(model_rbf_accuracy)"
      ],
      "metadata": {
        "colab": {
          "base_uri": "https://localhost:8080/"
        },
        "id": "7l1mZX00T8wl",
        "outputId": "a332363e-cd2f-49a0-aee7-c78e55ab3d64"
      },
      "execution_count": null,
      "outputs": [
        {
          "output_type": "stream",
          "name": "stdout",
          "text": [
            "0.9153439153439153\n"
          ]
        }
      ]
    },
    {
      "cell_type": "code",
      "source": [
        "#линейное ядро-оценка точности"
      ],
      "metadata": {
        "id": "tA0-PcqnUAdG"
      },
      "execution_count": null,
      "outputs": []
    },
    {
      "cell_type": "code",
      "source": [
        "model_lin_pred=model_lin.predict(X_test)\n",
        "model_lin_accuracy=accuracy_score(y_test,model_lin_pred)"
      ],
      "metadata": {
        "id": "mQniVL3TUDTl"
      },
      "execution_count": null,
      "outputs": []
    },
    {
      "cell_type": "code",
      "source": [
        "model_lin_f1=f1_score(y_test,model_lin_pred,average='weighted')"
      ],
      "metadata": {
        "id": "yWXvmUa6jT0y"
      },
      "execution_count": null,
      "outputs": []
    },
    {
      "cell_type": "code",
      "source": [
        "model_lin_auc=roc_auc_score(y_test,model_lin_pred,average='weighted')"
      ],
      "metadata": {
        "id": "47SiyeFMjjTb"
      },
      "execution_count": null,
      "outputs": []
    },
    {
      "cell_type": "code",
      "source": [
        "print(\"accuracy = \",model_lin_accuracy)\n",
        "print(\"f1-score = \",model_lin_f1)\n",
        "print(\"auc = \",model_lin_auc)"
      ],
      "metadata": {
        "colab": {
          "base_uri": "https://localhost:8080/"
        },
        "id": "hvQDvKaUUUAb",
        "outputId": "2bfaa6f3-f585-4ba2-aad1-2494eb0b2dc5"
      },
      "execution_count": null,
      "outputs": [
        {
          "output_type": "stream",
          "name": "stdout",
          "text": [
            "accuracy =  0.9523809523809523\n",
            "f1-score =  0.9522308233638282\n",
            "auc =  0.9509878100042035\n"
          ]
        }
      ]
    },
    {
      "cell_type": "code",
      "source": [
        "lr_acc=accuracy_score(y_test, lr_pred)\n",
        "rfc_acc=accuracy_score(y_test, rf_pred)\n",
        "dtc_acc=accuracy_score(y_test, tree_pred)\n",
        "gbc_acc=accuracy_score(y_test, gradient_pred)\n",
        "mlp_acc=accuracy_score(y_test, mlp_pred)\n",
        "svm_acc=accuracy_score(y_test,model_lin_pred)"
      ],
      "metadata": {
        "id": "2uTwyEr_WNn-"
      },
      "execution_count": null,
      "outputs": []
    },
    {
      "cell_type": "code",
      "source": [
        "lr_f1=f1_score(y_test, lr_pred,average='weighted')\n",
        "rfc_f1=f1_score(y_test, rf_pred,average='weighted')\n",
        "dtc_f1=f1_score(y_test, tree_pred,average='weighted')\n",
        "gbc_f1=f1_score(y_test, gradient_pred,average='weighted')\n",
        "mlp_f1=f1_score(y_test, mlp_pred,average='weighted')\n",
        "svm_f1=f1_score(y_test,model_lin_pred,average='weighted')"
      ],
      "metadata": {
        "id": "6CKnFtM5uWY4"
      },
      "execution_count": null,
      "outputs": []
    },
    {
      "cell_type": "code",
      "source": [
        "model_lin_auc=roc_auc_score(y_test,model_lin_pred,average='weighted')"
      ],
      "metadata": {
        "id": "77rTlLDxujWi"
      },
      "execution_count": null,
      "outputs": []
    },
    {
      "cell_type": "code",
      "source": [
        "print(\"lr_acc=\",lr_acc)\n",
        "print(\"rfc_acc=\",rfc_acc)\n",
        "print(\"dtc_acc=\",dtc_acc)\n",
        "print(\"gbc_acc=\",gbc_acc)\n",
        "print(\"mlp_acc=\",mlp_acc)\n",
        "print(\"svm_acc=\",svm_acc)"
      ],
      "metadata": {
        "colab": {
          "base_uri": "https://localhost:8080/"
        },
        "id": "lhuX4Tv_tNSb",
        "outputId": "84d85d2d-b0f8-4367-b219-7ddb7d2f0e4a"
      },
      "execution_count": null,
      "outputs": [
        {
          "output_type": "stream",
          "name": "stdout",
          "text": [
            "lr_acc= 0.9576719576719577\n",
            "rfc_acc= 0.9814814814814815\n",
            "dtc_acc= 0.9497354497354498\n",
            "gbc_acc= 0.9708994708994709\n",
            "mlp_acc= 0.9576719576719577\n",
            "svm_acc= 0.9523809523809523\n"
          ]
        }
      ]
    },
    {
      "cell_type": "code",
      "source": [
        "print(\"lr_f1=\",lr_f1)\n",
        "print(\"rfc_f1=\",rfc_f1)\n",
        "print(\"dtc_f1=\",dtc_f1)\n",
        "print(\"gbc_f1=\",gbc_f1)\n",
        "print(\"mlp_f1=\",mlp_f1)\n",
        "print(\"svm_f1=\",svm_f1)"
      ],
      "metadata": {
        "colab": {
          "base_uri": "https://localhost:8080/"
        },
        "id": "4glKNd5uuy0z",
        "outputId": "89b66ec8-a314-48ed-914b-8d85d886d8c8"
      },
      "execution_count": null,
      "outputs": [
        {
          "output_type": "stream",
          "name": "stdout",
          "text": [
            "lr_f1= 0.9575636135042075\n",
            "rfc_f1= 0.9814642003201043\n",
            "dtc_f1= 0.9497449533373149\n",
            "gbc_f1= 0.9708821242535608\n",
            "mlp_f1= 0.957624426112116\n",
            "svm_f1= 0.9522308233638282\n"
          ]
        }
      ]
    },
    {
      "cell_type": "code",
      "source": [
        "lr_auc=roc_auc_score(y_test, lr_pred,average='weighted')\n",
        "rfc_auc=roc_auc_score(y_test, rf_pred,average='weighted')\n",
        "dtc_auc=roc_auc_score(y_test, tree_pred,average='weighted')\n",
        "gbc_auc=roc_auc_score(y_test, gradient_pred,average='weighted')\n",
        "mlp_auc=roc_auc_score(y_test, mlp_pred,average='weighted')\n",
        "svm_auc=roc_auc_score(y_test,model_lin_pred,average='weighted')"
      ],
      "metadata": {
        "id": "vjI853tvvCnN"
      },
      "execution_count": null,
      "outputs": []
    },
    {
      "cell_type": "code",
      "source": [
        "print(\"lr_auc=\",lr_auc)\n",
        "print(\"rfc_auc=\",rfc_auc)\n",
        "print(\"dtc_auc=\",dtc_auc)\n",
        "print(\"gbc_auc=\",gbc_auc)\n",
        "print(\"mlp_auc=\",mlp_auc)\n",
        "print(\"svm_auc=\",svm_auc)"
      ],
      "metadata": {
        "colab": {
          "base_uri": "https://localhost:8080/"
        },
        "id": "p4MbBO1VvpT0",
        "outputId": "16a31697-65c5-4ccf-fd98-b9e08e557b16"
      },
      "execution_count": null,
      "outputs": [
        {
          "output_type": "stream",
          "name": "stdout",
          "text": [
            "lr_auc= 0.9564522908785205\n",
            "rfc_auc= 0.9808743169398907\n",
            "dtc_auc= 0.949936948297604\n",
            "gbc_auc= 0.9704497688104246\n",
            "mlp_auc= 0.9569567044976881\n",
            "svm_auc= 0.9509878100042035\n"
          ]
        }
      ]
    },
    {
      "cell_type": "code",
      "source": [
        "best_model = max(rfc_acc, dtc_acc, lr_acc, mlp_acc, gbc_acc,svm_acc)\n",
        "if best_model == rfc_acc:\n",
        "    print(\"The best model is Random Forest Classifier\")\n",
        "    final_model = rf_model\n",
        "elif best_model == lr_acc:\n",
        "    print(\"The best model is Logistic Regression\")\n",
        "    final_model = lr_model\n",
        "elif best_model == dtc_acc:\n",
        "    print(\"The best model is Decision Tree Classifier\")\n",
        "    final_model = tree_model\n",
        "elif best_model == mlp_acc:\n",
        "    print(\"The best model is MLP Classifier\")\n",
        "    final_model = mlp_model\n",
        "elif best_model == gbc_acc:\n",
        "    print(\"The best model is Gradient Boosting Classifier\")\n",
        "    final_model = gb_model\n",
        "else:\n",
        "    print(\"The best model is SVM linear kernel\")\n",
        "    final_model = model_lin\n",
        "\n",
        "final_model.fit(X, y)"
      ],
      "metadata": {
        "colab": {
          "base_uri": "https://localhost:8080/",
          "height": 92
        },
        "id": "MI-53PI0WAs4",
        "outputId": "30685253-8a84-4d72-ae82-290bb19f12ee"
      },
      "execution_count": null,
      "outputs": [
        {
          "output_type": "stream",
          "name": "stdout",
          "text": [
            "The best model is Random Forest Classifier\n"
          ]
        },
        {
          "output_type": "execute_result",
          "data": {
            "text/plain": [
              "RandomForestClassifier()"
            ],
            "text/html": [
              "<style>#sk-container-id-24 {color: black;background-color: white;}#sk-container-id-24 pre{padding: 0;}#sk-container-id-24 div.sk-toggleable {background-color: white;}#sk-container-id-24 label.sk-toggleable__label {cursor: pointer;display: block;width: 100%;margin-bottom: 0;padding: 0.3em;box-sizing: border-box;text-align: center;}#sk-container-id-24 label.sk-toggleable__label-arrow:before {content: \"▸\";float: left;margin-right: 0.25em;color: #696969;}#sk-container-id-24 label.sk-toggleable__label-arrow:hover:before {color: black;}#sk-container-id-24 div.sk-estimator:hover label.sk-toggleable__label-arrow:before {color: black;}#sk-container-id-24 div.sk-toggleable__content {max-height: 0;max-width: 0;overflow: hidden;text-align: left;background-color: #f0f8ff;}#sk-container-id-24 div.sk-toggleable__content pre {margin: 0.2em;color: black;border-radius: 0.25em;background-color: #f0f8ff;}#sk-container-id-24 input.sk-toggleable__control:checked~div.sk-toggleable__content {max-height: 200px;max-width: 100%;overflow: auto;}#sk-container-id-24 input.sk-toggleable__control:checked~label.sk-toggleable__label-arrow:before {content: \"▾\";}#sk-container-id-24 div.sk-estimator input.sk-toggleable__control:checked~label.sk-toggleable__label {background-color: #d4ebff;}#sk-container-id-24 div.sk-label input.sk-toggleable__control:checked~label.sk-toggleable__label {background-color: #d4ebff;}#sk-container-id-24 input.sk-hidden--visually {border: 0;clip: rect(1px 1px 1px 1px);clip: rect(1px, 1px, 1px, 1px);height: 1px;margin: -1px;overflow: hidden;padding: 0;position: absolute;width: 1px;}#sk-container-id-24 div.sk-estimator {font-family: monospace;background-color: #f0f8ff;border: 1px dotted black;border-radius: 0.25em;box-sizing: border-box;margin-bottom: 0.5em;}#sk-container-id-24 div.sk-estimator:hover {background-color: #d4ebff;}#sk-container-id-24 div.sk-parallel-item::after {content: \"\";width: 100%;border-bottom: 1px solid gray;flex-grow: 1;}#sk-container-id-24 div.sk-label:hover label.sk-toggleable__label {background-color: #d4ebff;}#sk-container-id-24 div.sk-serial::before {content: \"\";position: absolute;border-left: 1px solid gray;box-sizing: border-box;top: 0;bottom: 0;left: 50%;z-index: 0;}#sk-container-id-24 div.sk-serial {display: flex;flex-direction: column;align-items: center;background-color: white;padding-right: 0.2em;padding-left: 0.2em;position: relative;}#sk-container-id-24 div.sk-item {position: relative;z-index: 1;}#sk-container-id-24 div.sk-parallel {display: flex;align-items: stretch;justify-content: center;background-color: white;position: relative;}#sk-container-id-24 div.sk-item::before, #sk-container-id-24 div.sk-parallel-item::before {content: \"\";position: absolute;border-left: 1px solid gray;box-sizing: border-box;top: 0;bottom: 0;left: 50%;z-index: -1;}#sk-container-id-24 div.sk-parallel-item {display: flex;flex-direction: column;z-index: 1;position: relative;background-color: white;}#sk-container-id-24 div.sk-parallel-item:first-child::after {align-self: flex-end;width: 50%;}#sk-container-id-24 div.sk-parallel-item:last-child::after {align-self: flex-start;width: 50%;}#sk-container-id-24 div.sk-parallel-item:only-child::after {width: 0;}#sk-container-id-24 div.sk-dashed-wrapped {border: 1px dashed gray;margin: 0 0.4em 0.5em 0.4em;box-sizing: border-box;padding-bottom: 0.4em;background-color: white;}#sk-container-id-24 div.sk-label label {font-family: monospace;font-weight: bold;display: inline-block;line-height: 1.2em;}#sk-container-id-24 div.sk-label-container {text-align: center;}#sk-container-id-24 div.sk-container {/* jupyter's `normalize.less` sets `[hidden] { display: none; }` but bootstrap.min.css set `[hidden] { display: none !important; }` so we also need the `!important` here to be able to override the default hidden behavior on the sphinx rendered scikit-learn.org. See: https://github.com/scikit-learn/scikit-learn/issues/21755 */display: inline-block !important;position: relative;}#sk-container-id-24 div.sk-text-repr-fallback {display: none;}</style><div id=\"sk-container-id-24\" class=\"sk-top-container\"><div class=\"sk-text-repr-fallback\"><pre>RandomForestClassifier()</pre><b>In a Jupyter environment, please rerun this cell to show the HTML representation or trust the notebook. <br />On GitHub, the HTML representation is unable to render, please try loading this page with nbviewer.org.</b></div><div class=\"sk-container\" hidden><div class=\"sk-item\"><div class=\"sk-estimator sk-toggleable\"><input class=\"sk-toggleable__control sk-hidden--visually\" id=\"sk-estimator-id-24\" type=\"checkbox\" checked><label for=\"sk-estimator-id-24\" class=\"sk-toggleable__label sk-toggleable__label-arrow\">RandomForestClassifier</label><div class=\"sk-toggleable__content\"><pre>RandomForestClassifier()</pre></div></div></div></div></div>"
            ]
          },
          "metadata": {},
          "execution_count": 316
        }
      ]
    },
    {
      "cell_type": "markdown",
      "source": [
        "СОХРАНЕНИЕ И ЗАГРУЗКА МОДЕЛИ"
      ],
      "metadata": {
        "id": "knJyxPITqVHY"
      }
    },
    {
      "cell_type": "code",
      "source": [
        "from joblib import dump\n",
        "import pickle\n",
        "# сохранение модели\n",
        "with open('trained_model.pkl','wb') as f:\n",
        "  pickle.dump(rf_model, f)"
      ],
      "metadata": {
        "id": "NXrZ1qGeqUpU"
      },
      "execution_count": null,
      "outputs": []
    },
    {
      "cell_type": "code",
      "source": [
        "#загрузка модели\n",
        "from joblib import load\n",
        "\n",
        "# загрузка модели\n",
        "#model = load('trained_model.pkl')\n",
        "with open('trained_model.pkl','rb') as f:\n",
        "  model=pickle.load(f)"
      ],
      "metadata": {
        "id": "yDs_rTm2qiPj"
      },
      "execution_count": null,
      "outputs": []
    },
    {
      "cell_type": "markdown",
      "source": [
        "ЭКСПЕРИМЕНТ НА НОВЫХ ДАННЫХ"
      ],
      "metadata": {
        "id": "5ZcmGhSnohKP"
      }
    },
    {
      "cell_type": "code",
      "source": [
        "new_data = pd.read_csv('newdata.csv',sep=';')"
      ],
      "metadata": {
        "id": "IoBebrANojRk"
      },
      "execution_count": null,
      "outputs": []
    },
    {
      "cell_type": "code",
      "source": [
        "new_data.head()"
      ],
      "metadata": {
        "colab": {
          "base_uri": "https://localhost:8080/",
          "height": 206
        },
        "id": "TwTKPtKdo-W7",
        "outputId": "24d942a8-c8e0-4093-9fe6-b46313f3156c"
      },
      "execution_count": null,
      "outputs": [
        {
          "output_type": "execute_result",
          "data": {
            "text/plain": [
              "  Substation_name Month_outage  Temperature  Wind_speed  Snow  Rain  Thunder\n",
              "0   Камское Устье       январь           -5          14     1     0        0\n",
              "1         Свияжск       январь          -10           4     0     0        0\n",
              "2        Апастово          май           10          13     0     1        0\n",
              "3       Караталга         июнь           20           1     0     0        0\n",
              "4   Верхний Услон         июнь           14          17     0     1        0"
            ],
            "text/html": [
              "\n",
              "  <div id=\"df-460b2df7-35b3-4fb4-8355-1410ed7925fa\" class=\"colab-df-container\">\n",
              "    <div>\n",
              "<style scoped>\n",
              "    .dataframe tbody tr th:only-of-type {\n",
              "        vertical-align: middle;\n",
              "    }\n",
              "\n",
              "    .dataframe tbody tr th {\n",
              "        vertical-align: top;\n",
              "    }\n",
              "\n",
              "    .dataframe thead th {\n",
              "        text-align: right;\n",
              "    }\n",
              "</style>\n",
              "<table border=\"1\" class=\"dataframe\">\n",
              "  <thead>\n",
              "    <tr style=\"text-align: right;\">\n",
              "      <th></th>\n",
              "      <th>Substation_name</th>\n",
              "      <th>Month_outage</th>\n",
              "      <th>Temperature</th>\n",
              "      <th>Wind_speed</th>\n",
              "      <th>Snow</th>\n",
              "      <th>Rain</th>\n",
              "      <th>Thunder</th>\n",
              "    </tr>\n",
              "  </thead>\n",
              "  <tbody>\n",
              "    <tr>\n",
              "      <th>0</th>\n",
              "      <td>Камское Устье</td>\n",
              "      <td>январь</td>\n",
              "      <td>-5</td>\n",
              "      <td>14</td>\n",
              "      <td>1</td>\n",
              "      <td>0</td>\n",
              "      <td>0</td>\n",
              "    </tr>\n",
              "    <tr>\n",
              "      <th>1</th>\n",
              "      <td>Свияжск</td>\n",
              "      <td>январь</td>\n",
              "      <td>-10</td>\n",
              "      <td>4</td>\n",
              "      <td>0</td>\n",
              "      <td>0</td>\n",
              "      <td>0</td>\n",
              "    </tr>\n",
              "    <tr>\n",
              "      <th>2</th>\n",
              "      <td>Апастово</td>\n",
              "      <td>май</td>\n",
              "      <td>10</td>\n",
              "      <td>13</td>\n",
              "      <td>0</td>\n",
              "      <td>1</td>\n",
              "      <td>0</td>\n",
              "    </tr>\n",
              "    <tr>\n",
              "      <th>3</th>\n",
              "      <td>Караталга</td>\n",
              "      <td>июнь</td>\n",
              "      <td>20</td>\n",
              "      <td>1</td>\n",
              "      <td>0</td>\n",
              "      <td>0</td>\n",
              "      <td>0</td>\n",
              "    </tr>\n",
              "    <tr>\n",
              "      <th>4</th>\n",
              "      <td>Верхний Услон</td>\n",
              "      <td>июнь</td>\n",
              "      <td>14</td>\n",
              "      <td>17</td>\n",
              "      <td>0</td>\n",
              "      <td>1</td>\n",
              "      <td>0</td>\n",
              "    </tr>\n",
              "  </tbody>\n",
              "</table>\n",
              "</div>\n",
              "    <div class=\"colab-df-buttons\">\n",
              "\n",
              "  <div class=\"colab-df-container\">\n",
              "    <button class=\"colab-df-convert\" onclick=\"convertToInteractive('df-460b2df7-35b3-4fb4-8355-1410ed7925fa')\"\n",
              "            title=\"Convert this dataframe to an interactive table.\"\n",
              "            style=\"display:none;\">\n",
              "\n",
              "  <svg xmlns=\"http://www.w3.org/2000/svg\" height=\"24px\" viewBox=\"0 -960 960 960\">\n",
              "    <path d=\"M120-120v-720h720v720H120Zm60-500h600v-160H180v160Zm220 220h160v-160H400v160Zm0 220h160v-160H400v160ZM180-400h160v-160H180v160Zm440 0h160v-160H620v160ZM180-180h160v-160H180v160Zm440 0h160v-160H620v160Z\"/>\n",
              "  </svg>\n",
              "    </button>\n",
              "\n",
              "  <style>\n",
              "    .colab-df-container {\n",
              "      display:flex;\n",
              "      gap: 12px;\n",
              "    }\n",
              "\n",
              "    .colab-df-convert {\n",
              "      background-color: #E8F0FE;\n",
              "      border: none;\n",
              "      border-radius: 50%;\n",
              "      cursor: pointer;\n",
              "      display: none;\n",
              "      fill: #1967D2;\n",
              "      height: 32px;\n",
              "      padding: 0 0 0 0;\n",
              "      width: 32px;\n",
              "    }\n",
              "\n",
              "    .colab-df-convert:hover {\n",
              "      background-color: #E2EBFA;\n",
              "      box-shadow: 0px 1px 2px rgba(60, 64, 67, 0.3), 0px 1px 3px 1px rgba(60, 64, 67, 0.15);\n",
              "      fill: #174EA6;\n",
              "    }\n",
              "\n",
              "    .colab-df-buttons div {\n",
              "      margin-bottom: 4px;\n",
              "    }\n",
              "\n",
              "    [theme=dark] .colab-df-convert {\n",
              "      background-color: #3B4455;\n",
              "      fill: #D2E3FC;\n",
              "    }\n",
              "\n",
              "    [theme=dark] .colab-df-convert:hover {\n",
              "      background-color: #434B5C;\n",
              "      box-shadow: 0px 1px 3px 1px rgba(0, 0, 0, 0.15);\n",
              "      filter: drop-shadow(0px 1px 2px rgba(0, 0, 0, 0.3));\n",
              "      fill: #FFFFFF;\n",
              "    }\n",
              "  </style>\n",
              "\n",
              "    <script>\n",
              "      const buttonEl =\n",
              "        document.querySelector('#df-460b2df7-35b3-4fb4-8355-1410ed7925fa button.colab-df-convert');\n",
              "      buttonEl.style.display =\n",
              "        google.colab.kernel.accessAllowed ? 'block' : 'none';\n",
              "\n",
              "      async function convertToInteractive(key) {\n",
              "        const element = document.querySelector('#df-460b2df7-35b3-4fb4-8355-1410ed7925fa');\n",
              "        const dataTable =\n",
              "          await google.colab.kernel.invokeFunction('convertToInteractive',\n",
              "                                                    [key], {});\n",
              "        if (!dataTable) return;\n",
              "\n",
              "        const docLinkHtml = 'Like what you see? Visit the ' +\n",
              "          '<a target=\"_blank\" href=https://colab.research.google.com/notebooks/data_table.ipynb>data table notebook</a>'\n",
              "          + ' to learn more about interactive tables.';\n",
              "        element.innerHTML = '';\n",
              "        dataTable['output_type'] = 'display_data';\n",
              "        await google.colab.output.renderOutput(dataTable, element);\n",
              "        const docLink = document.createElement('div');\n",
              "        docLink.innerHTML = docLinkHtml;\n",
              "        element.appendChild(docLink);\n",
              "      }\n",
              "    </script>\n",
              "  </div>\n",
              "\n",
              "\n",
              "<div id=\"df-40b23a3a-9af0-4fea-985c-28bbe24800ce\">\n",
              "  <button class=\"colab-df-quickchart\" onclick=\"quickchart('df-40b23a3a-9af0-4fea-985c-28bbe24800ce')\"\n",
              "            title=\"Suggest charts.\"\n",
              "            style=\"display:none;\">\n",
              "\n",
              "<svg xmlns=\"http://www.w3.org/2000/svg\" height=\"24px\"viewBox=\"0 0 24 24\"\n",
              "     width=\"24px\">\n",
              "    <g>\n",
              "        <path d=\"M19 3H5c-1.1 0-2 .9-2 2v14c0 1.1.9 2 2 2h14c1.1 0 2-.9 2-2V5c0-1.1-.9-2-2-2zM9 17H7v-7h2v7zm4 0h-2V7h2v10zm4 0h-2v-4h2v4z\"/>\n",
              "    </g>\n",
              "</svg>\n",
              "  </button>\n",
              "\n",
              "<style>\n",
              "  .colab-df-quickchart {\n",
              "      --bg-color: #E8F0FE;\n",
              "      --fill-color: #1967D2;\n",
              "      --hover-bg-color: #E2EBFA;\n",
              "      --hover-fill-color: #174EA6;\n",
              "      --disabled-fill-color: #AAA;\n",
              "      --disabled-bg-color: #DDD;\n",
              "  }\n",
              "\n",
              "  [theme=dark] .colab-df-quickchart {\n",
              "      --bg-color: #3B4455;\n",
              "      --fill-color: #D2E3FC;\n",
              "      --hover-bg-color: #434B5C;\n",
              "      --hover-fill-color: #FFFFFF;\n",
              "      --disabled-bg-color: #3B4455;\n",
              "      --disabled-fill-color: #666;\n",
              "  }\n",
              "\n",
              "  .colab-df-quickchart {\n",
              "    background-color: var(--bg-color);\n",
              "    border: none;\n",
              "    border-radius: 50%;\n",
              "    cursor: pointer;\n",
              "    display: none;\n",
              "    fill: var(--fill-color);\n",
              "    height: 32px;\n",
              "    padding: 0;\n",
              "    width: 32px;\n",
              "  }\n",
              "\n",
              "  .colab-df-quickchart:hover {\n",
              "    background-color: var(--hover-bg-color);\n",
              "    box-shadow: 0 1px 2px rgba(60, 64, 67, 0.3), 0 1px 3px 1px rgba(60, 64, 67, 0.15);\n",
              "    fill: var(--button-hover-fill-color);\n",
              "  }\n",
              "\n",
              "  .colab-df-quickchart-complete:disabled,\n",
              "  .colab-df-quickchart-complete:disabled:hover {\n",
              "    background-color: var(--disabled-bg-color);\n",
              "    fill: var(--disabled-fill-color);\n",
              "    box-shadow: none;\n",
              "  }\n",
              "\n",
              "  .colab-df-spinner {\n",
              "    border: 2px solid var(--fill-color);\n",
              "    border-color: transparent;\n",
              "    border-bottom-color: var(--fill-color);\n",
              "    animation:\n",
              "      spin 1s steps(1) infinite;\n",
              "  }\n",
              "\n",
              "  @keyframes spin {\n",
              "    0% {\n",
              "      border-color: transparent;\n",
              "      border-bottom-color: var(--fill-color);\n",
              "      border-left-color: var(--fill-color);\n",
              "    }\n",
              "    20% {\n",
              "      border-color: transparent;\n",
              "      border-left-color: var(--fill-color);\n",
              "      border-top-color: var(--fill-color);\n",
              "    }\n",
              "    30% {\n",
              "      border-color: transparent;\n",
              "      border-left-color: var(--fill-color);\n",
              "      border-top-color: var(--fill-color);\n",
              "      border-right-color: var(--fill-color);\n",
              "    }\n",
              "    40% {\n",
              "      border-color: transparent;\n",
              "      border-right-color: var(--fill-color);\n",
              "      border-top-color: var(--fill-color);\n",
              "    }\n",
              "    60% {\n",
              "      border-color: transparent;\n",
              "      border-right-color: var(--fill-color);\n",
              "    }\n",
              "    80% {\n",
              "      border-color: transparent;\n",
              "      border-right-color: var(--fill-color);\n",
              "      border-bottom-color: var(--fill-color);\n",
              "    }\n",
              "    90% {\n",
              "      border-color: transparent;\n",
              "      border-bottom-color: var(--fill-color);\n",
              "    }\n",
              "  }\n",
              "</style>\n",
              "\n",
              "  <script>\n",
              "    async function quickchart(key) {\n",
              "      const quickchartButtonEl =\n",
              "        document.querySelector('#' + key + ' button');\n",
              "      quickchartButtonEl.disabled = true;  // To prevent multiple clicks.\n",
              "      quickchartButtonEl.classList.add('colab-df-spinner');\n",
              "      try {\n",
              "        const charts = await google.colab.kernel.invokeFunction(\n",
              "            'suggestCharts', [key], {});\n",
              "      } catch (error) {\n",
              "        console.error('Error during call to suggestCharts:', error);\n",
              "      }\n",
              "      quickchartButtonEl.classList.remove('colab-df-spinner');\n",
              "      quickchartButtonEl.classList.add('colab-df-quickchart-complete');\n",
              "    }\n",
              "    (() => {\n",
              "      let quickchartButtonEl =\n",
              "        document.querySelector('#df-40b23a3a-9af0-4fea-985c-28bbe24800ce button');\n",
              "      quickchartButtonEl.style.display =\n",
              "        google.colab.kernel.accessAllowed ? 'block' : 'none';\n",
              "    })();\n",
              "  </script>\n",
              "</div>\n",
              "    </div>\n",
              "  </div>\n"
            ]
          },
          "metadata": {},
          "execution_count": 339
        }
      ]
    },
    {
      "cell_type": "code",
      "source": [
        "# загрузка обученной модели\n",
        "#model = RandomForestClassifier()"
      ],
      "metadata": {
        "id": "VT4Y316toqpi"
      },
      "execution_count": null,
      "outputs": []
    },
    {
      "cell_type": "code",
      "source": [
        "new_data[\"Substation_name\"] = new_data[\"Substation_name\"].replace(mapping_dict_sub)"
      ],
      "metadata": {
        "id": "aD-ETyZry588"
      },
      "execution_count": null,
      "outputs": []
    },
    {
      "cell_type": "code",
      "source": [
        "new_data[\"Month_outage\"] = new_data[\"Month_outage\"].replace(mapping_dict_month)"
      ],
      "metadata": {
        "id": "WDrRstOt1Q7e"
      },
      "execution_count": null,
      "outputs": []
    },
    {
      "cell_type": "code",
      "source": [
        "new_data.head()"
      ],
      "metadata": {
        "colab": {
          "base_uri": "https://localhost:8080/",
          "height": 206
        },
        "id": "LJW2BYs71A6U",
        "outputId": "1f7c7f95-35fa-417c-8dc2-14896a57a4e1"
      },
      "execution_count": null,
      "outputs": [
        {
          "output_type": "execute_result",
          "data": {
            "text/plain": [
              "   Substation_name  Month_outage  Temperature  Wind_speed  Snow  Rain  Thunder\n",
              "0               39            11           -5          14     1     0        0\n",
              "1               27            11          -10           4     0     0        0\n",
              "2               40            11           10          13     0     1        0\n",
              "3               35            11           20           1     0     0        0\n",
              "4               21            11           14          17     0     1        0"
            ],
            "text/html": [
              "\n",
              "  <div id=\"df-9656b327-164c-4b35-9df7-3f76c52e5c28\" class=\"colab-df-container\">\n",
              "    <div>\n",
              "<style scoped>\n",
              "    .dataframe tbody tr th:only-of-type {\n",
              "        vertical-align: middle;\n",
              "    }\n",
              "\n",
              "    .dataframe tbody tr th {\n",
              "        vertical-align: top;\n",
              "    }\n",
              "\n",
              "    .dataframe thead th {\n",
              "        text-align: right;\n",
              "    }\n",
              "</style>\n",
              "<table border=\"1\" class=\"dataframe\">\n",
              "  <thead>\n",
              "    <tr style=\"text-align: right;\">\n",
              "      <th></th>\n",
              "      <th>Substation_name</th>\n",
              "      <th>Month_outage</th>\n",
              "      <th>Temperature</th>\n",
              "      <th>Wind_speed</th>\n",
              "      <th>Snow</th>\n",
              "      <th>Rain</th>\n",
              "      <th>Thunder</th>\n",
              "    </tr>\n",
              "  </thead>\n",
              "  <tbody>\n",
              "    <tr>\n",
              "      <th>0</th>\n",
              "      <td>39</td>\n",
              "      <td>11</td>\n",
              "      <td>-5</td>\n",
              "      <td>14</td>\n",
              "      <td>1</td>\n",
              "      <td>0</td>\n",
              "      <td>0</td>\n",
              "    </tr>\n",
              "    <tr>\n",
              "      <th>1</th>\n",
              "      <td>27</td>\n",
              "      <td>11</td>\n",
              "      <td>-10</td>\n",
              "      <td>4</td>\n",
              "      <td>0</td>\n",
              "      <td>0</td>\n",
              "      <td>0</td>\n",
              "    </tr>\n",
              "    <tr>\n",
              "      <th>2</th>\n",
              "      <td>40</td>\n",
              "      <td>11</td>\n",
              "      <td>10</td>\n",
              "      <td>13</td>\n",
              "      <td>0</td>\n",
              "      <td>1</td>\n",
              "      <td>0</td>\n",
              "    </tr>\n",
              "    <tr>\n",
              "      <th>3</th>\n",
              "      <td>35</td>\n",
              "      <td>11</td>\n",
              "      <td>20</td>\n",
              "      <td>1</td>\n",
              "      <td>0</td>\n",
              "      <td>0</td>\n",
              "      <td>0</td>\n",
              "    </tr>\n",
              "    <tr>\n",
              "      <th>4</th>\n",
              "      <td>21</td>\n",
              "      <td>11</td>\n",
              "      <td>14</td>\n",
              "      <td>17</td>\n",
              "      <td>0</td>\n",
              "      <td>1</td>\n",
              "      <td>0</td>\n",
              "    </tr>\n",
              "  </tbody>\n",
              "</table>\n",
              "</div>\n",
              "    <div class=\"colab-df-buttons\">\n",
              "\n",
              "  <div class=\"colab-df-container\">\n",
              "    <button class=\"colab-df-convert\" onclick=\"convertToInteractive('df-9656b327-164c-4b35-9df7-3f76c52e5c28')\"\n",
              "            title=\"Convert this dataframe to an interactive table.\"\n",
              "            style=\"display:none;\">\n",
              "\n",
              "  <svg xmlns=\"http://www.w3.org/2000/svg\" height=\"24px\" viewBox=\"0 -960 960 960\">\n",
              "    <path d=\"M120-120v-720h720v720H120Zm60-500h600v-160H180v160Zm220 220h160v-160H400v160Zm0 220h160v-160H400v160ZM180-400h160v-160H180v160Zm440 0h160v-160H620v160ZM180-180h160v-160H180v160Zm440 0h160v-160H620v160Z\"/>\n",
              "  </svg>\n",
              "    </button>\n",
              "\n",
              "  <style>\n",
              "    .colab-df-container {\n",
              "      display:flex;\n",
              "      gap: 12px;\n",
              "    }\n",
              "\n",
              "    .colab-df-convert {\n",
              "      background-color: #E8F0FE;\n",
              "      border: none;\n",
              "      border-radius: 50%;\n",
              "      cursor: pointer;\n",
              "      display: none;\n",
              "      fill: #1967D2;\n",
              "      height: 32px;\n",
              "      padding: 0 0 0 0;\n",
              "      width: 32px;\n",
              "    }\n",
              "\n",
              "    .colab-df-convert:hover {\n",
              "      background-color: #E2EBFA;\n",
              "      box-shadow: 0px 1px 2px rgba(60, 64, 67, 0.3), 0px 1px 3px 1px rgba(60, 64, 67, 0.15);\n",
              "      fill: #174EA6;\n",
              "    }\n",
              "\n",
              "    .colab-df-buttons div {\n",
              "      margin-bottom: 4px;\n",
              "    }\n",
              "\n",
              "    [theme=dark] .colab-df-convert {\n",
              "      background-color: #3B4455;\n",
              "      fill: #D2E3FC;\n",
              "    }\n",
              "\n",
              "    [theme=dark] .colab-df-convert:hover {\n",
              "      background-color: #434B5C;\n",
              "      box-shadow: 0px 1px 3px 1px rgba(0, 0, 0, 0.15);\n",
              "      filter: drop-shadow(0px 1px 2px rgba(0, 0, 0, 0.3));\n",
              "      fill: #FFFFFF;\n",
              "    }\n",
              "  </style>\n",
              "\n",
              "    <script>\n",
              "      const buttonEl =\n",
              "        document.querySelector('#df-9656b327-164c-4b35-9df7-3f76c52e5c28 button.colab-df-convert');\n",
              "      buttonEl.style.display =\n",
              "        google.colab.kernel.accessAllowed ? 'block' : 'none';\n",
              "\n",
              "      async function convertToInteractive(key) {\n",
              "        const element = document.querySelector('#df-9656b327-164c-4b35-9df7-3f76c52e5c28');\n",
              "        const dataTable =\n",
              "          await google.colab.kernel.invokeFunction('convertToInteractive',\n",
              "                                                    [key], {});\n",
              "        if (!dataTable) return;\n",
              "\n",
              "        const docLinkHtml = 'Like what you see? Visit the ' +\n",
              "          '<a target=\"_blank\" href=https://colab.research.google.com/notebooks/data_table.ipynb>data table notebook</a>'\n",
              "          + ' to learn more about interactive tables.';\n",
              "        element.innerHTML = '';\n",
              "        dataTable['output_type'] = 'display_data';\n",
              "        await google.colab.output.renderOutput(dataTable, element);\n",
              "        const docLink = document.createElement('div');\n",
              "        docLink.innerHTML = docLinkHtml;\n",
              "        element.appendChild(docLink);\n",
              "      }\n",
              "    </script>\n",
              "  </div>\n",
              "\n",
              "\n",
              "<div id=\"df-90c1b74d-77e7-4069-9065-0ca290b18682\">\n",
              "  <button class=\"colab-df-quickchart\" onclick=\"quickchart('df-90c1b74d-77e7-4069-9065-0ca290b18682')\"\n",
              "            title=\"Suggest charts.\"\n",
              "            style=\"display:none;\">\n",
              "\n",
              "<svg xmlns=\"http://www.w3.org/2000/svg\" height=\"24px\"viewBox=\"0 0 24 24\"\n",
              "     width=\"24px\">\n",
              "    <g>\n",
              "        <path d=\"M19 3H5c-1.1 0-2 .9-2 2v14c0 1.1.9 2 2 2h14c1.1 0 2-.9 2-2V5c0-1.1-.9-2-2-2zM9 17H7v-7h2v7zm4 0h-2V7h2v10zm4 0h-2v-4h2v4z\"/>\n",
              "    </g>\n",
              "</svg>\n",
              "  </button>\n",
              "\n",
              "<style>\n",
              "  .colab-df-quickchart {\n",
              "      --bg-color: #E8F0FE;\n",
              "      --fill-color: #1967D2;\n",
              "      --hover-bg-color: #E2EBFA;\n",
              "      --hover-fill-color: #174EA6;\n",
              "      --disabled-fill-color: #AAA;\n",
              "      --disabled-bg-color: #DDD;\n",
              "  }\n",
              "\n",
              "  [theme=dark] .colab-df-quickchart {\n",
              "      --bg-color: #3B4455;\n",
              "      --fill-color: #D2E3FC;\n",
              "      --hover-bg-color: #434B5C;\n",
              "      --hover-fill-color: #FFFFFF;\n",
              "      --disabled-bg-color: #3B4455;\n",
              "      --disabled-fill-color: #666;\n",
              "  }\n",
              "\n",
              "  .colab-df-quickchart {\n",
              "    background-color: var(--bg-color);\n",
              "    border: none;\n",
              "    border-radius: 50%;\n",
              "    cursor: pointer;\n",
              "    display: none;\n",
              "    fill: var(--fill-color);\n",
              "    height: 32px;\n",
              "    padding: 0;\n",
              "    width: 32px;\n",
              "  }\n",
              "\n",
              "  .colab-df-quickchart:hover {\n",
              "    background-color: var(--hover-bg-color);\n",
              "    box-shadow: 0 1px 2px rgba(60, 64, 67, 0.3), 0 1px 3px 1px rgba(60, 64, 67, 0.15);\n",
              "    fill: var(--button-hover-fill-color);\n",
              "  }\n",
              "\n",
              "  .colab-df-quickchart-complete:disabled,\n",
              "  .colab-df-quickchart-complete:disabled:hover {\n",
              "    background-color: var(--disabled-bg-color);\n",
              "    fill: var(--disabled-fill-color);\n",
              "    box-shadow: none;\n",
              "  }\n",
              "\n",
              "  .colab-df-spinner {\n",
              "    border: 2px solid var(--fill-color);\n",
              "    border-color: transparent;\n",
              "    border-bottom-color: var(--fill-color);\n",
              "    animation:\n",
              "      spin 1s steps(1) infinite;\n",
              "  }\n",
              "\n",
              "  @keyframes spin {\n",
              "    0% {\n",
              "      border-color: transparent;\n",
              "      border-bottom-color: var(--fill-color);\n",
              "      border-left-color: var(--fill-color);\n",
              "    }\n",
              "    20% {\n",
              "      border-color: transparent;\n",
              "      border-left-color: var(--fill-color);\n",
              "      border-top-color: var(--fill-color);\n",
              "    }\n",
              "    30% {\n",
              "      border-color: transparent;\n",
              "      border-left-color: var(--fill-color);\n",
              "      border-top-color: var(--fill-color);\n",
              "      border-right-color: var(--fill-color);\n",
              "    }\n",
              "    40% {\n",
              "      border-color: transparent;\n",
              "      border-right-color: var(--fill-color);\n",
              "      border-top-color: var(--fill-color);\n",
              "    }\n",
              "    60% {\n",
              "      border-color: transparent;\n",
              "      border-right-color: var(--fill-color);\n",
              "    }\n",
              "    80% {\n",
              "      border-color: transparent;\n",
              "      border-right-color: var(--fill-color);\n",
              "      border-bottom-color: var(--fill-color);\n",
              "    }\n",
              "    90% {\n",
              "      border-color: transparent;\n",
              "      border-bottom-color: var(--fill-color);\n",
              "    }\n",
              "  }\n",
              "</style>\n",
              "\n",
              "  <script>\n",
              "    async function quickchart(key) {\n",
              "      const quickchartButtonEl =\n",
              "        document.querySelector('#' + key + ' button');\n",
              "      quickchartButtonEl.disabled = true;  // To prevent multiple clicks.\n",
              "      quickchartButtonEl.classList.add('colab-df-spinner');\n",
              "      try {\n",
              "        const charts = await google.colab.kernel.invokeFunction(\n",
              "            'suggestCharts', [key], {});\n",
              "      } catch (error) {\n",
              "        console.error('Error during call to suggestCharts:', error);\n",
              "      }\n",
              "      quickchartButtonEl.classList.remove('colab-df-spinner');\n",
              "      quickchartButtonEl.classList.add('colab-df-quickchart-complete');\n",
              "    }\n",
              "    (() => {\n",
              "      let quickchartButtonEl =\n",
              "        document.querySelector('#df-90c1b74d-77e7-4069-9065-0ca290b18682 button');\n",
              "      quickchartButtonEl.style.display =\n",
              "        google.colab.kernel.accessAllowed ? 'block' : 'none';\n",
              "    })();\n",
              "  </script>\n",
              "</div>\n",
              "    </div>\n",
              "  </div>\n"
            ]
          },
          "metadata": {},
          "execution_count": 342
        }
      ]
    },
    {
      "cell_type": "code",
      "source": [
        "# масштабирование числовых признаков\n",
        "scaler = StandardScaler()\n",
        "num_features1 = ['Temperature', 'Wind_speed']\n",
        "new_data[num_features1] = scaler.fit_transform(new_data[num_features1])"
      ],
      "metadata": {
        "id": "vKCwBqMhnqOs"
      },
      "execution_count": null,
      "outputs": []
    },
    {
      "cell_type": "code",
      "source": [
        "new_data.info()"
      ],
      "metadata": {
        "colab": {
          "base_uri": "https://localhost:8080/"
        },
        "id": "V_5xmGi-5OvN",
        "outputId": "64588098-aa09-4b74-87ff-1dc8be6aa01a"
      },
      "execution_count": null,
      "outputs": [
        {
          "output_type": "stream",
          "name": "stdout",
          "text": [
            "<class 'pandas.core.frame.DataFrame'>\n",
            "RangeIndex: 5 entries, 0 to 4\n",
            "Data columns (total 7 columns):\n",
            " #   Column           Non-Null Count  Dtype  \n",
            "---  ------           --------------  -----  \n",
            " 0   Substation_name  5 non-null      int64  \n",
            " 1   Month_outage     5 non-null      int64  \n",
            " 2   Temperature      5 non-null      float64\n",
            " 3   Wind_speed       5 non-null      float64\n",
            " 4   Snow             5 non-null      int64  \n",
            " 5   Rain             5 non-null      int64  \n",
            " 6   Thunder          5 non-null      int64  \n",
            "dtypes: float64(2), int64(5)\n",
            "memory usage: 408.0 bytes\n"
          ]
        }
      ]
    },
    {
      "cell_type": "code",
      "source": [
        "# извлечение признаков из новых данных\n",
        "X_new = new_data[['Substation_name','Month_outage','Temperature', 'Wind_speed', 'Snow', 'Rain', 'Thunder']]"
      ],
      "metadata": {
        "id": "pmqNYRByotNW"
      },
      "execution_count": null,
      "outputs": []
    },
    {
      "cell_type": "code",
      "source": [
        "# прогнозирование на новых данных\n",
        "y_pred = model.predict(X_new)"
      ],
      "metadata": {
        "id": "0ubTVIwspP61"
      },
      "execution_count": null,
      "outputs": []
    },
    {
      "cell_type": "code",
      "source": [
        "print(y_pred)"
      ],
      "metadata": {
        "colab": {
          "base_uri": "https://localhost:8080/"
        },
        "id": "c778i0tsrHCe",
        "outputId": "e6fac4a2-0424-4480-c6f8-ba59f163e077"
      },
      "execution_count": null,
      "outputs": [
        {
          "output_type": "stream",
          "name": "stdout",
          "text": [
            "[1 0 1 0 1]\n"
          ]
        }
      ]
    },
    {
      "cell_type": "code",
      "source": [
        "accuracy = model.score(X_new, y_pred)\n",
        "print('Accuracy:', accuracy)"
      ],
      "metadata": {
        "colab": {
          "base_uri": "https://localhost:8080/"
        },
        "id": "IRWHckcLrSPJ",
        "outputId": "9fc9a9df-610b-4ed2-e9b5-407680cad2ee"
      },
      "execution_count": null,
      "outputs": [
        {
          "output_type": "stream",
          "name": "stdout",
          "text": [
            "Accuracy: 1.0\n"
          ]
        }
      ]
    },
    {
      "cell_type": "code",
      "source": [
        "# предсказание вероятностей и округление до двух знаков после запятой\n",
        "y_pred_proba =model.predict_proba(X_new)[:, 1]\n",
        "y_pred_proba_rounded = np.round(y_pred_proba, 2)\n",
        "# вывод результатов\n",
        "print(\"Predicted probabilities:\", y_pred_proba_rounded)"
      ],
      "metadata": {
        "colab": {
          "base_uri": "https://localhost:8080/"
        },
        "id": "zbHS2lAa_pbj",
        "outputId": "fa221c5a-b395-4118-ccf7-3b62489c736a"
      },
      "execution_count": null,
      "outputs": [
        {
          "output_type": "stream",
          "name": "stdout",
          "text": [
            "Predicted probabilities: [0.99 0.   0.95 0.32 0.98]\n"
          ]
        }
      ]
    }
  ]
}